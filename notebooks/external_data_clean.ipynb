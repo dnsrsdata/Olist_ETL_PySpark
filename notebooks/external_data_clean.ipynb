{
 "cells": [
  {
   "cell_type": "code",
   "execution_count": 2,
   "metadata": {},
   "outputs": [],
   "source": [
    "from pyspark.sql import SparkSession\n",
    "from pyspark.sql.functions import col, udf, explode\n",
    "from pyspark.sql.types import StringType, ArrayType"
   ]
  },
  {
   "cell_type": "code",
   "execution_count": 3,
   "metadata": {},
   "outputs": [
    {
     "name": "stderr",
     "output_type": "stream",
     "text": [
      "23/06/05 09:25:34 WARN Utils: Your hostname, daniel-VJFE43F11X-XXXXXX resolves to a loopback address: 127.0.1.1; using 192.168.0.157 instead (on interface wlo1)\n",
      "23/06/05 09:25:34 WARN Utils: Set SPARK_LOCAL_IP if you need to bind to another address\n",
      "Setting default log level to \"WARN\".\n",
      "To adjust logging level use sc.setLogLevel(newLevel). For SparkR, use setLogLevel(newLevel).\n",
      "23/06/05 09:25:36 WARN NativeCodeLoader: Unable to load native-hadoop library for your platform... using builtin-java classes where applicable\n"
     ]
    }
   ],
   "source": [
    "# Iniciando sessão no Spark\n",
    "spark = SparkSession.builder.appName('Cluster').getOrCreate()"
   ]
  },
  {
   "cell_type": "code",
   "execution_count": 4,
   "metadata": {},
   "outputs": [
    {
     "name": "stderr",
     "output_type": "stream",
     "text": [
      "                                                                                \r"
     ]
    }
   ],
   "source": [
    "# Importando dados\n",
    "dados_cep = spark.read.csv('../data/external/postcode_ranges.xlsx - Sheet1.csv', header=True, sep=',')"
   ]
  },
  {
   "cell_type": "code",
   "execution_count": 5,
   "metadata": {},
   "outputs": [
    {
     "name": "stdout",
     "output_type": "stream",
     "text": [
      "+-----+--------------------+--------------------+--------------------+--------------------+------------+--------------------+------------+--------------------+\n",
      "|state|            locality|      postcode_range|           situation|          range_type|        page|        fetched_from|fetched_date|    url_fetched_from|\n",
      "+-----+--------------------+--------------------+--------------------+--------------------+------------+--------------------+------------+--------------------+\n",
      "|   AC|          Acrelândia|69945-000 a 69949...|Não codificada po...|  Total do município|1 a 23 de 23|Busca Faixa CEP o...|  2022-02-13|https://buscacepi...|\n",
      "|   AC|        Assis Brasil|69935-000 a 69939...|Não codificada po...|  Total do município|1 a 23 de 23|Busca Faixa CEP o...|  2022-02-13|https://buscacepi...|\n",
      "|   AC|           Brasiléia|69932-000 a 69933...|Não codificada po...|  Total do município|1 a 23 de 23|Busca Faixa CEP o...|  2022-02-13|https://buscacepi...|\n",
      "|   AC|              Bujari|69926-000 a 69926...|Não codificada po...|  Total do município|1 a 23 de 23|Busca Faixa CEP o...|  2022-02-13|https://buscacepi...|\n",
      "|   AC|            Capixaba|69931-000 a 69931...|Não codificada po...|  Total do município|1 a 23 de 23|Busca Faixa CEP o...|  2022-02-13|https://buscacepi...|\n",
      "|   AC|     Cruzeiro do Sul|69980-000 a 69981...|Não codificada po...|  Total do município|1 a 23 de 23|Busca Faixa CEP o...|  2022-02-13|https://buscacepi...|\n",
      "|   AC|      Epitaciolândia|69934-000 a 69934...|Não codificada po...|  Total do município|1 a 23 de 23|Busca Faixa CEP o...|  2022-02-13|https://buscacepi...|\n",
      "|   AC|               Feijó|69960-000 a 69969...|Não codificada po...|  Total do município|1 a 23 de 23|Busca Faixa CEP o...|  2022-02-13|https://buscacepi...|\n",
      "|   AC|              Jordão|69975-000 a 69979...|Não codificada po...|  Total do município|1 a 23 de 23|Busca Faixa CEP o...|  2022-02-13|https://buscacepi...|\n",
      "|   AC|       Manoel Urbano|69950-000 a 69954...|Não codificada po...|  Total do município|1 a 23 de 23|Busca Faixa CEP o...|  2022-02-13|https://buscacepi...|\n",
      "|   AC|Marechal Thaumaturgo|69983-000 a 69984...|Não codificada po...|  Total do município|1 a 23 de 23|Busca Faixa CEP o...|  2022-02-13|https://buscacepi...|\n",
      "|   AC|         Mâncio Lima|69990-000 a 69999...|Não codificada po...|  Total do município|1 a 23 de 23|Busca Faixa CEP o...|  2022-02-13|https://buscacepi...|\n",
      "|   AC|   Plácido de Castro|69928-000 a 69929...|Não codificada po...|  Total do município|1 a 23 de 23|Busca Faixa CEP o...|  2022-02-13|https://buscacepi...|\n",
      "|   AC|          Porto Acre|69927-000 a 69927...|Não codificada po...|  Total do município|1 a 23 de 23|Busca Faixa CEP o...|  2022-02-13|https://buscacepi...|\n",
      "|   AC|        Porto Walter|69982-000 a 69982...|Não codificada po...|  Total do município|1 a 23 de 23|Busca Faixa CEP o...|  2022-02-13|https://buscacepi...|\n",
      "|   AC|          Rio Branco|69900-001 a 69924...|Codificado por lo...|  Total do município|1 a 23 de 23|Busca Faixa CEP o...|  2022-02-13|https://buscacepi...|\n",
      "|   AC|          Rio Branco|69900-001 a 69923...|Codificada por lo...|Exclusiva da sede...|1 a 23 de 23|Busca Faixa CEP o...|  2022-02-13|https://buscacepi...|\n",
      "|   AC|     Rodrigues Alves|69985-000 a 69989...|Não codificada po...|  Total do município|1 a 23 de 23|Busca Faixa CEP o...|  2022-02-13|https://buscacepi...|\n",
      "|   AC| Santa Rosa do Purus|69955-000 a 69959...|Não codificada po...|  Total do município|1 a 23 de 23|Busca Faixa CEP o...|  2022-02-13|https://buscacepi...|\n",
      "|   AC|      Sena Madureira|69940-000 a 69944...|Não codificada po...|  Total do município|1 a 23 de 23|Busca Faixa CEP o...|  2022-02-13|https://buscacepi...|\n",
      "+-----+--------------------+--------------------+--------------------+--------------------+------------+--------------------+------------+--------------------+\n",
      "only showing top 20 rows\n",
      "\n"
     ]
    }
   ],
   "source": [
    "# Vendo os dados\n",
    "dados_cep.show()"
   ]
  },
  {
   "attachments": {},
   "cell_type": "markdown",
   "metadata": {},
   "source": [
    "Desde conjunto, irei precisar apenas da localidade e do postcode. Para um resultado\n",
    "satisfatório, irei precisar remover o suffix do postcode, possibilitando assim o\n",
    "Join com outras tabelas que possuem apenas o prefixo da cidade.\n"
   ]
  },
  {
   "cell_type": "code",
   "execution_count": 6,
   "metadata": {},
   "outputs": [],
   "source": [
    "# Selecionando colunas\n",
    "dados_cep = dados_cep.select('locality', 'postcode_range')"
   ]
  },
  {
   "cell_type": "code",
   "execution_count": 7,
   "metadata": {},
   "outputs": [],
   "source": [
    "# Criando funções para separar os CEPs\n",
    "func_ceps = lambda cep: cep.split(' a ')\n",
    "func_remove_sufix = lambda cep: [cep[0].split('-')[0], cep[1].split('-')[0]]\n",
    "func_busca_todos_ceps = lambda cep: [cep for cep in range(int(cep[0]), int(cep[1])+1)]\n",
    "\n",
    "# Criando UDFs\n",
    "ceps_udf = udf(func_ceps, StringType())\n",
    "prefix_cep = udf(func_remove_sufix, StringType())\n",
    "todos_os_ceps = udf(func_busca_todos_ceps, ArrayType(StringType()))"
   ]
  },
  {
   "cell_type": "code",
   "execution_count": 8,
   "metadata": {},
   "outputs": [],
   "source": [
    "# Aplicando as funções\n",
    "dados_cep = dados_cep.withColumn('ceps', ceps_udf('postcode_range'))\n",
    "dados_cep = dados_cep.withColumn('cep_prefixes', prefix_cep('ceps'))\n",
    "dados_cep = dados_cep.withColumn('todos_cep_prefix', todos_os_ceps('cep_prefixes'))"
   ]
  },
  {
   "cell_type": "code",
   "execution_count": 9,
   "metadata": {},
   "outputs": [],
   "source": [
    "# Criando uma linha com cada CEP\n",
    "dados_to_save = dados_cep.select(dados_cep.locality, explode(dados_cep.todos_cep_prefix).alias('cep_prefix'))"
   ]
  },
  {
   "cell_type": "code",
   "execution_count": 10,
   "metadata": {},
   "outputs": [
    {
     "name": "stderr",
     "output_type": "stream",
     "text": [
      "[Stage 2:>                                                          (0 + 1) / 1]\r"
     ]
    },
    {
     "name": "stdout",
     "output_type": "stream",
     "text": [
      "+---------------+----------+\n",
      "|       locality|cep_prefix|\n",
      "+---------------+----------+\n",
      "|     Acrelândia|     69945|\n",
      "|     Acrelândia|     69946|\n",
      "|     Acrelândia|     69947|\n",
      "|     Acrelândia|     69948|\n",
      "|     Acrelândia|     69949|\n",
      "|   Assis Brasil|     69935|\n",
      "|   Assis Brasil|     69936|\n",
      "|   Assis Brasil|     69937|\n",
      "|   Assis Brasil|     69938|\n",
      "|   Assis Brasil|     69939|\n",
      "|      Brasiléia|     69932|\n",
      "|      Brasiléia|     69933|\n",
      "|         Bujari|     69926|\n",
      "|       Capixaba|     69931|\n",
      "|Cruzeiro do Sul|     69980|\n",
      "|Cruzeiro do Sul|     69981|\n",
      "| Epitaciolândia|     69934|\n",
      "|          Feijó|     69960|\n",
      "|          Feijó|     69961|\n",
      "|          Feijó|     69962|\n",
      "+---------------+----------+\n",
      "only showing top 20 rows\n",
      "\n"
     ]
    },
    {
     "name": "stderr",
     "output_type": "stream",
     "text": [
      "                                                                                \r"
     ]
    }
   ],
   "source": [
    "dados_to_save.show()"
   ]
  },
  {
   "cell_type": "code",
   "execution_count": 12,
   "metadata": {},
   "outputs": [
    {
     "name": "stderr",
     "output_type": "stream",
     "text": [
      "                                                                                \r"
     ]
    }
   ],
   "source": [
    "# Salvando os dados no formato parquet\n",
    "dados_to_save.write.parquet('../data/external/cep_prefixes_processed.parquet', mode='overwrite')"
   ]
  }
 ],
 "metadata": {
  "kernelspec": {
   "display_name": "venv",
   "language": "python",
   "name": "python3"
  },
  "language_info": {
   "codemirror_mode": {
    "name": "ipython",
    "version": 3
   },
   "file_extension": ".py",
   "mimetype": "text/x-python",
   "name": "python",
   "nbconvert_exporter": "python",
   "pygments_lexer": "ipython3",
   "version": "3.10.6"
  },
  "orig_nbformat": 4
 },
 "nbformat": 4,
 "nbformat_minor": 2
}
