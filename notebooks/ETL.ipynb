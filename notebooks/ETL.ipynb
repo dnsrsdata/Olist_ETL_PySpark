{
 "cells": [
  {
   "cell_type": "code",
   "execution_count": 1,
   "metadata": {
    "ExecuteTime": {
     "end_time": "2023-05-24T00:03:52.750487784Z",
     "start_time": "2023-05-24T00:03:52.460782125Z"
    }
   },
   "outputs": [],
   "source": [
    "# Importando as bibliotecas\n",
    "import re\n",
    "import mysql.connector\n",
    "from pyspark.sql import SparkSession\n",
    "from pyspark.sql.functions import udf, col, lower, to_timestamp, month, hour, datediff, dayofweek\n",
    "from pyspark.sql.types import StringType\n",
    "from pyspark.ml.feature import Tokenizer"
   ]
  },
  {
   "attachments": {},
   "cell_type": "markdown",
   "metadata": {},
   "source": [
    "## Carregando os dados\n",
    "Nesta etapa, irei carregar os dados."
   ]
  },
  {
   "cell_type": "code",
   "execution_count": 2,
   "metadata": {
    "ExecuteTime": {
     "end_time": "2023-05-24T00:03:56.278853837Z",
     "start_time": "2023-05-24T00:03:52.751734942Z"
    }
   },
   "outputs": [
    {
     "name": "stderr",
     "output_type": "stream",
     "text": [
      "23/06/01 16:09:33 WARN Utils: Your hostname, daniel-VJFE43F11X-XXXXXX resolves to a loopback address: 127.0.1.1; using 192.168.0.157 instead (on interface wlo1)\n",
      "23/06/01 16:09:33 WARN Utils: Set SPARK_LOCAL_IP if you need to bind to another address\n",
      "Setting default log level to \"WARN\".\n",
      "To adjust logging level use sc.setLogLevel(newLevel). For SparkR, use setLogLevel(newLevel).\n",
      "23/06/01 16:09:34 WARN NativeCodeLoader: Unable to load native-hadoop library for your platform... using builtin-java classes where applicable\n"
     ]
    }
   ],
   "source": [
    "# Iniciando sessão no Spark\n",
    "spark = SparkSession.builder.appName('Cluster').getOrCreate()\n"
   ]
  },
  {
   "cell_type": "code",
   "execution_count": 3,
   "metadata": {
    "ExecuteTime": {
     "end_time": "2023-05-24T00:04:01.774299728Z",
     "start_time": "2023-05-24T00:03:56.284121576Z"
    }
   },
   "outputs": [
    {
     "name": "stderr",
     "output_type": "stream",
     "text": [
      "                                                                                \r"
     ]
    }
   ],
   "source": [
    "# Lendos os dados csv\n",
    "customers = spark.read.csv(\"../data/raw/olist_customers_dataset.csv\", header=True)\n",
    "geolocalization = spark.read.csv(\"../data/raw/olist_geolocation_dataset.csv\", header=True)\n",
    "order_items = spark.read.csv(\"../data/raw/olist_order_items_dataset.csv\", header=True)\n",
    "order_payments = spark.read.csv(\"../data/raw/olist_order_payments_dataset.csv\", header=True)\n",
    "order_reviews = spark.read.csv(\"../data/raw/olist_order_reviews_dataset.csv\", header=True)\n",
    "orders = spark.read.csv(\"../data/raw/olist_orders_dataset.csv\", header=True)\n",
    "products = spark.read.csv(\"../data/raw/olist_products_dataset.csv\", header=True)\n",
    "sellers = spark.read.csv(\"../data/raw/olist_sellers_dataset.csv\", header=True)\n",
    "product_category = spark.read.csv(\"../data/raw/product_category_name_translation.csv\", header=True)\n",
    "\n",
    "# Lendo os dados externos\n",
    "ceps = spark.read.parquet(\"../data/external/cep_prefixes_processed.parquet\")"
   ]
  },
  {
   "attachments": {},
   "cell_type": "markdown",
   "metadata": {},
   "source": [
    "## Transformando os dados\n",
    "Nesta etapa, irei realizar uma série de transformações nas tabelas de forma individual, realizando tratamento específico para cada uma. Além disso, também irei gerar metadados, especificando o schema e descrição de cada coluna da tabela."
   ]
  },
  {
   "attachments": {},
   "cell_type": "markdown",
   "metadata": {},
   "source": [
    "### Criando tabelas temporárias"
   ]
  },
  {
   "cell_type": "code",
   "execution_count": 4,
   "metadata": {
    "ExecuteTime": {
     "end_time": "2023-05-24T00:04:01.889377820Z",
     "start_time": "2023-05-24T00:04:01.777051838Z"
    }
   },
   "outputs": [],
   "source": [
    "# Criando tabelas temporárias\n",
    "customers.createOrReplaceTempView(\"customers\")\n",
    "geolocalization.createOrReplaceTempView('geolocalization')\n",
    "order_items.createOrReplaceTempView('order_items')\n",
    "order_payments.createOrReplaceTempView('order_payments')\n",
    "order_reviews.createOrReplaceTempView('order_reviews')\n",
    "orders.createOrReplaceTempView('orders')\n",
    "products.createOrReplaceTempView('products')\n",
    "sellers.createOrReplaceTempView('sellers')\n",
    "product_category.createOrReplaceTempView('product_category')\n",
    "ceps.createOrReplaceTempView('ceps')"
   ]
  },
  {
   "attachments": {},
   "cell_type": "markdown",
   "metadata": {},
   "source": [
    "## customers"
   ]
  },
  {
   "cell_type": "code",
   "execution_count": 5,
   "metadata": {},
   "outputs": [
    {
     "name": "stdout",
     "output_type": "stream",
     "text": [
      "+--------------------+--------------------+------------------------+--------------------+--------------+\n",
      "|         customer_id|  customer_unique_id|customer_zip_code_prefix|       customer_city|customer_state|\n",
      "+--------------------+--------------------+------------------------+--------------------+--------------+\n",
      "|06b8999e2fba1a1fb...|861eff4711a542e4b...|                   14409|              franca|            SP|\n",
      "|18955e83d337fd6b2...|290c77bc529b7ac93...|                   09790|sao bernardo do c...|            SP|\n",
      "|4e7b3e00288586ebd...|060e732b5b29e8181...|                   01151|           sao paulo|            SP|\n",
      "|b2b6027bc5c5109e5...|259dac757896d24d7...|                   08775|     mogi das cruzes|            SP|\n",
      "|4f2d8ab171c80ec83...|345ecd01c38d18a90...|                   13056|            campinas|            SP|\n",
      "+--------------------+--------------------+------------------------+--------------------+--------------+\n",
      "\n"
     ]
    }
   ],
   "source": [
    "# Antes de decidir as mudanças, devemos checar as primeiras linhas\n",
    "spark.sql(\"SELECT *  FROM customers LIMIT 5\").show()"
   ]
  },
  {
   "cell_type": "code",
   "execution_count": 6,
   "metadata": {},
   "outputs": [
    {
     "name": "stdout",
     "output_type": "stream",
     "text": [
      "root\n",
      " |-- customer_id: string (nullable = true)\n",
      " |-- customer_unique_id: string (nullable = true)\n",
      " |-- customer_zip_code_prefix: string (nullable = true)\n",
      " |-- customer_city: string (nullable = true)\n",
      " |-- customer_state: string (nullable = true)\n",
      "\n"
     ]
    }
   ],
   "source": [
    "# Agora veremos o schema para verificar se o dado condiz com o seu tipo\n",
    "customers.printSchema()"
   ]
  },
  {
   "cell_type": "code",
   "execution_count": 7,
   "metadata": {},
   "outputs": [
    {
     "name": "stderr",
     "output_type": "stream",
     "text": [
      "                                                                                \r"
     ]
    },
    {
     "data": {
      "text/plain": [
       "[Row(customer_state='SC'),\n",
       " Row(customer_state='RO'),\n",
       " Row(customer_state='PI'),\n",
       " Row(customer_state='AM'),\n",
       " Row(customer_state='RR'),\n",
       " Row(customer_state='GO'),\n",
       " Row(customer_state='TO'),\n",
       " Row(customer_state='MT'),\n",
       " Row(customer_state='SP'),\n",
       " Row(customer_state='ES'),\n",
       " Row(customer_state='PB'),\n",
       " Row(customer_state='RS'),\n",
       " Row(customer_state='MS'),\n",
       " Row(customer_state='AL'),\n",
       " Row(customer_state='MG'),\n",
       " Row(customer_state='PA'),\n",
       " Row(customer_state='BA'),\n",
       " Row(customer_state='SE'),\n",
       " Row(customer_state='PE'),\n",
       " Row(customer_state='CE'),\n",
       " Row(customer_state='RN'),\n",
       " Row(customer_state='RJ'),\n",
       " Row(customer_state='MA'),\n",
       " Row(customer_state='AC'),\n",
       " Row(customer_state='DF'),\n",
       " Row(customer_state='PR'),\n",
       " Row(customer_state='AP')]"
      ]
     },
     "execution_count": 7,
     "metadata": {},
     "output_type": "execute_result"
    }
   ],
   "source": [
    "# Verificando se há inconsistencias nos valores unicos da coluna customer_state\n",
    "customers.select('customer_state').distinct().collect()"
   ]
  },
  {
   "cell_type": "code",
   "execution_count": 8,
   "metadata": {},
   "outputs": [
    {
     "data": {
      "text/plain": [
       "[Row(customer_city='franca'),\n",
       " Row(customer_city='sao bernardo do campo'),\n",
       " Row(customer_city='sao paulo'),\n",
       " Row(customer_city='mogi das cruzes'),\n",
       " Row(customer_city='campinas'),\n",
       " Row(customer_city='jaragua do sul'),\n",
       " Row(customer_city='sao paulo'),\n",
       " Row(customer_city='timoteo'),\n",
       " Row(customer_city='curitiba'),\n",
       " Row(customer_city='belo horizonte'),\n",
       " Row(customer_city='montes claros'),\n",
       " Row(customer_city='rio de janeiro'),\n",
       " Row(customer_city='lencois paulista'),\n",
       " Row(customer_city='sao paulo'),\n",
       " Row(customer_city='caxias do sul'),\n",
       " Row(customer_city='piracicaba'),\n",
       " Row(customer_city='rio de janeiro'),\n",
       " Row(customer_city='guarulhos'),\n",
       " Row(customer_city='sao paulo'),\n",
       " Row(customer_city='pacaja'),\n",
       " Row(customer_city='florianopolis'),\n",
       " Row(customer_city='aparecida de goiania'),\n",
       " Row(customer_city='sao paulo'),\n",
       " Row(customer_city='curitiba'),\n",
       " Row(customer_city='sao paulo'),\n",
       " Row(customer_city='santo andre'),\n",
       " Row(customer_city='goiania'),\n",
       " Row(customer_city='sao paulo'),\n",
       " Row(customer_city='cachoeiro de itapemirim'),\n",
       " Row(customer_city='sao paulo'),\n",
       " Row(customer_city='sao jose dos campos'),\n",
       " Row(customer_city='sao roque'),\n",
       " Row(customer_city='camacari'),\n",
       " Row(customer_city='resende'),\n",
       " Row(customer_city='curitiba'),\n",
       " Row(customer_city='sumare'),\n",
       " Row(customer_city='guarulhos'),\n",
       " Row(customer_city='novo hamburgo'),\n",
       " Row(customer_city='sao luis'),\n",
       " Row(customer_city='sao jose'),\n",
       " Row(customer_city='guarulhos'),\n",
       " Row(customer_city='santa barbara'),\n",
       " Row(customer_city='sao paulo'),\n",
       " Row(customer_city='guarulhos'),\n",
       " Row(customer_city='ribeirao preto'),\n",
       " Row(customer_city='belo horizonte'),\n",
       " Row(customer_city='ituiutaba'),\n",
       " Row(customer_city='taquarituba'),\n",
       " Row(customer_city='sao jose dos pinhais'),\n",
       " Row(customer_city='jaragua do sul'),\n",
       " Row(customer_city='sao paulo'),\n",
       " Row(customer_city='montes claros'),\n",
       " Row(customer_city='barrinha'),\n",
       " Row(customer_city='rio de janeiro'),\n",
       " Row(customer_city='parati'),\n",
       " Row(customer_city='dourados'),\n",
       " Row(customer_city='sao paulo'),\n",
       " Row(customer_city='trindade'),\n",
       " Row(customer_city='cascavel'),\n",
       " Row(customer_city='fortaleza'),\n",
       " Row(customer_city='brasilia'),\n",
       " Row(customer_city='sao paulo'),\n",
       " Row(customer_city='pelotas'),\n",
       " Row(customer_city='porto alegre'),\n",
       " Row(customer_city='rio de janeiro'),\n",
       " Row(customer_city='salto'),\n",
       " Row(customer_city='belo horizonte'),\n",
       " Row(customer_city='jundiai'),\n",
       " Row(customer_city='cachoeiro de itapemirim'),\n",
       " Row(customer_city='cacapava'),\n",
       " Row(customer_city='fortaleza'),\n",
       " Row(customer_city='sao vicente'),\n",
       " Row(customer_city='uberlandia'),\n",
       " Row(customer_city='botelhos'),\n",
       " Row(customer_city='sao goncalo'),\n",
       " Row(customer_city='sao paulo'),\n",
       " Row(customer_city='sao paulo'),\n",
       " Row(customer_city='araucaria'),\n",
       " Row(customer_city='sao vicente'),\n",
       " Row(customer_city='nova iguacu'),\n",
       " Row(customer_city='sao paulo'),\n",
       " Row(customer_city='areia branca'),\n",
       " Row(customer_city='sao paulo'),\n",
       " Row(customer_city='campos dos goytacazes'),\n",
       " Row(customer_city='sao carlos'),\n",
       " Row(customer_city='sao paulo'),\n",
       " Row(customer_city='itajuba'),\n",
       " Row(customer_city='porto alegre'),\n",
       " Row(customer_city='sao bernardo do campo'),\n",
       " Row(customer_city='salto'),\n",
       " Row(customer_city='cruz das almas'),\n",
       " Row(customer_city='vassouras'),\n",
       " Row(customer_city='feira de santana'),\n",
       " Row(customer_city='sao paulo'),\n",
       " Row(customer_city='brasilia'),\n",
       " Row(customer_city='sao carlos'),\n",
       " Row(customer_city='sao paulo'),\n",
       " Row(customer_city='sao paulo'),\n",
       " Row(customer_city='niteroi'),\n",
       " Row(customer_city='sao luis'),\n",
       " Row(customer_city='sao paulo'),\n",
       " Row(customer_city='sao paulo'),\n",
       " Row(customer_city='jaragua do sul'),\n",
       " Row(customer_city='sobral'),\n",
       " Row(customer_city='divinopolis'),\n",
       " Row(customer_city='mogi das cruzes'),\n",
       " Row(customer_city='brasilia'),\n",
       " Row(customer_city='sao paulo'),\n",
       " Row(customer_city='sao paulo'),\n",
       " Row(customer_city='paraiba do sul'),\n",
       " Row(customer_city='paulista'),\n",
       " Row(customer_city='sao paulo'),\n",
       " Row(customer_city='carapicuiba'),\n",
       " Row(customer_city='sao paulo'),\n",
       " Row(customer_city='bom principio'),\n",
       " Row(customer_city='sao paulo'),\n",
       " Row(customer_city='astolfo dutra'),\n",
       " Row(customer_city='curitiba'),\n",
       " Row(customer_city='belo horizonte'),\n",
       " Row(customer_city='marialva'),\n",
       " Row(customer_city='sao paulo'),\n",
       " Row(customer_city='sao jose do rio preto'),\n",
       " Row(customer_city='cabo frio'),\n",
       " Row(customer_city='contagem'),\n",
       " Row(customer_city='uberlandia'),\n",
       " Row(customer_city='cafeara'),\n",
       " Row(customer_city='porto alegre'),\n",
       " Row(customer_city='sao joaquim da barra'),\n",
       " Row(customer_city='foz do iguacu'),\n",
       " Row(customer_city='belo horizonte'),\n",
       " Row(customer_city='sao bernardo do campo'),\n",
       " Row(customer_city='sao goncalo'),\n",
       " Row(customer_city='suzano'),\n",
       " Row(customer_city='guarulhos'),\n",
       " Row(customer_city='timbo'),\n",
       " Row(customer_city='camboriu'),\n",
       " Row(customer_city='nova bassano'),\n",
       " Row(customer_city='rio grande'),\n",
       " Row(customer_city='brasilia'),\n",
       " Row(customer_city='braganca paulista'),\n",
       " Row(customer_city='barra do garcas'),\n",
       " Row(customer_city='sao paulo'),\n",
       " Row(customer_city='embu'),\n",
       " Row(customer_city='sao bernardo do campo'),\n",
       " Row(customer_city='brasilia'),\n",
       " Row(customer_city='urussanga'),\n",
       " Row(customer_city='silvianopolis'),\n",
       " Row(customer_city='sao paulo'),\n",
       " Row(customer_city='gameleiras'),\n",
       " Row(customer_city='belem'),\n",
       " Row(customer_city='pocos de caldas'),\n",
       " Row(customer_city='contagem'),\n",
       " Row(customer_city='santos'),\n",
       " Row(customer_city='piracaia'),\n",
       " Row(customer_city='rio de janeiro'),\n",
       " Row(customer_city='santos'),\n",
       " Row(customer_city='sinop'),\n",
       " Row(customer_city='guaruja'),\n",
       " Row(customer_city='barueri'),\n",
       " Row(customer_city='sao paulo'),\n",
       " Row(customer_city='feliz'),\n",
       " Row(customer_city='sao paulo'),\n",
       " Row(customer_city='belo horizonte'),\n",
       " Row(customer_city='jambeiro'),\n",
       " Row(customer_city='sao jose do rio preto'),\n",
       " Row(customer_city='ipatinga'),\n",
       " Row(customer_city='tupa'),\n",
       " Row(customer_city='sao paulo'),\n",
       " Row(customer_city='brasilia'),\n",
       " Row(customer_city='blumenau'),\n",
       " Row(customer_city='moncoes'),\n",
       " Row(customer_city='rio de janeiro'),\n",
       " Row(customer_city='sao paulo'),\n",
       " Row(customer_city='balneario camboriu'),\n",
       " Row(customer_city='rio de janeiro'),\n",
       " Row(customer_city='sao paulo'),\n",
       " Row(customer_city='vargem grande'),\n",
       " Row(customer_city='rio brilhante'),\n",
       " Row(customer_city='eugenopolis'),\n",
       " Row(customer_city='belem'),\n",
       " Row(customer_city='sao jose do rio preto'),\n",
       " Row(customer_city='paulinia'),\n",
       " Row(customer_city='sao paulo'),\n",
       " Row(customer_city='jundiai'),\n",
       " Row(customer_city='sao paulo'),\n",
       " Row(customer_city='santo andre'),\n",
       " Row(customer_city='sao jose dos campos'),\n",
       " Row(customer_city='rio de janeiro'),\n",
       " Row(customer_city='campinas'),\n",
       " Row(customer_city='belo horizonte'),\n",
       " Row(customer_city='apucarana'),\n",
       " Row(customer_city='recife'),\n",
       " Row(customer_city='osasco'),\n",
       " Row(customer_city='valinhos'),\n",
       " Row(customer_city='santo andre'),\n",
       " Row(customer_city='manaus'),\n",
       " Row(customer_city='cidreira'),\n",
       " Row(customer_city='rio de janeiro'),\n",
       " Row(customer_city='santiago'),\n",
       " Row(customer_city='sao paulo'),\n",
       " Row(customer_city='sao sepe'),\n",
       " Row(customer_city='alta floresta'),\n",
       " Row(customer_city='guarulhos'),\n",
       " Row(customer_city='jaboatao dos guararapes'),\n",
       " Row(customer_city='sao paulo'),\n",
       " Row(customer_city='ibatiba'),\n",
       " Row(customer_city='hortolandia'),\n",
       " Row(customer_city='sao paulo'),\n",
       " Row(customer_city='cotia'),\n",
       " Row(customer_city='macae'),\n",
       " Row(customer_city='saudades'),\n",
       " Row(customer_city='rio de janeiro'),\n",
       " Row(customer_city='macapa'),\n",
       " Row(customer_city='salto de pirapora'),\n",
       " Row(customer_city='taboao da serra'),\n",
       " Row(customer_city='bom jesus'),\n",
       " Row(customer_city='caxias do sul'),\n",
       " Row(customer_city='uberlandia'),\n",
       " Row(customer_city='santa cruz do rio pardo'),\n",
       " Row(customer_city='diadema'),\n",
       " Row(customer_city='santa ines'),\n",
       " Row(customer_city='rio de janeiro'),\n",
       " Row(customer_city='serrinha'),\n",
       " Row(customer_city='votorantim'),\n",
       " Row(customer_city='hortolandia'),\n",
       " Row(customer_city='itatiaia'),\n",
       " Row(customer_city='duque de caxias'),\n",
       " Row(customer_city='varre-sai'),\n",
       " Row(customer_city='rio de janeiro'),\n",
       " Row(customer_city='caxias do sul'),\n",
       " Row(customer_city='rio de janeiro'),\n",
       " Row(customer_city='vila velha'),\n",
       " Row(customer_city='campinas'),\n",
       " Row(customer_city='mangaratiba'),\n",
       " Row(customer_city='atibaia'),\n",
       " Row(customer_city='sao paulo'),\n",
       " Row(customer_city='salvador'),\n",
       " Row(customer_city='maceio'),\n",
       " Row(customer_city='porto alegre'),\n",
       " Row(customer_city='rio de janeiro'),\n",
       " Row(customer_city='birigui'),\n",
       " Row(customer_city='franca'),\n",
       " Row(customer_city='petropolis'),\n",
       " Row(customer_city='niteroi'),\n",
       " Row(customer_city='porto alegre'),\n",
       " Row(customer_city='sao pedro'),\n",
       " Row(customer_city='jaguariaiva'),\n",
       " Row(customer_city='rio de janeiro'),\n",
       " Row(customer_city='franco da rocha'),\n",
       " Row(customer_city='sao paulo'),\n",
       " Row(customer_city='brasilia'),\n",
       " Row(customer_city='cacapava'),\n",
       " Row(customer_city='jundiai'),\n",
       " Row(customer_city='salvador'),\n",
       " Row(customer_city='pindamonhangaba'),\n",
       " Row(customer_city='irati'),\n",
       " Row(customer_city='ribeira'),\n",
       " Row(customer_city='ipatinga'),\n",
       " Row(customer_city='sao paulo'),\n",
       " Row(customer_city='barbacena'),\n",
       " Row(customer_city='limoeiro'),\n",
       " Row(customer_city='espigao do oeste'),\n",
       " Row(customer_city='belford roxo'),\n",
       " Row(customer_city='sao jose dos campos'),\n",
       " Row(customer_city='brasilia'),\n",
       " Row(customer_city='coronel fabriciano'),\n",
       " Row(customer_city='diadema'),\n",
       " Row(customer_city='brasilia'),\n",
       " Row(customer_city='brasilia'),\n",
       " Row(customer_city='itanhaem'),\n",
       " Row(customer_city='goiania'),\n",
       " Row(customer_city='bebedouro'),\n",
       " Row(customer_city='americana'),\n",
       " Row(customer_city='salvador'),\n",
       " Row(customer_city='uba'),\n",
       " Row(customer_city='arapongas'),\n",
       " Row(customer_city='vinhedo'),\n",
       " Row(customer_city='itajai'),\n",
       " Row(customer_city='dourados'),\n",
       " Row(customer_city='bauru'),\n",
       " Row(customer_city='pradopolis'),\n",
       " Row(customer_city='sao paulo'),\n",
       " Row(customer_city='aripuana'),\n",
       " Row(customer_city='braganca paulista'),\n",
       " Row(customer_city='sao paulo'),\n",
       " Row(customer_city='guaratinga'),\n",
       " Row(customer_city='sao paulo'),\n",
       " Row(customer_city='ponta pora'),\n",
       " Row(customer_city='aracatuba'),\n",
       " Row(customer_city='volta redonda'),\n",
       " Row(customer_city='maringa'),\n",
       " Row(customer_city='guarulhos'),\n",
       " Row(customer_city='sao paulo'),\n",
       " Row(customer_city='sao paulo'),\n",
       " Row(customer_city='araraquara'),\n",
       " Row(customer_city='matipo'),\n",
       " Row(customer_city='niteroi'),\n",
       " Row(customer_city='barbacena'),\n",
       " Row(customer_city='porto alegre'),\n",
       " Row(customer_city='santo antonio da patrulha'),\n",
       " Row(customer_city='sao paulo'),\n",
       " Row(customer_city='porto alegre'),\n",
       " Row(customer_city='barra mansa'),\n",
       " Row(customer_city='fortaleza'),\n",
       " Row(customer_city='diamantina'),\n",
       " Row(customer_city='belo horizonte'),\n",
       " Row(customer_city='brasilia'),\n",
       " Row(customer_city='maringa'),\n",
       " Row(customer_city='salvador'),\n",
       " Row(customer_city='sao paulo'),\n",
       " Row(customer_city='macae'),\n",
       " Row(customer_city='sao paulo'),\n",
       " Row(customer_city='mairinque'),\n",
       " Row(customer_city='belo horizonte'),\n",
       " Row(customer_city='capitao leonidas marques'),\n",
       " Row(customer_city='rio de janeiro'),\n",
       " Row(customer_city='sao sebastiao do paraiso'),\n",
       " Row(customer_city='rio de janeiro'),\n",
       " Row(customer_city='petropolis'),\n",
       " Row(customer_city='sao paulo'),\n",
       " Row(customer_city='sao paulo'),\n",
       " Row(customer_city='sao paulo'),\n",
       " Row(customer_city='piracicaba'),\n",
       " Row(customer_city='belford roxo'),\n",
       " Row(customer_city='brasilia'),\n",
       " Row(customer_city='goiania'),\n",
       " Row(customer_city='rosario do sul'),\n",
       " Row(customer_city='itaguai'),\n",
       " Row(customer_city='sao paulo'),\n",
       " Row(customer_city='guaruja'),\n",
       " Row(customer_city='paraopeba'),\n",
       " Row(customer_city='santo andre'),\n",
       " Row(customer_city='campinas'),\n",
       " Row(customer_city='sao paulo'),\n",
       " Row(customer_city='rio de janeiro'),\n",
       " Row(customer_city='belo horizonte'),\n",
       " Row(customer_city='guarapuava'),\n",
       " Row(customer_city='crisolita'),\n",
       " Row(customer_city='pirai'),\n",
       " Row(customer_city='maceio'),\n",
       " Row(customer_city='linhares'),\n",
       " Row(customer_city='agudos'),\n",
       " Row(customer_city='sao paulo'),\n",
       " Row(customer_city='sao paulo'),\n",
       " Row(customer_city='rio de janeiro'),\n",
       " Row(customer_city='sao joao de meriti'),\n",
       " Row(customer_city='sao paulo'),\n",
       " Row(customer_city='rio de janeiro'),\n",
       " Row(customer_city='navegantes'),\n",
       " Row(customer_city='pirassununga'),\n",
       " Row(customer_city='sao bernardo do campo'),\n",
       " Row(customer_city='faxinal dos guedes'),\n",
       " Row(customer_city='guarulhos'),\n",
       " Row(customer_city='brasilia'),\n",
       " Row(customer_city='brasilia'),\n",
       " Row(customer_city='criciuma'),\n",
       " Row(customer_city='nova venecia'),\n",
       " Row(customer_city='passo fundo'),\n",
       " Row(customer_city='sao paulo'),\n",
       " Row(customer_city='uberlandia'),\n",
       " Row(customer_city='carapicuiba'),\n",
       " Row(customer_city='rio de janeiro'),\n",
       " Row(customer_city='ibia'),\n",
       " Row(customer_city='aparecida de goiania'),\n",
       " Row(customer_city='sao paulo'),\n",
       " Row(customer_city='santos'),\n",
       " Row(customer_city='manhuacu'),\n",
       " Row(customer_city='sumare'),\n",
       " Row(customer_city='altamira'),\n",
       " Row(customer_city='goiania'),\n",
       " Row(customer_city='rio de janeiro'),\n",
       " Row(customer_city='sao jose'),\n",
       " Row(customer_city='sao paulo'),\n",
       " Row(customer_city='aperibe'),\n",
       " Row(customer_city='sao vicente'),\n",
       " Row(customer_city='aracatuba'),\n",
       " Row(customer_city='cuiaba'),\n",
       " Row(customer_city='canoas'),\n",
       " Row(customer_city='contagem'),\n",
       " Row(customer_city='belo horizonte'),\n",
       " Row(customer_city='sao paulo'),\n",
       " Row(customer_city='belo horizonte'),\n",
       " Row(customer_city='cubatao'),\n",
       " Row(customer_city='maringa'),\n",
       " Row(customer_city='sao paulo'),\n",
       " Row(customer_city='campo limpo paulista'),\n",
       " Row(customer_city='cambe'),\n",
       " Row(customer_city='itaquaquecetuba'),\n",
       " Row(customer_city='sao caetano do sul'),\n",
       " Row(customer_city='sao jose dos campos'),\n",
       " Row(customer_city='sao paulo'),\n",
       " Row(customer_city='sao paulo'),\n",
       " Row(customer_city='montes claros'),\n",
       " Row(customer_city='salvador'),\n",
       " Row(customer_city='belo horizonte'),\n",
       " Row(customer_city='niteroi'),\n",
       " Row(customer_city='rio de janeiro'),\n",
       " Row(customer_city='guarulhos'),\n",
       " Row(customer_city='sao paulo'),\n",
       " Row(customer_city='sao goncalo do rio abaixo'),\n",
       " Row(customer_city='rolandia'),\n",
       " Row(customer_city='tres coracoes'),\n",
       " Row(customer_city='cacapava do sul'),\n",
       " Row(customer_city='sao paulo'),\n",
       " Row(customer_city='sao paulo'),\n",
       " Row(customer_city='sao paulo'),\n",
       " Row(customer_city='ribeirao preto'),\n",
       " Row(customer_city='sao goncalo'),\n",
       " Row(customer_city='sao joao nepomuceno'),\n",
       " Row(customer_city='cotia'),\n",
       " Row(customer_city='niteroi'),\n",
       " Row(customer_city='canoas'),\n",
       " Row(customer_city='rio de janeiro'),\n",
       " Row(customer_city='goiania'),\n",
       " Row(customer_city='leme'),\n",
       " Row(customer_city='araras'),\n",
       " Row(customer_city='jundiai'),\n",
       " Row(customer_city='cortes'),\n",
       " Row(customer_city='ipatinga'),\n",
       " Row(customer_city='sao paulo'),\n",
       " Row(customer_city='ribeirao preto'),\n",
       " Row(customer_city='brusque'),\n",
       " Row(customer_city='fortaleza'),\n",
       " Row(customer_city='montenegro'),\n",
       " Row(customer_city='itaberai'),\n",
       " Row(customer_city='pindamonhangaba'),\n",
       " Row(customer_city='brasilia'),\n",
       " Row(customer_city='santa rosa de viterbo'),\n",
       " Row(customer_city='agua fria de goias'),\n",
       " Row(customer_city='santos'),\n",
       " Row(customer_city='marau'),\n",
       " Row(customer_city='curvelo'),\n",
       " Row(customer_city='niteroi'),\n",
       " Row(customer_city='juiz de fora'),\n",
       " Row(customer_city='uberlandia'),\n",
       " Row(customer_city='mogi-guacu'),\n",
       " Row(customer_city='niteroi'),\n",
       " Row(customer_city='sao paulo'),\n",
       " Row(customer_city='sao paulo'),\n",
       " Row(customer_city='sao paulo'),\n",
       " Row(customer_city='sao paulo'),\n",
       " Row(customer_city='belo horizonte'),\n",
       " Row(customer_city='osasco'),\n",
       " Row(customer_city='sao paulo'),\n",
       " Row(customer_city='guaratingueta'),\n",
       " Row(customer_city='sao bernardo do campo'),\n",
       " Row(customer_city='paranagua'),\n",
       " Row(customer_city='lins'),\n",
       " Row(customer_city='sao paulo'),\n",
       " Row(customer_city='campo bom'),\n",
       " Row(customer_city='sertaozinho'),\n",
       " Row(customer_city='sao paulo'),\n",
       " Row(customer_city='tres lagoas'),\n",
       " Row(customer_city='taboao da serra'),\n",
       " Row(customer_city='contagem'),\n",
       " Row(customer_city='niteroi'),\n",
       " Row(customer_city='santo andre'),\n",
       " Row(customer_city='sao paulo'),\n",
       " Row(customer_city='jau'),\n",
       " Row(customer_city='curitiba'),\n",
       " Row(customer_city='montenegro'),\n",
       " Row(customer_city='sao jose'),\n",
       " Row(customer_city='campos de julio'),\n",
       " Row(customer_city='saquarema'),\n",
       " Row(customer_city='sao caetano do sul'),\n",
       " Row(customer_city='artur nogueira'),\n",
       " Row(customer_city='uaua'),\n",
       " Row(customer_city='sao paulo'),\n",
       " Row(customer_city='jandira'),\n",
       " Row(customer_city='belo horizonte'),\n",
       " Row(customer_city='sao paulo'),\n",
       " Row(customer_city='sao paulo'),\n",
       " Row(customer_city='valinhos'),\n",
       " Row(customer_city='concordia'),\n",
       " Row(customer_city='nova friburgo'),\n",
       " Row(customer_city='sorocaba'),\n",
       " Row(customer_city='rio de janeiro'),\n",
       " Row(customer_city='ponte nova'),\n",
       " Row(customer_city='araquari'),\n",
       " Row(customer_city='sao jose dos campos'),\n",
       " Row(customer_city='muriae'),\n",
       " Row(customer_city='sao paulo'),\n",
       " Row(customer_city='barueri'),\n",
       " Row(customer_city='santo andre'),\n",
       " Row(customer_city='navegantes'),\n",
       " Row(customer_city='nova lima'),\n",
       " Row(customer_city='inhumas'),\n",
       " Row(customer_city='italva'),\n",
       " Row(customer_city='sao paulo'),\n",
       " Row(customer_city='tres rios'),\n",
       " Row(customer_city='belford roxo'),\n",
       " Row(customer_city='santa maria'),\n",
       " Row(customer_city='itagiba'),\n",
       " Row(customer_city='florianopolis'),\n",
       " Row(customer_city='sao paulo'),\n",
       " Row(customer_city='paracatu'),\n",
       " Row(customer_city='rio de janeiro'),\n",
       " Row(customer_city='curitiba'),\n",
       " Row(customer_city='rio de janeiro'),\n",
       " Row(customer_city='xaxim'),\n",
       " Row(customer_city='rio de janeiro'),\n",
       " Row(customer_city='santo andre'),\n",
       " Row(customer_city='laranjeiras do sul'),\n",
       " Row(customer_city='sao paulo'),\n",
       " Row(customer_city='sao paulo'),\n",
       " Row(customer_city='itapiuna'),\n",
       " Row(customer_city='sao paulo'),\n",
       " Row(customer_city='guarulhos'),\n",
       " Row(customer_city='campinas'),\n",
       " Row(customer_city='recife'),\n",
       " Row(customer_city='ribeirao preto'),\n",
       " Row(customer_city='divinopolis'),\n",
       " Row(customer_city='sao paulo'),\n",
       " Row(customer_city='piracicaba'),\n",
       " Row(customer_city='formosa'),\n",
       " Row(customer_city='niteroi'),\n",
       " Row(customer_city='florianopolis'),\n",
       " Row(customer_city='ponte nova'),\n",
       " Row(customer_city='niteroi'),\n",
       " Row(customer_city='piracicaba'),\n",
       " Row(customer_city='rio brilhante'),\n",
       " Row(customer_city='sao paulo'),\n",
       " Row(customer_city='sao paulo'),\n",
       " Row(customer_city='sao paulo'),\n",
       " Row(customer_city='birigui'),\n",
       " Row(customer_city='ivoti'),\n",
       " Row(customer_city='salvador'),\n",
       " Row(customer_city='juazeiro'),\n",
       " Row(customer_city='ponta grossa'),\n",
       " Row(customer_city='nova venecia'),\n",
       " Row(customer_city='campina grande'),\n",
       " Row(customer_city='rio de janeiro'),\n",
       " Row(customer_city='osasco'),\n",
       " Row(customer_city='osasco'),\n",
       " Row(customer_city='votorantim'),\n",
       " Row(customer_city='sao paulo'),\n",
       " Row(customer_city='maua'),\n",
       " Row(customer_city='salgueiro'),\n",
       " Row(customer_city='sao jose dos campos'),\n",
       " Row(customer_city='rio de janeiro'),\n",
       " Row(customer_city='lorena'),\n",
       " Row(customer_city='sao paulo'),\n",
       " Row(customer_city='sao goncalo'),\n",
       " Row(customer_city='guaruja'),\n",
       " Row(customer_city='nova iguacu'),\n",
       " Row(customer_city='sao paulo'),\n",
       " Row(customer_city='fortaleza'),\n",
       " Row(customer_city='toledo'),\n",
       " Row(customer_city='niteroi'),\n",
       " Row(customer_city='sao pedro da aldeia'),\n",
       " Row(customer_city='curitiba'),\n",
       " Row(customer_city='sao bernardo do campo'),\n",
       " Row(customer_city='rio de janeiro'),\n",
       " Row(customer_city='rio de janeiro'),\n",
       " Row(customer_city='vianopolis'),\n",
       " Row(customer_city='arapiraca'),\n",
       " Row(customer_city='porto seguro'),\n",
       " Row(customer_city='volta redonda'),\n",
       " Row(customer_city='sao paulo'),\n",
       " Row(customer_city='sao paulo'),\n",
       " Row(customer_city='curitiba'),\n",
       " Row(customer_city='sao goncalo'),\n",
       " Row(customer_city='osasco'),\n",
       " Row(customer_city='sao paulo'),\n",
       " Row(customer_city='nova iguacu'),\n",
       " Row(customer_city='barueri'),\n",
       " Row(customer_city='ariquemes'),\n",
       " Row(customer_city='presidente getulio'),\n",
       " Row(customer_city='brasilia'),\n",
       " Row(customer_city='belo horizonte'),\n",
       " Row(customer_city='rio de janeiro'),\n",
       " Row(customer_city='florianopolis'),\n",
       " Row(customer_city='rio negro'),\n",
       " Row(customer_city='contagem'),\n",
       " Row(customer_city='caxias do sul'),\n",
       " Row(customer_city='porto alegre'),\n",
       " Row(customer_city='fortaleza'),\n",
       " Row(customer_city='rio de janeiro'),\n",
       " Row(customer_city='santa maria'),\n",
       " Row(customer_city='rio de janeiro'),\n",
       " Row(customer_city='sao paulo'),\n",
       " Row(customer_city='jau'),\n",
       " Row(customer_city='recife'),\n",
       " Row(customer_city='rio de janeiro'),\n",
       " Row(customer_city='ribeirao pires'),\n",
       " Row(customer_city='sao jose da coroa grande'),\n",
       " Row(customer_city='rio de janeiro'),\n",
       " Row(customer_city='agua doce do norte'),\n",
       " Row(customer_city='sao bernardo do campo'),\n",
       " Row(customer_city='anapolis'),\n",
       " Row(customer_city='guararapes'),\n",
       " Row(customer_city='petropolis'),\n",
       " Row(customer_city='sao paulo'),\n",
       " Row(customer_city='suzano'),\n",
       " Row(customer_city='farroupilha'),\n",
       " Row(customer_city='maua'),\n",
       " Row(customer_city='rio de janeiro'),\n",
       " Row(customer_city='cacapava'),\n",
       " Row(customer_city='almenara'),\n",
       " Row(customer_city='rio das ostras'),\n",
       " Row(customer_city='gravatai'),\n",
       " Row(customer_city='recife'),\n",
       " Row(customer_city='brumado'),\n",
       " Row(customer_city='sao paulo'),\n",
       " Row(customer_city='belo horizonte'),\n",
       " Row(customer_city='sao paulo'),\n",
       " Row(customer_city='rio de janeiro'),\n",
       " Row(customer_city='campos dos goytacazes'),\n",
       " Row(customer_city='marilia'),\n",
       " Row(customer_city='itabira'),\n",
       " Row(customer_city='sorocaba'),\n",
       " Row(customer_city='rio de janeiro'),\n",
       " Row(customer_city='sao paulo'),\n",
       " Row(customer_city='claudia'),\n",
       " Row(customer_city='florianopolis'),\n",
       " Row(customer_city='rio de janeiro'),\n",
       " Row(customer_city='guarulhos'),\n",
       " Row(customer_city='sao caetano do sul'),\n",
       " Row(customer_city='belo horizonte'),\n",
       " Row(customer_city='rio de janeiro'),\n",
       " Row(customer_city='sao paulo'),\n",
       " Row(customer_city='para de minas'),\n",
       " Row(customer_city='niteroi'),\n",
       " Row(customer_city='miguelopolis'),\n",
       " Row(customer_city='terra roxa'),\n",
       " Row(customer_city='paulinia'),\n",
       " Row(customer_city='araguari'),\n",
       " Row(customer_city='contagem'),\n",
       " Row(customer_city='rio de janeiro'),\n",
       " Row(customer_city='cacapava'),\n",
       " Row(customer_city='lages'),\n",
       " Row(customer_city='brasilia'),\n",
       " Row(customer_city='rio de janeiro'),\n",
       " Row(customer_city='embu das artes'),\n",
       " Row(customer_city='saquarema'),\n",
       " Row(customer_city='rio de janeiro'),\n",
       " Row(customer_city='limeira'),\n",
       " Row(customer_city='canoas'),\n",
       " Row(customer_city='sao paulo'),\n",
       " Row(customer_city='sao jose do rio preto'),\n",
       " Row(customer_city='taubate'),\n",
       " Row(customer_city='fortaleza'),\n",
       " Row(customer_city='santa fe do sul'),\n",
       " Row(customer_city='caieiras'),\n",
       " Row(customer_city='sao paulo'),\n",
       " Row(customer_city='itaguai'),\n",
       " Row(customer_city='carangola'),\n",
       " Row(customer_city='chapada do norte'),\n",
       " Row(customer_city='campinas'),\n",
       " Row(customer_city='loanda'),\n",
       " Row(customer_city='franca'),\n",
       " Row(customer_city='passa tres'),\n",
       " Row(customer_city='aracoiaba da serra'),\n",
       " Row(customer_city='nova iguacu'),\n",
       " Row(customer_city='porto alegre'),\n",
       " Row(customer_city='cachoeiro de itapemirim'),\n",
       " Row(customer_city='itaborai'),\n",
       " Row(customer_city='juiz de fora'),\n",
       " Row(customer_city='limeira'),\n",
       " Row(customer_city='aperibe'),\n",
       " Row(customer_city='vitoria'),\n",
       " Row(customer_city='rio de janeiro'),\n",
       " Row(customer_city='sao paulo'),\n",
       " Row(customer_city='sao bento do sul'),\n",
       " Row(customer_city='nova iguacu'),\n",
       " Row(customer_city='indaiatuba'),\n",
       " Row(customer_city='rio grande'),\n",
       " Row(customer_city='caxias do sul'),\n",
       " Row(customer_city='boituva'),\n",
       " Row(customer_city='teresopolis'),\n",
       " Row(customer_city='pinhalzinho'),\n",
       " Row(customer_city='petrolina'),\n",
       " Row(customer_city='sao paulo'),\n",
       " Row(customer_city='natal'),\n",
       " Row(customer_city='diadema'),\n",
       " Row(customer_city='curitiba'),\n",
       " Row(customer_city='sao paulo'),\n",
       " Row(customer_city='santo andre'),\n",
       " Row(customer_city='sao paulo'),\n",
       " Row(customer_city='suzano'),\n",
       " Row(customer_city='santa cruz do rio pardo'),\n",
       " Row(customer_city='barreiras'),\n",
       " Row(customer_city='mogi-guacu'),\n",
       " Row(customer_city='sao paulo'),\n",
       " Row(customer_city='florianopolis'),\n",
       " Row(customer_city='januaria'),\n",
       " Row(customer_city='ipiabas'),\n",
       " Row(customer_city='firminopolis'),\n",
       " Row(customer_city='joinville'),\n",
       " Row(customer_city='rio de janeiro'),\n",
       " Row(customer_city='barueri'),\n",
       " Row(customer_city='mococa'),\n",
       " Row(customer_city='belo horizonte'),\n",
       " Row(customer_city='sao paulo'),\n",
       " Row(customer_city='rio de janeiro'),\n",
       " Row(customer_city='vitoria'),\n",
       " Row(customer_city='vitoria'),\n",
       " Row(customer_city='valenca'),\n",
       " Row(customer_city='sao miguel do oeste'),\n",
       " Row(customer_city='nova iguacu'),\n",
       " Row(customer_city='franca'),\n",
       " Row(customer_city='salvador'),\n",
       " Row(customer_city='goiania'),\n",
       " Row(customer_city='sao paulo'),\n",
       " Row(customer_city='rio de janeiro'),\n",
       " Row(customer_city='sao bernardo do campo'),\n",
       " Row(customer_city='mogi-guacu'),\n",
       " Row(customer_city='sao paulo'),\n",
       " Row(customer_city='indaiatuba'),\n",
       " Row(customer_city='sao paulo'),\n",
       " Row(customer_city='sao paulo'),\n",
       " Row(customer_city='atibaia'),\n",
       " Row(customer_city='montes claros'),\n",
       " Row(customer_city='brasilia'),\n",
       " Row(customer_city='ponta grossa'),\n",
       " Row(customer_city='pirassununga'),\n",
       " Row(customer_city='piracicaba'),\n",
       " Row(customer_city='jales'),\n",
       " Row(customer_city='sao joao de meriti'),\n",
       " Row(customer_city='recife'),\n",
       " Row(customer_city='sao paulo'),\n",
       " Row(customer_city='sao vicente'),\n",
       " Row(customer_city='rio formoso'),\n",
       " Row(customer_city='belo horizonte'),\n",
       " Row(customer_city='rio de janeiro'),\n",
       " Row(customer_city='sao paulo'),\n",
       " Row(customer_city='rio de janeiro'),\n",
       " Row(customer_city='brasilia'),\n",
       " Row(customer_city='angra dos reis'),\n",
       " Row(customer_city='vitoria'),\n",
       " Row(customer_city='brasilia'),\n",
       " Row(customer_city='sao paulo'),\n",
       " Row(customer_city='alfredo chaves'),\n",
       " Row(customer_city='vitoria'),\n",
       " Row(customer_city='rio de janeiro'),\n",
       " Row(customer_city='sao paulo'),\n",
       " Row(customer_city='sao jose dos campos'),\n",
       " Row(customer_city='itapetinga'),\n",
       " Row(customer_city='sao paulo'),\n",
       " Row(customer_city='gurupi'),\n",
       " Row(customer_city='belo horizonte'),\n",
       " Row(customer_city='cambe'),\n",
       " Row(customer_city='jaboatao dos guararapes'),\n",
       " Row(customer_city='sao paulo'),\n",
       " Row(customer_city='nucleo residencial pilar'),\n",
       " Row(customer_city='santos'),\n",
       " Row(customer_city='salvador'),\n",
       " Row(customer_city='coromandel'),\n",
       " Row(customer_city='charqueada'),\n",
       " Row(customer_city='osasco'),\n",
       " Row(customer_city='itau de minas'),\n",
       " Row(customer_city='sao paulo'),\n",
       " Row(customer_city='ibiruba'),\n",
       " Row(customer_city='bertioga'),\n",
       " Row(customer_city='brasilia'),\n",
       " Row(customer_city='contagem'),\n",
       " Row(customer_city='ipiau'),\n",
       " Row(customer_city='limeira'),\n",
       " Row(customer_city='sao paulo'),\n",
       " Row(customer_city='jau'),\n",
       " Row(customer_city='matozinhos'),\n",
       " Row(customer_city='volta redonda'),\n",
       " Row(customer_city='curitiba'),\n",
       " Row(customer_city='teresina'),\n",
       " Row(customer_city='sao paulo'),\n",
       " Row(customer_city='uberlandia'),\n",
       " Row(customer_city='belo horizonte'),\n",
       " Row(customer_city='entre rios'),\n",
       " Row(customer_city='itajuba'),\n",
       " Row(customer_city='campinas'),\n",
       " Row(customer_city='jandira'),\n",
       " Row(customer_city='sao paulo'),\n",
       " Row(customer_city='juina'),\n",
       " Row(customer_city='divinopolis'),\n",
       " Row(customer_city='porto alegre'),\n",
       " Row(customer_city='mairipora'),\n",
       " Row(customer_city='rio de janeiro'),\n",
       " Row(customer_city='sao paulo'),\n",
       " Row(customer_city='teresina'),\n",
       " Row(customer_city='marechal candido rondon'),\n",
       " Row(customer_city='votorantim'),\n",
       " Row(customer_city='sao bernardo do campo'),\n",
       " Row(customer_city='sao paulo'),\n",
       " Row(customer_city='vitoria'),\n",
       " Row(customer_city='franco da rocha'),\n",
       " Row(customer_city='belo horizonte'),\n",
       " Row(customer_city='cotia'),\n",
       " Row(customer_city='avare'),\n",
       " Row(customer_city='sao bernardo do campo'),\n",
       " Row(customer_city='rio de janeiro'),\n",
       " Row(customer_city='aparecida de goiania'),\n",
       " Row(customer_city='icem'),\n",
       " Row(customer_city='anapolis'),\n",
       " Row(customer_city='sao sebastiao'),\n",
       " Row(customer_city='sao roque'),\n",
       " Row(customer_city='serra'),\n",
       " Row(customer_city='mirassol'),\n",
       " Row(customer_city='taperuaba'),\n",
       " Row(customer_city='montes claros'),\n",
       " Row(customer_city='sorocaba'),\n",
       " Row(customer_city='sao paulo'),\n",
       " Row(customer_city='carapicuiba'),\n",
       " Row(customer_city='alfenas'),\n",
       " Row(customer_city='santo andre'),\n",
       " Row(customer_city='leopoldina'),\n",
       " Row(customer_city='brasilia'),\n",
       " Row(customer_city='sao joao da boa vista'),\n",
       " Row(customer_city='sao paulo'),\n",
       " Row(customer_city='sao paulo'),\n",
       " Row(customer_city='uba'),\n",
       " Row(customer_city='parnamirim'),\n",
       " Row(customer_city='guarulhos'),\n",
       " Row(customer_city='teixeira de freitas'),\n",
       " Row(customer_city='atibaia'),\n",
       " Row(customer_city='porto alegre'),\n",
       " Row(customer_city='sao paulo'),\n",
       " Row(customer_city='joao pessoa'),\n",
       " Row(customer_city='chacara'),\n",
       " Row(customer_city='rio novo do sul'),\n",
       " Row(customer_city='rio de janeiro'),\n",
       " Row(customer_city='belo horizonte'),\n",
       " Row(customer_city='belo horizonte'),\n",
       " Row(customer_city='teresina'),\n",
       " Row(customer_city='salto de pirapora'),\n",
       " Row(customer_city='sao paulo'),\n",
       " Row(customer_city='belford roxo'),\n",
       " Row(customer_city='sao paulo'),\n",
       " Row(customer_city='guapore'),\n",
       " Row(customer_city='rio branco'),\n",
       " Row(customer_city='uberlandia'),\n",
       " Row(customer_city='ferraz de vasconcelos'),\n",
       " Row(customer_city='sao jose dos campos'),\n",
       " Row(customer_city='porto alegre'),\n",
       " Row(customer_city='sao luis'),\n",
       " Row(customer_city='taboao da serra'),\n",
       " Row(customer_city='curitiba'),\n",
       " Row(customer_city='maringa'),\n",
       " Row(customer_city='petrolandia'),\n",
       " Row(customer_city='guarulhos'),\n",
       " Row(customer_city='niteroi'),\n",
       " Row(customer_city='rio de janeiro'),\n",
       " Row(customer_city='aparecida de goiania'),\n",
       " Row(customer_city='goiania'),\n",
       " Row(customer_city='jundiai'),\n",
       " Row(customer_city='osasco'),\n",
       " Row(customer_city='araruna'),\n",
       " Row(customer_city='gravata'),\n",
       " Row(customer_city='rio de janeiro'),\n",
       " Row(customer_city='alegre'),\n",
       " Row(customer_city='londrina'),\n",
       " Row(customer_city='sao paulo'),\n",
       " Row(customer_city='senhor do bonfim'),\n",
       " Row(customer_city='sao bernardo do campo'),\n",
       " Row(customer_city='santana de parnaiba'),\n",
       " Row(customer_city='rio de janeiro'),\n",
       " Row(customer_city='rio de janeiro'),\n",
       " Row(customer_city='piratininga'),\n",
       " Row(customer_city='belo horizonte'),\n",
       " Row(customer_city='porto alegre'),\n",
       " Row(customer_city='maceio'),\n",
       " Row(customer_city='duque de caxias'),\n",
       " Row(customer_city='florianopolis'),\n",
       " Row(customer_city='sao paulo'),\n",
       " Row(customer_city='jau'),\n",
       " Row(customer_city='sao paulo'),\n",
       " Row(customer_city='monte carmelo'),\n",
       " Row(customer_city='sao paulo'),\n",
       " Row(customer_city='aparecida de goiania'),\n",
       " Row(customer_city='atibaia'),\n",
       " Row(customer_city='ipiranga'),\n",
       " Row(customer_city='belo horizonte'),\n",
       " Row(customer_city='taubate'),\n",
       " Row(customer_city='sao paulo'),\n",
       " Row(customer_city='concordia'),\n",
       " Row(customer_city='belo horizonte'),\n",
       " Row(customer_city='rio de janeiro'),\n",
       " Row(customer_city='jacarei'),\n",
       " Row(customer_city='picos'),\n",
       " Row(customer_city='una'),\n",
       " Row(customer_city='salvador'),\n",
       " Row(customer_city='taguai'),\n",
       " Row(customer_city='ribeirao preto'),\n",
       " Row(customer_city='belo horizonte'),\n",
       " Row(customer_city='guarulhos'),\n",
       " Row(customer_city='sao paulo'),\n",
       " Row(customer_city='peabiru'),\n",
       " Row(customer_city='sao paulo'),\n",
       " Row(customer_city='sao paulo'),\n",
       " Row(customer_city='carangola'),\n",
       " Row(customer_city='marilia'),\n",
       " Row(customer_city='conquista'),\n",
       " Row(customer_city='cabo frio'),\n",
       " Row(customer_city='bicas'),\n",
       " Row(customer_city='forquilha'),\n",
       " Row(customer_city='macae'),\n",
       " Row(customer_city='brasilia'),\n",
       " Row(customer_city='canoas'),\n",
       " Row(customer_city='guaicara'),\n",
       " Row(customer_city='campinas'),\n",
       " Row(customer_city='santa vitoria'),\n",
       " Row(customer_city='sao paulo'),\n",
       " Row(customer_city='adamantina'),\n",
       " Row(customer_city='franco da rocha'),\n",
       " Row(customer_city='salvador'),\n",
       " Row(customer_city='sao paulo'),\n",
       " Row(customer_city='rio de janeiro'),\n",
       " Row(customer_city='sao paulo'),\n",
       " Row(customer_city='sao roque'),\n",
       " Row(customer_city='franco da rocha'),\n",
       " Row(customer_city='manaus'),\n",
       " Row(customer_city='rio claro'),\n",
       " Row(customer_city='vila velha'),\n",
       " Row(customer_city='sao jose de uba'),\n",
       " Row(customer_city='ribeirao preto'),\n",
       " Row(customer_city='mogi das cruzes'),\n",
       " Row(customer_city='sao paulo'),\n",
       " Row(customer_city='araras'),\n",
       " Row(customer_city='goiania'),\n",
       " Row(customer_city='sorriso'),\n",
       " Row(customer_city='sao paulo'),\n",
       " Row(customer_city='rio de janeiro'),\n",
       " Row(customer_city='joinville'),\n",
       " Row(customer_city='sao paulo'),\n",
       " Row(customer_city='vila velha'),\n",
       " Row(customer_city='lages'),\n",
       " Row(customer_city='niteroi'),\n",
       " Row(customer_city='aracaju'),\n",
       " Row(customer_city='nova iguacu'),\n",
       " Row(customer_city='sao bernardo do campo'),\n",
       " Row(customer_city='sao paulo'),\n",
       " Row(customer_city='pindamonhangaba'),\n",
       " Row(customer_city='porto alegre'),\n",
       " Row(customer_city='valinhos'),\n",
       " Row(customer_city='pindamonhangaba'),\n",
       " Row(customer_city='fortaleza'),\n",
       " Row(customer_city='conselheiro lafaiete'),\n",
       " Row(customer_city='rio de janeiro'),\n",
       " Row(customer_city='nova iguacu'),\n",
       " Row(customer_city='sao paulo'),\n",
       " Row(customer_city='rio de janeiro'),\n",
       " Row(customer_city='sao bernardo do campo'),\n",
       " Row(customer_city='belo horizonte'),\n",
       " Row(customer_city='ipatinga'),\n",
       " Row(customer_city='sao bernardo do campo'),\n",
       " Row(customer_city='guarapuava'),\n",
       " Row(customer_city='sao paulo'),\n",
       " Row(customer_city='campinas'),\n",
       " Row(customer_city='taguatinga'),\n",
       " Row(customer_city='tiangua'),\n",
       " Row(customer_city='itajuba'),\n",
       " Row(customer_city='rio de janeiro'),\n",
       " Row(customer_city='paranaiba'),\n",
       " Row(customer_city='goiania'),\n",
       " Row(customer_city='sorocaba'),\n",
       " Row(customer_city='belo horizonte'),\n",
       " Row(customer_city='sao paulo'),\n",
       " Row(customer_city='david canabarro'),\n",
       " Row(customer_city='itarare'),\n",
       " Row(customer_city='sao paulo'),\n",
       " Row(customer_city='maua'),\n",
       " Row(customer_city='curitiba'),\n",
       " Row(customer_city='guarulhos'),\n",
       " Row(customer_city='maceio'),\n",
       " Row(customer_city='cajueiro'),\n",
       " Row(customer_city='jacarei'),\n",
       " Row(customer_city='florianopolis'),\n",
       " Row(customer_city='belo horizonte'),\n",
       " Row(customer_city='uberlandia'),\n",
       " Row(customer_city='santo andre'),\n",
       " Row(customer_city='sao paulo'),\n",
       " Row(customer_city='uberlandia'),\n",
       " Row(customer_city='cruzeiro'),\n",
       " Row(customer_city='fortaleza'),\n",
       " Row(customer_city='rio de janeiro'),\n",
       " Row(customer_city='aperibe'),\n",
       " Row(customer_city='santa cruz do sul'),\n",
       " Row(customer_city='sao paulo'),\n",
       " Row(customer_city='belo horizonte'),\n",
       " Row(customer_city='porto alegre'),\n",
       " Row(customer_city='volta redonda'),\n",
       " Row(customer_city='presidente epitacio'),\n",
       " Row(customer_city='porto alegre'),\n",
       " Row(customer_city='belo horizonte'),\n",
       " Row(customer_city='joinville'),\n",
       " Row(customer_city='vila velha'),\n",
       " Row(customer_city='ribeirao pires'),\n",
       " Row(customer_city='castanhal'),\n",
       " Row(customer_city='belem'),\n",
       " Row(customer_city='cacapava'),\n",
       " Row(customer_city='nova lima'),\n",
       " Row(customer_city='sao paulo'),\n",
       " Row(customer_city='cariacica'),\n",
       " Row(customer_city='contagem'),\n",
       " Row(customer_city='guarapuava'),\n",
       " Row(customer_city='sao paulo'),\n",
       " Row(customer_city='bom jesus dos perdoes'),\n",
       " Row(customer_city='ipatinga'),\n",
       " Row(customer_city='urucurituba'),\n",
       " Row(customer_city='jandira'),\n",
       " Row(customer_city='olinda'),\n",
       " ...]"
      ]
     },
     "execution_count": 8,
     "metadata": {},
     "output_type": "execute_result"
    }
   ],
   "source": [
    "customers.select('customer_city').collect()"
   ]
  },
  {
   "attachments": {},
   "cell_type": "markdown",
   "metadata": {},
   "source": [
    "Aparentemente, as colunas ``customer_state`` e ``customer_city`` necessitarão de\n",
    "mudanças, onde a primeira receberá uma normalização de case e a segunda será \n",
    "substituída pela coluna de cidades da tabela externa, que não apresenta erros. \n",
    "Além disso, vale ressaltar que a coluna ``customer_zip_code_prefix``, mesmo \n",
    "apresentando valores numéricos, será mantida como **string**, pois ela perderia \n",
    "os zeros no início caso fosse alterada para formatos numéricos como **Int**. \n"
   ]
  },
  {
   "cell_type": "code",
   "execution_count": 9,
   "metadata": {},
   "outputs": [
    {
     "data": {
      "text/plain": [
       "['customer_id',\n",
       " 'customer_unique_id',\n",
       " 'customer_zip_code_prefix',\n",
       " 'customer_city',\n",
       " 'customer_state']"
      ]
     },
     "execution_count": 9,
     "metadata": {},
     "output_type": "execute_result"
    }
   ],
   "source": [
    "customers.columns"
   ]
  },
  {
   "cell_type": "code",
   "execution_count": 10,
   "metadata": {},
   "outputs": [],
   "source": [
    "# Tratando a tabela customers\n",
    "customers = spark.sql(\"SELECT cs.customer_id,  \\\n",
    "                        cs.customer_unique_id, \\\n",
    "                        cs.customer_zip_code_prefix, \\\n",
    "                        LOWER(cp.locality) AS customer_city,  \\\n",
    "                        LOWER(cs.customer_state) AS customer_state \\\n",
    "                       FROM customers cs  \\\n",
    "                        LEFT JOIN ceps cp  \\\n",
    "                        ON CAST(cs.customer_zip_code_prefix AS INT) = cp.cep_prefix\")"
   ]
  },
  {
   "cell_type": "code",
   "execution_count": 11,
   "metadata": {},
   "outputs": [
    {
     "name": "stderr",
     "output_type": "stream",
     "text": [
      "                                                                                \r"
     ]
    },
    {
     "name": "stdout",
     "output_type": "stream",
     "text": [
      "+--------------------+--------------------+------------------------+--------------------+--------------+\n",
      "|         customer_id|  customer_unique_id|customer_zip_code_prefix|       customer_city|customer_state|\n",
      "+--------------------+--------------------+------------------------+--------------------+--------------+\n",
      "|06b8999e2fba1a1fb...|861eff4711a542e4b...|                   14409|              franca|            sp|\n",
      "|06b8999e2fba1a1fb...|861eff4711a542e4b...|                   14409|              franca|            sp|\n",
      "|18955e83d337fd6b2...|290c77bc529b7ac93...|                   09790|são bernardo do c...|            sp|\n",
      "|18955e83d337fd6b2...|290c77bc529b7ac93...|                   09790|são bernardo do c...|            sp|\n",
      "|4e7b3e00288586ebd...|060e732b5b29e8181...|                   01151|           são paulo|            sp|\n",
      "|4e7b3e00288586ebd...|060e732b5b29e8181...|                   01151|           são paulo|            sp|\n",
      "|b2b6027bc5c5109e5...|259dac757896d24d7...|                   08775|     mogi das cruzes|            sp|\n",
      "|b2b6027bc5c5109e5...|259dac757896d24d7...|                   08775|     mogi das cruzes|            sp|\n",
      "|4f2d8ab171c80ec83...|345ecd01c38d18a90...|                   13056|            campinas|            sp|\n",
      "|4f2d8ab171c80ec83...|345ecd01c38d18a90...|                   13056|            campinas|            sp|\n",
      "|879864dab9bc30475...|4c93744516667ad3b...|                   89254|      jaraguá do sul|            sc|\n",
      "|879864dab9bc30475...|4c93744516667ad3b...|                   89254|      jaraguá do sul|            sc|\n",
      "|fd826e7cf63160e53...|addec96d2e059c80c...|                   04534|           são paulo|            sp|\n",
      "|fd826e7cf63160e53...|addec96d2e059c80c...|                   04534|           são paulo|            sp|\n",
      "|5e274e7a0c3809e14...|57b2a98a409812fe9...|                   35182|             timóteo|            mg|\n",
      "|5e274e7a0c3809e14...|57b2a98a409812fe9...|                   35182|             timóteo|            mg|\n",
      "|5adf08e34b2e99398...|1175e95fb47ddff9d...|                   81560|            curitiba|            pr|\n",
      "|5adf08e34b2e99398...|1175e95fb47ddff9d...|                   81560|            curitiba|            pr|\n",
      "|4b7139f34592b3a31...|9afe194fb833f79e3...|                   30575|      belo horizonte|            mg|\n",
      "|4b7139f34592b3a31...|9afe194fb833f79e3...|                   30575|      belo horizonte|            mg|\n",
      "+--------------------+--------------------+------------------------+--------------------+--------------+\n",
      "only showing top 20 rows\n",
      "\n"
     ]
    }
   ],
   "source": [
    "# Verificando o resultado\n",
    "customers.show()"
   ]
  },
  {
   "attachments": {},
   "cell_type": "markdown",
   "metadata": {},
   "source": [
    "## geolocalization"
   ]
  },
  {
   "cell_type": "code",
   "execution_count": 12,
   "metadata": {},
   "outputs": [
    {
     "name": "stdout",
     "output_type": "stream",
     "text": [
      "+---------------------------+-------------------+-------------------+----------------+-----------------+\n",
      "|geolocation_zip_code_prefix|    geolocation_lat|    geolocation_lng|geolocation_city|geolocation_state|\n",
      "+---------------------------+-------------------+-------------------+----------------+-----------------+\n",
      "|                      01037| -23.54562128115268| -46.63929204800168|       sao paulo|               SP|\n",
      "|                      01046|-23.546081127035535| -46.64482029837157|       sao paulo|               SP|\n",
      "|                      01046| -23.54612896641469| -46.64295148361138|       sao paulo|               SP|\n",
      "|                      01041|  -23.5443921648681| -46.63949930627844|       sao paulo|               SP|\n",
      "|                      01035|-23.541577961711493| -46.64160722329613|       sao paulo|               SP|\n",
      "|                      01012|-23.547762303364266| -46.63536053788448|       são paulo|               SP|\n",
      "|                      01047|-23.546273112412678| -46.64122516971552|       sao paulo|               SP|\n",
      "|                      01013|-23.546923208436723|  -46.6342636964915|       sao paulo|               SP|\n",
      "|                      01029|-23.543769055769133| -46.63427784085132|       sao paulo|               SP|\n",
      "|                      01011|-23.547639550320632| -46.63603162315495|       sao paulo|               SP|\n",
      "|                      01013|-23.547325128224376| -46.63418378613892|       sao paulo|               SP|\n",
      "|                      01032| -23.53841810407414|-46.634778375266734|       sao paulo|               SP|\n",
      "|                      01014|-23.546435343326205| -46.63383023397196|       sao paulo|               SP|\n",
      "|                      01012|-23.548945985189434| -46.63467113292871|       sao paulo|               SP|\n",
      "|                      01037|-23.545187340816042| -46.63785524104107|       são paulo|               SP|\n",
      "|                      01046|-23.546081127035535| -46.64482029837157|       sao paulo|               SP|\n",
      "|                      01039|-23.541883009983316| -46.63991946670314|       sao paulo|               SP|\n",
      "|                      01024|-23.541389521053937|-46.629899087812184|       são paulo|               SP|\n",
      "|                      01009| -23.54693540437998| -46.63658792659698|       sao paulo|               SP|\n",
      "|                      01046|-23.545884279214015|-46.643163191240035|       sao paulo|               SP|\n",
      "+---------------------------+-------------------+-------------------+----------------+-----------------+\n",
      "only showing top 20 rows\n",
      "\n"
     ]
    }
   ],
   "source": [
    "# Irei verificar as primeiras linhas e o schema novamente\n",
    "geolocalization.show()"
   ]
  },
  {
   "cell_type": "code",
   "execution_count": 13,
   "metadata": {},
   "outputs": [
    {
     "name": "stdout",
     "output_type": "stream",
     "text": [
      "root\n",
      " |-- geolocation_zip_code_prefix: string (nullable = true)\n",
      " |-- geolocation_lat: string (nullable = true)\n",
      " |-- geolocation_lng: string (nullable = true)\n",
      " |-- geolocation_city: string (nullable = true)\n",
      " |-- geolocation_state: string (nullable = true)\n",
      "\n"
     ]
    }
   ],
   "source": [
    "geolocalization.printSchema()"
   ]
  },
  {
   "cell_type": "code",
   "execution_count": 14,
   "metadata": {},
   "outputs": [
    {
     "name": "stderr",
     "output_type": "stream",
     "text": [
      "                                                                                \r"
     ]
    },
    {
     "data": {
      "text/plain": [
       "[Row(geolocation_state='SP'),\n",
       " Row(geolocation_state='RN'),\n",
       " Row(geolocation_state='AC'),\n",
       " Row(geolocation_state='ES'),\n",
       " Row(geolocation_state='RJ'),\n",
       " Row(geolocation_state='MG'),\n",
       " Row(geolocation_state='PI'),\n",
       " Row(geolocation_state='AM'),\n",
       " Row(geolocation_state='RR'),\n",
       " Row(geolocation_state='GO'),\n",
       " Row(geolocation_state='PB'),\n",
       " Row(geolocation_state='AL'),\n",
       " Row(geolocation_state='PA'),\n",
       " Row(geolocation_state='BA'),\n",
       " Row(geolocation_state='SE'),\n",
       " Row(geolocation_state='PE'),\n",
       " Row(geolocation_state='CE'),\n",
       " Row(geolocation_state='MA'),\n",
       " Row(geolocation_state='DF'),\n",
       " Row(geolocation_state='AP'),\n",
       " Row(geolocation_state='SC'),\n",
       " Row(geolocation_state='RO'),\n",
       " Row(geolocation_state='TO'),\n",
       " Row(geolocation_state='MT'),\n",
       " Row(geolocation_state='RS'),\n",
       " Row(geolocation_state='MS'),\n",
       " Row(geolocation_state='PR')]"
      ]
     },
     "execution_count": 14,
     "metadata": {},
     "output_type": "execute_result"
    }
   ],
   "source": [
    "# Verificando se há inconsistencias nos valores unicos da coluna geolocation_state\n",
    "geolocalization.select('geolocation_state').distinct().collect()"
   ]
  },
  {
   "cell_type": "code",
   "execution_count": 15,
   "metadata": {},
   "outputs": [
    {
     "name": "stderr",
     "output_type": "stream",
     "text": [
      "                                                                                \r"
     ]
    },
    {
     "data": {
      "text/plain": [
       "[Row(geolocation_city='sao bernardo do campo'),\n",
       " Row(geolocation_city='são paulo'),\n",
       " Row(geolocation_city='sãopaulo'),\n",
       " Row(geolocation_city='sao jose dos campos'),\n",
       " Row(geolocation_city='jundiaí'),\n",
       " Row(geolocation_city='sp'),\n",
       " Row(geolocation_city='sao paulo'),\n",
       " Row(geolocation_city='taboão da serra'),\n",
       " Row(geolocation_city='sa£o paulo'),\n",
       " Row(geolocation_city='redencao da serra'),\n",
       " Row(geolocation_city='itanhaem'),\n",
       " Row(geolocation_city='carapicuiba'),\n",
       " Row(geolocation_city='sao francisco da praia'),\n",
       " Row(geolocation_city='taubaté'),\n",
       " Row(geolocation_city='iguape'),\n",
       " Row(geolocation_city='itapecerica da serra'),\n",
       " Row(geolocation_city='santos'),\n",
       " Row(geolocation_city='franco da rocha'),\n",
       " Row(geolocation_city='cotia'),\n",
       " Row(geolocation_city='suzano'),\n",
       " Row(geolocation_city='embu guaçu'),\n",
       " Row(geolocation_city='caruara'),\n",
       " Row(geolocation_city='mogi das cruzes'),\n",
       " Row(geolocation_city='cananeia'),\n",
       " Row(geolocation_city='salesopolis'),\n",
       " Row(geolocation_city='jordanesia'),\n",
       " Row(geolocation_city='francisco morato'),\n",
       " Row(geolocation_city='barueri'),\n",
       " Row(geolocation_city='praia grande'),\n",
       " Row(geolocation_city='itanhaém'),\n",
       " Row(geolocation_city='polvilho'),\n",
       " Row(geolocation_city='pirapora do bom jesus'),\n",
       " Row(geolocation_city='lagoinha'),\n",
       " Row(geolocation_city='monteiro lobato'),\n",
       " Row(geolocation_city='poá'),\n",
       " Row(geolocation_city='ubatuba'),\n",
       " Row(geolocation_city='itariri'),\n",
       " Row(geolocation_city='cacapava'),\n",
       " Row(geolocation_city='sao sebastiao'),\n",
       " Row(geolocation_city='tremembe'),\n",
       " Row(geolocation_city='mogidascruzes'),\n",
       " Row(geolocation_city='embu das artes'),\n",
       " Row(geolocation_city='poa'),\n",
       " Row(geolocation_city='vargem grande paulista'),\n",
       " Row(geolocation_city='biritiba-mirim'),\n",
       " Row(geolocation_city='bertioga'),\n",
       " Row(geolocation_city='eldorado'),\n",
       " Row(geolocation_city='maua'),\n",
       " Row(geolocation_city='osasco'),\n",
       " Row(geolocation_city='são vicente'),\n",
       " Row(geolocation_city='arujá'),\n",
       " Row(geolocation_city='mauá'),\n",
       " Row(geolocation_city='ana dias'),\n",
       " Row(geolocation_city='ilhabela'),\n",
       " Row(geolocation_city='embu guacu'),\n",
       " Row(geolocation_city='cubatao'),\n",
       " Row(geolocation_city='juquiá'),\n",
       " Row(geolocation_city='cajati'),\n",
       " Row(geolocation_city='sao caetano do sul'),\n",
       " Row(geolocation_city='são luiz do paraitinga'),\n",
       " Row(geolocation_city='embu'),\n",
       " Row(geolocation_city='santana de parnaiba'),\n",
       " Row(geolocation_city='pedro de toledo'),\n",
       " Row(geolocation_city='cananéia'),\n",
       " Row(geolocation_city='cubatão'),\n",
       " Row(geolocation_city='guarulhos-sp'),\n",
       " Row(geolocation_city='catucaba'),\n",
       " Row(geolocation_city='adamantina'),\n",
       " Row(geolocation_city='sao vicente'),\n",
       " Row(geolocation_city='diadema'),\n",
       " Row(geolocation_city='taubate'),\n",
       " Row(geolocation_city='carapicuíba'),\n",
       " Row(geolocation_city='salesópolis'),\n",
       " Row(geolocation_city='são bernardo do campo'),\n",
       " Row(geolocation_city='guarujá'),\n",
       " Row(geolocation_city='são sebastião'),\n",
       " Row(geolocation_city='são francisco da praia'),\n",
       " Row(geolocation_city='taboao da serra'),\n",
       " Row(geolocation_city='sao luiz do paraitinga'),\n",
       " Row(geolocation_city='guarulhos'),\n",
       " Row(geolocation_city='aruja'),\n",
       " Row(geolocation_city='tremembé'),\n",
       " Row(geolocation_city='sbcampo'),\n",
       " Row(geolocation_city='ilha comprida'),\n",
       " Row(geolocation_city='peruibe'),\n",
       " Row(geolocation_city='rio grande da serra'),\n",
       " Row(geolocation_city='são caetano do sul'),\n",
       " Row(geolocation_city='guararema'),\n",
       " Row(geolocation_city='embu-guaçu'),\n",
       " Row(geolocation_city='sete barras'),\n",
       " Row(geolocation_city='jordanésia'),\n",
       " Row(geolocation_city='pariquera-acu'),\n",
       " Row(geolocation_city='miracatu'),\n",
       " Row(geolocation_city='pariquera-açu'),\n",
       " Row(geolocation_city='paraibuna'),\n",
       " Row(geolocation_city='ribeirao pires'),\n",
       " Row(geolocation_city='guaruja'),\n",
       " Row(geolocation_city='santana de parnaíba'),\n",
       " Row(geolocation_city='peruíbe'),\n",
       " Row(geolocation_city='ribeirão pires'),\n",
       " Row(geolocation_city='registro'),\n",
       " Row(geolocation_city='sao luis do paraitinga'),\n",
       " Row(geolocation_city='itapevi'),\n",
       " Row(geolocation_city='cajamar'),\n",
       " Row(geolocation_city='juquia'),\n",
       " Row(geolocation_city='biritiba mirim'),\n",
       " Row(geolocation_city='sao lourenco da serra'),\n",
       " Row(geolocation_city='mongagua'),\n",
       " Row(geolocation_city='mongaguá'),\n",
       " Row(geolocation_city='barra do turvo'),\n",
       " Row(geolocation_city='jacupiranga'),\n",
       " Row(geolocation_city='mairipora'),\n",
       " Row(geolocation_city='santo andre'),\n",
       " Row(geolocation_city='jambeiro'),\n",
       " Row(geolocation_city='embu-guacu'),\n",
       " Row(geolocation_city='embuguacu'),\n",
       " Row(geolocation_city='juquitiba'),\n",
       " Row(geolocation_city='mairiporã'),\n",
       " Row(geolocation_city='santo andré'),\n",
       " Row(geolocation_city='caraguatatuba'),\n",
       " Row(geolocation_city='natividade da serra'),\n",
       " Row(geolocation_city='ferraz de vasconcelos'),\n",
       " Row(geolocation_city='jandira'),\n",
       " Row(geolocation_city='são lourenço da serra'),\n",
       " Row(geolocation_city='maresias'),\n",
       " Row(geolocation_city='são josé dos campos'),\n",
       " Row(geolocation_city='caieiras'),\n",
       " Row(geolocation_city='itaquaquecetuba'),\n",
       " Row(geolocation_city='santa isabel'),\n",
       " Row(geolocation_city='caçapava'),\n",
       " Row(geolocation_city='aguas de sao pedro'),\n",
       " Row(geolocation_city='itirapuã'),\n",
       " Row(geolocation_city='indiaporã'),\n",
       " Row(geolocation_city='paulistânia'),\n",
       " Row(geolocation_city='capão bonito'),\n",
       " Row(geolocation_city='taguaí'),\n",
       " Row(geolocation_city='iepe'),\n",
       " Row(geolocation_city='cachoeira paulista'),\n",
       " Row(geolocation_city='buritama'),\n",
       " Row(geolocation_city='uchoa'),\n",
       " Row(geolocation_city='guaranta'),\n",
       " Row(geolocation_city='sagres'),\n",
       " Row(geolocation_city='itaí'),\n",
       " Row(geolocation_city='ribeirão dos índios'),\n",
       " Row(geolocation_city='martinopolis'),\n",
       " Row(geolocation_city='iracemapolis'),\n",
       " Row(geolocation_city='guaíra'),\n",
       " Row(geolocation_city='monte azul paulista'),\n",
       " Row(geolocation_city='jaborandi'),\n",
       " Row(geolocation_city='fernando prestes'),\n",
       " Row(geolocation_city='garca'),\n",
       " Row(geolocation_city='araçariguama'),\n",
       " Row(geolocation_city='ipaussu'),\n",
       " Row(geolocation_city='araras'),\n",
       " Row(geolocation_city='dolcinópolis'),\n",
       " Row(geolocation_city='nova guataporanga'),\n",
       " Row(geolocation_city='santo antonio da alegria'),\n",
       " Row(geolocation_city='nova canaa paulista'),\n",
       " Row(geolocation_city='inúbia paulista'),\n",
       " Row(geolocation_city='junqueirópolis'),\n",
       " Row(geolocation_city='santo anastacio'),\n",
       " Row(geolocation_city='franca sp'),\n",
       " Row(geolocation_city='pindorama'),\n",
       " Row(geolocation_city='duartina'),\n",
       " Row(geolocation_city='primavera'),\n",
       " Row(geolocation_city='ibitinga'),\n",
       " Row(geolocation_city='general salgado'),\n",
       " Row(geolocation_city='guzolândia'),\n",
       " Row(geolocation_city='maristela'),\n",
       " Row(geolocation_city='cuiaba paulista'),\n",
       " Row(geolocation_city='sertaozinho'),\n",
       " Row(geolocation_city='palestina'),\n",
       " Row(geolocation_city='pongai'),\n",
       " Row(geolocation_city='conchas'),\n",
       " Row(geolocation_city='euclides da cunha paulista'),\n",
       " Row(geolocation_city='marilia'),\n",
       " Row(geolocation_city='votorantim'),\n",
       " Row(geolocation_city='lavrinhas'),\n",
       " Row(geolocation_city='piracaia'),\n",
       " Row(geolocation_city='nova américa'),\n",
       " Row(geolocation_city='floreal'),\n",
       " Row(geolocation_city='sao joao do pau dalho'),\n",
       " Row(geolocation_city='luís antônio'),\n",
       " Row(geolocation_city='nova europa'),\n",
       " Row(geolocation_city='monte verde paulista'),\n",
       " Row(geolocation_city='osvaldo cruz'),\n",
       " Row(geolocation_city='nantes'),\n",
       " Row(geolocation_city='aparecida'),\n",
       " Row(geolocation_city='mogi guaçu'),\n",
       " Row(geolocation_city='aramina'),\n",
       " Row(geolocation_city='dobrada'),\n",
       " Row(geolocation_city='gabriel monteiro'),\n",
       " Row(geolocation_city='santelmo'),\n",
       " Row(geolocation_city='divinolandia'),\n",
       " Row(geolocation_city='jaú'),\n",
       " Row(geolocation_city='tietê'),\n",
       " Row(geolocation_city='ourinhos'),\n",
       " Row(geolocation_city='rafard'),\n",
       " Row(geolocation_city=\"santa barbara d'oeste\"),\n",
       " Row(geolocation_city='gastao vidigal'),\n",
       " Row(geolocation_city='aspásia'),\n",
       " Row(geolocation_city='nova campina'),\n",
       " Row(geolocation_city='gardenia'),\n",
       " Row(geolocation_city='potim'),\n",
       " Row(geolocation_city='engenheiro balduino'),\n",
       " Row(geolocation_city='urania'),\n",
       " Row(geolocation_city='santa ernestina'),\n",
       " Row(geolocation_city='bom sucesso de itararé'),\n",
       " Row(geolocation_city='cerqueira cesar'),\n",
       " Row(geolocation_city='atibaia'),\n",
       " Row(geolocation_city='aracoiaba da serra'),\n",
       " Row(geolocation_city='araçoiaba da serra'),\n",
       " Row(geolocation_city='mirante do paranapanema'),\n",
       " Row(geolocation_city='três fronteiras'),\n",
       " Row(geolocation_city='paruru'),\n",
       " Row(geolocation_city='paraguacu paulista'),\n",
       " Row(geolocation_city='serrana'),\n",
       " Row(geolocation_city='americo brasiliense'),\n",
       " Row(geolocation_city='bento de abreu'),\n",
       " Row(geolocation_city='iacri'),\n",
       " Row(geolocation_city='torre de pedra'),\n",
       " Row(geolocation_city='mogi mirim'),\n",
       " Row(geolocation_city='reginópolis'),\n",
       " Row(geolocation_city='presidente bernardes'),\n",
       " Row(geolocation_city='ribeirao dos indios'),\n",
       " Row(geolocation_city='itupeva'),\n",
       " Row(geolocation_city='bilac'),\n",
       " Row(geolocation_city='promissao'),\n",
       " Row(geolocation_city='pedregulho'),\n",
       " Row(geolocation_city='guariba'),\n",
       " Row(geolocation_city='rubiácea'),\n",
       " Row(geolocation_city='alvinlândia'),\n",
       " Row(geolocation_city='oleo'),\n",
       " Row(geolocation_city='narandiba'),\n",
       " Row(geolocation_city='altinópolis'),\n",
       " Row(geolocation_city='joão ramalho'),\n",
       " Row(geolocation_city='florinea'),\n",
       " Row(geolocation_city='conchal'),\n",
       " Row(geolocation_city='engenheiro balduíno'),\n",
       " Row(geolocation_city='jurupema'),\n",
       " Row(geolocation_city='cerqueira césar'),\n",
       " Row(geolocation_city='arapeí'),\n",
       " Row(geolocation_city='serra negra'),\n",
       " Row(geolocation_city='marinopolis'),\n",
       " Row(geolocation_city='mariápolis'),\n",
       " Row(geolocation_city='areiopolis'),\n",
       " Row(geolocation_city='alfredo marcondes'),\n",
       " Row(geolocation_city='pindamonhangaba'),\n",
       " Row(geolocation_city='rubinéia'),\n",
       " Row(geolocation_city='pirajui'),\n",
       " Row(geolocation_city='caiuá'),\n",
       " Row(geolocation_city='cândido mota'),\n",
       " Row(geolocation_city='monte mor'),\n",
       " Row(geolocation_city='espírito santo do pinhal'),\n",
       " Row(geolocation_city='álvaro de carvalho'),\n",
       " Row(geolocation_city='ipigua'),\n",
       " Row(geolocation_city='nova alianca'),\n",
       " Row(geolocation_city='aparecida d oeste'),\n",
       " Row(geolocation_city='são pedro'),\n",
       " Row(geolocation_city='santa rosa de viterbo'),\n",
       " Row(geolocation_city='castilho'),\n",
       " Row(geolocation_city='sao bento do sapucai'),\n",
       " Row(geolocation_city='iperó'),\n",
       " Row(geolocation_city='salto grande'),\n",
       " Row(geolocation_city='santa barbara doeste'),\n",
       " Row(geolocation_city='caconde'),\n",
       " Row(geolocation_city='olimpia'),\n",
       " Row(geolocation_city='nova independencia'),\n",
       " Row(geolocation_city='pilar do sul'),\n",
       " Row(geolocation_city='bom retiro da esperanca'),\n",
       " Row(geolocation_city='pereiras'),\n",
       " Row(geolocation_city='joanópolis'),\n",
       " Row(geolocation_city='taquarivai'),\n",
       " Row(geolocation_city='altinopolis'),\n",
       " Row(geolocation_city='viradouro'),\n",
       " Row(geolocation_city='fernão'),\n",
       " Row(geolocation_city='florinia'),\n",
       " Row(geolocation_city='mogi-mirim'),\n",
       " Row(geolocation_city='pitangueiras'),\n",
       " Row(geolocation_city='promissão'),\n",
       " Row(geolocation_city='aguas de santa barbara'),\n",
       " Row(geolocation_city='cruzalia'),\n",
       " Row(geolocation_city='uniao paulista'),\n",
       " Row(geolocation_city='rubineia'),\n",
       " Row(geolocation_city='agulha'),\n",
       " Row(geolocation_city='avaí'),\n",
       " Row(geolocation_city='tres aliancas'),\n",
       " Row(geolocation_city='itararé'),\n",
       " Row(geolocation_city='santo expedito'),\n",
       " Row(geolocation_city='santa rita do passa quatro'),\n",
       " Row(geolocation_city='aguaí'),\n",
       " Row(geolocation_city='valentim gentil'),\n",
       " Row(geolocation_city='elisiario'),\n",
       " Row(geolocation_city='jacaré'),\n",
       " Row(geolocation_city='santa cruz das palmeiras'),\n",
       " Row(geolocation_city='santo antonio do aracangua'),\n",
       " Row(geolocation_city='luis antonio'),\n",
       " Row(geolocation_city='batatais'),\n",
       " Row(geolocation_city='colombia'),\n",
       " Row(geolocation_city='santa lucia'),\n",
       " Row(geolocation_city='parisi'),\n",
       " Row(geolocation_city='candido mota'),\n",
       " Row(geolocation_city='campos novos paulista'),\n",
       " Row(geolocation_city='rifaina'),\n",
       " Row(geolocation_city='garça'),\n",
       " Row(geolocation_city='são roque'),\n",
       " Row(geolocation_city='piedade'),\n",
       " Row(geolocation_city='estiva gerbi'),\n",
       " Row(geolocation_city='guaimbê'),\n",
       " Row(geolocation_city='guararapes'),\n",
       " Row(geolocation_city='barra do chapéu'),\n",
       " Row(geolocation_city='campinas'),\n",
       " Row(geolocation_city='matão'),\n",
       " Row(geolocation_city='clementina'),\n",
       " Row(geolocation_city='valparaiso'),\n",
       " Row(geolocation_city='lucianópolis'),\n",
       " Row(geolocation_city='silveiras'),\n",
       " Row(geolocation_city='nazare paulista'),\n",
       " Row(geolocation_city='parapuã'),\n",
       " Row(geolocation_city='cosmopolis'),\n",
       " Row(geolocation_city='cabreuva'),\n",
       " Row(geolocation_city='jaguariuna'),\n",
       " Row(geolocation_city='santo antônio do jardim'),\n",
       " Row(geolocation_city='cássia dos coqueiros'),\n",
       " Row(geolocation_city='guaiçara'),\n",
       " Row(geolocation_city='ipero'),\n",
       " Row(geolocation_city='uru'),\n",
       " Row(geolocation_city='avare'),\n",
       " Row(geolocation_city='união paulista'),\n",
       " Row(geolocation_city='miguelópolis'),\n",
       " Row(geolocation_city=\"bandeirantes d'oeste\"),\n",
       " Row(geolocation_city='paranapuã'),\n",
       " Row(geolocation_city='murutinga do sul'),\n",
       " Row(geolocation_city='sarapuí'),\n",
       " Row(geolocation_city='sao manuel'),\n",
       " Row(geolocation_city='itatiba'),\n",
       " Row(geolocation_city='jundiai'),\n",
       " Row(geolocation_city='jaci'),\n",
       " Row(geolocation_city='iporanga'),\n",
       " Row(geolocation_city='ribeirão grande'),\n",
       " Row(geolocation_city='paranapua'),\n",
       " Row(geolocation_city='patrocínio paulista'),\n",
       " Row(geolocation_city='são joão de iracema'),\n",
       " Row(geolocation_city='morro agudo'),\n",
       " Row(geolocation_city='salto de pirapora'),\n",
       " Row(geolocation_city='dirce reis'),\n",
       " Row(geolocation_city='taruma'),\n",
       " Row(geolocation_city='cajuru'),\n",
       " Row(geolocation_city='bady bassitt'),\n",
       " Row(geolocation_city='florida paulista'),\n",
       " Row(geolocation_city='guatapara'),\n",
       " Row(geolocation_city='taquaral'),\n",
       " Row(geolocation_city='nipoã'),\n",
       " Row(geolocation_city='onda verde'),\n",
       " Row(geolocation_city='são joão do pau d%26apos%3balho'),\n",
       " Row(geolocation_city='queluz'),\n",
       " Row(geolocation_city='nova aliança'),\n",
       " Row(geolocation_city='itapura'),\n",
       " Row(geolocation_city='guaianas'),\n",
       " Row(geolocation_city='corumbataí'),\n",
       " Row(geolocation_city='taiúva'),\n",
       " Row(geolocation_city='pereira barreto'),\n",
       " Row(geolocation_city='pontes gestal'),\n",
       " Row(geolocation_city='santa adélia'),\n",
       " Row(geolocation_city='sumaré'),\n",
       " Row(geolocation_city='anhembi'),\n",
       " Row(geolocation_city='regente feijo'),\n",
       " Row(geolocation_city='turiuba'),\n",
       " Row(geolocation_city='cândido rodrigues'),\n",
       " Row(geolocation_city='luiziania'),\n",
       " Row(geolocation_city='buri'),\n",
       " Row(geolocation_city='conceição'),\n",
       " Row(geolocation_city='arandu'),\n",
       " Row(geolocation_city='mombuca'),\n",
       " Row(geolocation_city='sao joao da boa vista'),\n",
       " Row(geolocation_city='lindoia'),\n",
       " Row(geolocation_city='brodowski'),\n",
       " Row(geolocation_city='guarizinho'),\n",
       " Row(geolocation_city='hortolândia'),\n",
       " Row(geolocation_city='elias fausto'),\n",
       " Row(geolocation_city='tambau'),\n",
       " Row(geolocation_city='eleuterio'),\n",
       " Row(geolocation_city='gavião peixoto'),\n",
       " Row(geolocation_city='curupa'),\n",
       " Row(geolocation_city='valparaíso'),\n",
       " Row(geolocation_city='pompeia'),\n",
       " Row(geolocation_city='ocauçu'),\n",
       " Row(geolocation_city='guapiara'),\n",
       " Row(geolocation_city='florínea'),\n",
       " Row(geolocation_city='sao pedro'),\n",
       " Row(geolocation_city='tapiratiba'),\n",
       " Row(geolocation_city='alto alegre'),\n",
       " Row(geolocation_city='caiabu'),\n",
       " Row(geolocation_city='frutal do campo'),\n",
       " Row(geolocation_city='jarinu'),\n",
       " Row(geolocation_city='mogi guacu'),\n",
       " Row(geolocation_city='monte alegre do sul'),\n",
       " Row(geolocation_city='cristais paulista'),\n",
       " Row(geolocation_city='severínia'),\n",
       " Row(geolocation_city='boa esperança do sul'),\n",
       " Row(geolocation_city='orindiuva'),\n",
       " Row(geolocation_city='capao bonito'),\n",
       " Row(geolocation_city='tarumã'),\n",
       " Row(geolocation_city='palmital'),\n",
       " Row(geolocation_city='eleutério'),\n",
       " Row(geolocation_city='pradopolis'),\n",
       " Row(geolocation_city='moncoes'),\n",
       " Row(geolocation_city='mirandópolis'),\n",
       " Row(geolocation_city='bocaina'),\n",
       " Row(geolocation_city='lutecia'),\n",
       " Row(geolocation_city='campos do jordão'),\n",
       " Row(geolocation_city='ribeirão bonito'),\n",
       " Row(geolocation_city='sao roque da fartura'),\n",
       " Row(geolocation_city='itajobi'),\n",
       " Row(geolocation_city='avanhandava'),\n",
       " Row(geolocation_city='riversul'),\n",
       " Row(geolocation_city='pioneiros'),\n",
       " Row(geolocation_city='novais'),\n",
       " Row(geolocation_city='colômbia'),\n",
       " Row(geolocation_city='jaboticabal'),\n",
       " Row(geolocation_city='guzolandia'),\n",
       " Row(geolocation_city='getulina'),\n",
       " Row(geolocation_city='regente feijó'),\n",
       " Row(geolocation_city='guaratinguetá'),\n",
       " Row(geolocation_city='cordeirópolis'),\n",
       " Row(geolocation_city='casa branca'),\n",
       " Row(geolocation_city='itapira'),\n",
       " Row(geolocation_city='birigui'),\n",
       " Row(geolocation_city='guarantã'),\n",
       " Row(geolocation_city='são manuel'),\n",
       " Row(geolocation_city='sao jose do barreiro'),\n",
       " Row(geolocation_city='sao carlos'),\n",
       " Row(geolocation_city='américo de campos'),\n",
       " Row(geolocation_city='brejo alegre'),\n",
       " Row(geolocation_city=\"sao joao do pau d'alho\"),\n",
       " Row(geolocation_city='sao joao das duas pontes'),\n",
       " Row(geolocation_city='macatuba'),\n",
       " Row(geolocation_city='ituverava'),\n",
       " Row(geolocation_city='piquete'),\n",
       " Row(geolocation_city='nazaré paulista'),\n",
       " Row(geolocation_city='dumont'),\n",
       " Row(geolocation_city='nipoa'),\n",
       " Row(geolocation_city='campina do monte alegre'),\n",
       " Row(geolocation_city='pedreira'),\n",
       " Row(geolocation_city='estrela doeste'),\n",
       " Row(geolocation_city='catanduva'),\n",
       " Row(geolocation_city='gália'),\n",
       " Row(geolocation_city='irape'),\n",
       " Row(geolocation_city='cabreúva'),\n",
       " Row(geolocation_city='tabatinga'),\n",
       " Row(geolocation_city='planalto'),\n",
       " Row(geolocation_city='são simão'),\n",
       " Row(geolocation_city='santa clara d oeste'),\n",
       " Row(geolocation_city='dois corregos'),\n",
       " Row(geolocation_city='ribeirão branco'),\n",
       " Row(geolocation_city='santo anastácio'),\n",
       " Row(geolocation_city='maracaí'),\n",
       " Row(geolocation_city='embauba'),\n",
       " Row(geolocation_city='santa branca'),\n",
       " Row(geolocation_city='tuiuti'),\n",
       " Row(geolocation_city=\"estrela d'oeste\"),\n",
       " Row(geolocation_city='ibira'),\n",
       " Row(geolocation_city='tupã'),\n",
       " Row(geolocation_city='jamaica'),\n",
       " Row(geolocation_city='sales'),\n",
       " Row(geolocation_city='suzanápolis'),\n",
       " Row(geolocation_city='fernao'),\n",
       " Row(geolocation_city='fartura'),\n",
       " Row(geolocation_city='florínia'),\n",
       " Row(geolocation_city='vitória brasil'),\n",
       " Row(geolocation_city='palmares paulista'),\n",
       " Row(geolocation_city='lençóis paulista'),\n",
       " Row(geolocation_city='aparecida de são manuel'),\n",
       " Row(geolocation_city='cassia dos coqueiros'),\n",
       " Row(geolocation_city='altair'),\n",
       " Row(geolocation_city='apiai'),\n",
       " Row(geolocation_city='pirapozinho'),\n",
       " Row(geolocation_city='quata'),\n",
       " Row(geolocation_city='dourado'),\n",
       " Row(geolocation_city='jaguariúna'),\n",
       " Row(geolocation_city='itirapua'),\n",
       " Row(geolocation_city='quintana'),\n",
       " Row(geolocation_city='pratania'),\n",
       " Row(geolocation_city='piquerobi'),\n",
       " Row(geolocation_city='iracemápolis'),\n",
       " Row(geolocation_city='ribeirao preto'),\n",
       " Row(geolocation_city='trabiju'),\n",
       " Row(geolocation_city='icem'),\n",
       " Row(geolocation_city='taquarivaí'),\n",
       " Row(geolocation_city='joanopolis'),\n",
       " Row(geolocation_city='holambra'),\n",
       " Row(geolocation_city='itápolis'),\n",
       " Row(geolocation_city='catiguá'),\n",
       " Row(geolocation_city='alvinlandia'),\n",
       " Row(geolocation_city='sarutaia'),\n",
       " Row(geolocation_city='guará'),\n",
       " Row(geolocation_city='ibate'),\n",
       " Row(geolocation_city='nhandeara'),\n",
       " Row(geolocation_city='lourdes'),\n",
       " Row(geolocation_city='botelho'),\n",
       " Row(geolocation_city='itaoca'),\n",
       " Row(geolocation_city='barao de antonina'),\n",
       " Row(geolocation_city='tejupá'),\n",
       " Row(geolocation_city='oscar bressane'),\n",
       " Row(geolocation_city='ipuã'),\n",
       " Row(geolocation_city='zacarias'),\n",
       " Row(geolocation_city='catigua'),\n",
       " Row(geolocation_city='pracinha'),\n",
       " Row(geolocation_city='alumínio'),\n",
       " Row(geolocation_city='bragança paulista'),\n",
       " Row(geolocation_city='são carlos'),\n",
       " Row(geolocation_city='marinópolis'),\n",
       " Row(geolocation_city='matao'),\n",
       " Row(geolocation_city='rinópolis'),\n",
       " Row(geolocation_city='águas de santa bárbara'),\n",
       " Row(geolocation_city='igaraí'),\n",
       " Row(geolocation_city='ribeirao corrente'),\n",
       " Row(geolocation_city='nova granada'),\n",
       " Row(geolocation_city='santopolis do aguapei'),\n",
       " Row(geolocation_city='guaicara'),\n",
       " Row(geolocation_city='itabera'),\n",
       " Row(geolocation_city='canitar'),\n",
       " Row(geolocation_city='presidente prudente'),\n",
       " Row(geolocation_city='eneida'),\n",
       " Row(geolocation_city='agisse'),\n",
       " Row(geolocation_city='americana'),\n",
       " Row(geolocation_city='irapuã'),\n",
       " Row(geolocation_city='tres fronteiras'),\n",
       " Row(geolocation_city='lupércio'),\n",
       " Row(geolocation_city='guarei'),\n",
       " Row(geolocation_city='quadra'),\n",
       " Row(geolocation_city='chavantes'),\n",
       " Row(geolocation_city='meridiano'),\n",
       " Row(geolocation_city='taquarituba'),\n",
       " Row(geolocation_city='emilianópolis'),\n",
       " Row(geolocation_city='são joaquim da barra'),\n",
       " Row(geolocation_city='sales oliveira'),\n",
       " Row(geolocation_city='severinia'),\n",
       " Row(geolocation_city='olímpia'),\n",
       " Row(geolocation_city='cajobi'),\n",
       " Row(geolocation_city='santópolis do aguapeí'),\n",
       " Row(geolocation_city='sao joao de iracema'),\n",
       " Row(geolocation_city='urânia'),\n",
       " Row(geolocation_city='luiziânia'),\n",
       " Row(geolocation_city='itaju'),\n",
       " Row(geolocation_city='lucelia'),\n",
       " Row(geolocation_city='caiua'),\n",
       " Row(geolocation_city='santo antonio do jardim'),\n",
       " Row(geolocation_city=\"santa rita d'oeste\"),\n",
       " Row(geolocation_city='presidente alves'),\n",
       " Row(geolocation_city='igaracu do tiete'),\n",
       " Row(geolocation_city='marapoama'),\n",
       " Row(geolocation_city='sabino'),\n",
       " Row(geolocation_city='barra do chapeu'),\n",
       " Row(geolocation_city='sandovalina'),\n",
       " Row(geolocation_city='orlandia'),\n",
       " Row(geolocation_city='orlândia'),\n",
       " Row(geolocation_city='borborema'),\n",
       " Row(geolocation_city='populina'),\n",
       " Row(geolocation_city='palmeira d oeste'),\n",
       " Row(geolocation_city='cedral'),\n",
       " Row(geolocation_city='santa bárbara doeste'),\n",
       " Row(geolocation_city='porto ferreira'),\n",
       " Row(geolocation_city='boituva'),\n",
       " Row(geolocation_city='tiete'),\n",
       " Row(geolocation_city='óleo'),\n",
       " Row(geolocation_city='alvares machado'),\n",
       " Row(geolocation_city='presidente epitacio'),\n",
       " Row(geolocation_city='taiaçu'),\n",
       " Row(geolocation_city='pongaí'),\n",
       " Row(geolocation_city='caporanga'),\n",
       " Row(geolocation_city='igarapava'),\n",
       " Row(geolocation_city='balsamo'),\n",
       " Row(geolocation_city='termas de ibira'),\n",
       " Row(geolocation_city='vista alegre do alto'),\n",
       " Row(geolocation_city=\"são joão do pau d'alho\"),\n",
       " Row(geolocation_city='nova odessa'),\n",
       " Row(geolocation_city='sao jose do rio preto'),\n",
       " Row(geolocation_city='santana da ponte pensa'),\n",
       " Row(geolocation_city='aparecida doeste'),\n",
       " Row(geolocation_city='pederneiras'),\n",
       " Row(geolocation_city='jafa'),\n",
       " Row(geolocation_city='julio mesquita'),\n",
       " Row(geolocation_city='apiaí'),\n",
       " Row(geolocation_city='jacarei'),\n",
       " Row(geolocation_city='novo horizonte'),\n",
       " Row(geolocation_city='tapinas'),\n",
       " Row(geolocation_city='palmeira doeste'),\n",
       " Row(geolocation_city='boracéia'),\n",
       " Row(geolocation_city='guarapua'),\n",
       " Row(geolocation_city='itapetininga'),\n",
       " Row(geolocation_city='alfredo guedes'),\n",
       " Row(geolocation_city='emilianopolis'),\n",
       " Row(geolocation_city='são josé das laranjeiras'),\n",
       " Row(geolocation_city='são joão de itaguaçu'),\n",
       " Row(geolocation_city='galia'),\n",
       " Row(geolocation_city='cesario lange'),\n",
       " Row(geolocation_city='campos de cunha'),\n",
       " Row(geolocation_city='itu'),\n",
       " Row(geolocation_city='são sebastião da grama'),\n",
       " Row(geolocation_city='venda branca'),\n",
       " Row(geolocation_city='agudos'),\n",
       " Row(geolocation_city='taguai'),\n",
       " Row(geolocation_city='roseira'),\n",
       " Row(geolocation_city='mineiros do tietê'),\n",
       " Row(geolocation_city='herculândia'),\n",
       " Row(geolocation_city='ipua'),\n",
       " Row(geolocation_city='santa fé do sul'),\n",
       " Row(geolocation_city='rubiacea'),\n",
       " Row(geolocation_city='angatuba'),\n",
       " Row(geolocation_city='ribeirao do sul'),\n",
       " Row(geolocation_city='paulínia'),\n",
       " Row(geolocation_city='várzea paulista'),\n",
       " Row(geolocation_city='aluminio'),\n",
       " Row(geolocation_city='cuiabá paulista'),\n",
       " Row(geolocation_city='cafelandia'),\n",
       " Row(geolocation_city='monte castelo'),\n",
       " Row(geolocation_city='jeriquara'),\n",
       " Row(geolocation_city='penapolis'),\n",
       " Row(geolocation_city='cabralia paulista'),\n",
       " Row(geolocation_city='ouro verde'),\n",
       " Row(geolocation_city='itapirapua paulista'),\n",
       " Row(geolocation_city='ribeirão do sul'),\n",
       " Row(geolocation_city='cunha'),\n",
       " Row(geolocation_city='rio claro'),\n",
       " Row(geolocation_city='auriflama'),\n",
       " Row(geolocation_city='pedranopolis'),\n",
       " Row(geolocation_city='aracatuba'),\n",
       " Row(geolocation_city='guatapará'),\n",
       " Row(geolocation_city='sao joaquim da barra'),\n",
       " Row(geolocation_city='nova canaã paulista'),\n",
       " Row(geolocation_city='piacatu'),\n",
       " Row(geolocation_city='bernardino de campos'),\n",
       " Row(geolocation_city='santo antônio de posse'),\n",
       " Row(geolocation_city='buritizal'),\n",
       " Row(geolocation_city='panorama'),\n",
       " Row(geolocation_city='ipiguá'),\n",
       " Row(geolocation_city='urupês'),\n",
       " Row(geolocation_city='roberto'),\n",
       " Row(geolocation_city='barra bonita'),\n",
       " Row(geolocation_city='inubia paulista'),\n",
       " Row(geolocation_city='rancharia'),\n",
       " Row(geolocation_city='cosmópolis'),\n",
       " Row(geolocation_city='mágda'),\n",
       " Row(geolocation_city='nova independência'),\n",
       " Row(geolocation_city='salmourão'),\n",
       " Row(geolocation_city='tatui'),\n",
       " Row(geolocation_city='campinal'),\n",
       " Row(geolocation_city='santa eudóxia'),\n",
       " Row(geolocation_city='aguai'),\n",
       " Row(geolocation_city='franca'),\n",
       " Row(geolocation_city='bananal'),\n",
       " Row(geolocation_city='analandia'),\n",
       " Row(geolocation_city='santa lúcia'),\n",
       " Row(geolocation_city='candido rodrigues'),\n",
       " Row(geolocation_city='potunduva'),\n",
       " Row(geolocation_city='reginopolis'),\n",
       " Row(geolocation_city='arco-iris'),\n",
       " Row(geolocation_city='joao ramalho'),\n",
       " Row(geolocation_city='paraguaçu paulista'),\n",
       " Row(geolocation_city='varzea paulista'),\n",
       " Row(geolocation_city='capivari'),\n",
       " Row(geolocation_city='icém'),\n",
       " Row(geolocation_city='ibirarema'),\n",
       " Row(geolocation_city='jacare (cabreuva)'),\n",
       " Row(geolocation_city='bonfim paulista'),\n",
       " Row(geolocation_city='nova itapirema'),\n",
       " Row(geolocation_city='cardoso'),\n",
       " Row(geolocation_city='lavinia'),\n",
       " Row(geolocation_city='piratininga'),\n",
       " Row(geolocation_city='nova patria'),\n",
       " Row(geolocation_city='amparo'),\n",
       " Row(geolocation_city='são josé do rio preto'),\n",
       " Row(geolocation_city='aparecida de monte alto'),\n",
       " Row(geolocation_city='penápolis'),\n",
       " Row(geolocation_city='pardinho'),\n",
       " Row(geolocation_city='igarata'),\n",
       " Row(geolocation_city='charqueada'),\n",
       " Row(geolocation_city='rincão'),\n",
       " Row(geolocation_city='gastão vidigal'),\n",
       " Row(geolocation_city='dolcinopolis'),\n",
       " Row(geolocation_city='pirajuí'),\n",
       " Row(geolocation_city='maraba paulista'),\n",
       " Row(geolocation_city='anhumas'),\n",
       " Row(geolocation_city='ipeuna'),\n",
       " Row(geolocation_city='botucatu'),\n",
       " Row(geolocation_city='estrela do norte'),\n",
       " Row(geolocation_city='sao sebastiao da grama'),\n",
       " Row(geolocation_city='são josé da bela vista'),\n",
       " Row(geolocation_city='sud mennucci'),\n",
       " Row(geolocation_city='araçatuba'),\n",
       " Row(geolocation_city='sarutaiá'),\n",
       " Row(geolocation_city='costa machado'),\n",
       " Row(geolocation_city='limeira'),\n",
       " Row(geolocation_city='rincao'),\n",
       " Row(geolocation_city='macaubal'),\n",
       " Row(geolocation_city='álvares florence'),\n",
       " Row(geolocation_city='glicério'),\n",
       " Row(geolocation_city='pompéia'),\n",
       " Row(geolocation_city='pauliceia'),\n",
       " Row(geolocation_city='itaberá'),\n",
       " Row(geolocation_city='guaira'),\n",
       " Row(geolocation_city='monções'),\n",
       " Row(geolocation_city='nova castilho'),\n",
       " Row(geolocation_city='cabrália paulista'),\n",
       " Row(geolocation_city='coronel macedo'),\n",
       " Row(geolocation_city='balbinos'),\n",
       " Row(geolocation_city='guaracai'),\n",
       " Row(geolocation_city='alvaro de carvalho'),\n",
       " Row(geolocation_city='sao joao do pau d alho'),\n",
       " Row(geolocation_city='sarapui'),\n",
       " Row(geolocation_city='águas da prata'),\n",
       " Row(geolocation_city='mendonça'),\n",
       " Row(geolocation_city='brauna'),\n",
       " Row(geolocation_city='santa maria da serra'),\n",
       " Row(geolocation_city='aracariguama'),\n",
       " Row(geolocation_city='lagoa branca'),\n",
       " Row(geolocation_city='paraiso'),\n",
       " Row(geolocation_city='santa adelia'),\n",
       " Row(geolocation_city='guaimbe'),\n",
       " Row(geolocation_city='cafelândia'),\n",
       " Row(geolocation_city='bariri'),\n",
       " Row(geolocation_city='sao roque'),\n",
       " Row(geolocation_city='pirassununga'),\n",
       " Row(geolocation_city='socorro'),\n",
       " Row(geolocation_city='paraíso'),\n",
       " Row(geolocation_city='bastos'),\n",
       " Row(geolocation_city='junqueiropolis'),\n",
       " Row(geolocation_city='cerquilho'),\n",
       " Row(geolocation_city='são josé do barreiro'),\n",
       " Row(geolocation_city='brotas'),\n",
       " Row(geolocation_city='gramadinho'),\n",
       " Row(geolocation_city='lutécia'),\n",
       " Row(geolocation_city=\"santa bárbara d'oeste\"),\n",
       " Row(geolocation_city='potirendaba'),\n",
       " Row(geolocation_city='nova luzitania'),\n",
       " Row(geolocation_city='itapui'),\n",
       " Row(geolocation_city='barão de antonina'),\n",
       " Row(geolocation_city='são pedro do turvo'),\n",
       " Row(geolocation_city='echapora'),\n",
       " Row(geolocation_city='jacareí'),\n",
       " Row(geolocation_city='santo antônio do pinhal'),\n",
       " Row(geolocation_city='mogi-guacu'),\n",
       " Row(geolocation_city='aguas de lindoia'),\n",
       " Row(geolocation_city='mirandopolis'),\n",
       " Row(geolocation_city='ribeirao bonito'),\n",
       " Row(geolocation_city='tambaú'),\n",
       " Row(geolocation_city='poloni'),\n",
       " Row(geolocation_city='sebastianópolis do sul'),\n",
       " Row(geolocation_city='vitoria brasil'),\n",
       " Row(geolocation_city='sorocaba'),\n",
       " Row(geolocation_city='pinhalzinho'),\n",
       " Row(geolocation_city='votuporanga'),\n",
       " Row(geolocation_city='tupi paulista'),\n",
       " Row(geolocation_city='descalvado'),\n",
       " Row(geolocation_city='guapiacu'),\n",
       " Row(geolocation_city='americo de campos'),\n",
       " Row(geolocation_city='andradina'),\n",
       " Row(geolocation_city='são miguel arcanjo'),\n",
       " Row(geolocation_city='piramboia'),\n",
       " Row(geolocation_city='tecainda'),\n",
       " Row(geolocation_city='juruce'),\n",
       " Row(geolocation_city='jose bonifacio'),\n",
       " Row(geolocation_city='iaras'),\n",
       " Row(geolocation_city='canas'),\n",
       " Row(geolocation_city='cruzeiro'),\n",
       " Row(geolocation_city='jacaré (cabreúva)'),\n",
       " Row(geolocation_city='ipeúna'),\n",
       " Row(geolocation_city='motuca'),\n",
       " Row(geolocation_city='lupercio'),\n",
       " Row(geolocation_city='santa cruz da conceicao'),\n",
       " Row(geolocation_city='mira estrela'),\n",
       " Row(geolocation_city='sao simao'),\n",
       " Row(geolocation_city='queiroz'),\n",
       " Row(geolocation_city='itarare'),\n",
       " Row(geolocation_city='igaratá'),\n",
       " Row(geolocation_city='bom jesus dos perdoes'),\n",
       " Row(geolocation_city='ribeirão preto'),\n",
       " Row(geolocation_city='santo antônio da alegria'),\n",
       " Row(geolocation_city='santa albertina'),\n",
       " Row(geolocation_city='sao benedito da cachoeirinha'),\n",
       " Row(geolocation_city='ibaté'),\n",
       " Row(geolocation_city='morungaba'),\n",
       " Row(geolocation_city='jacare'),\n",
       " Row(geolocation_city='mococa'),\n",
       " Row(geolocation_city='são josé do rio pardo'),\n",
       " Row(geolocation_city='santa cruz da esperanca'),\n",
       " Row(geolocation_city='nuporanga'),\n",
       " Row(geolocation_city='mirassol'),\n",
       " Row(geolocation_city='suzanapolis'),\n",
       " Row(geolocation_city='ibiúna'),\n",
       " Row(geolocation_city='vargem'),\n",
       " Row(geolocation_city='santa bárbara d`oeste'),\n",
       " Row(geolocation_city='alvares florence'),\n",
       " Row(geolocation_city='rinopolis'),\n",
       " Row(geolocation_city='terra roxa'),\n",
       " Row(geolocation_city='tupa'),\n",
       " Row(geolocation_city='cesário lange'),\n",
       " Row(geolocation_city='teodoro sampaio'),\n",
       " Row(geolocation_city='arapei'),\n",
       " Row(geolocation_city='bebedouro'),\n",
       " Row(geolocation_city='santa rita d oeste'),\n",
       " Row(geolocation_city='paulistania'),\n",
       " Row(geolocation_city='guareí'),\n",
       " Row(geolocation_city='aparecida de sao manuel'),\n",
       " Row(geolocation_city='sebastianopolis do sul'),\n",
       " Row(geolocation_city='turmalina'),\n",
       " Row(geolocation_city='torrinha'),\n",
       " Row(geolocation_city='flora rica'),\n",
       " Row(geolocation_city='bom sucesso de itarare'),\n",
       " Row(geolocation_city='assis'),\n",
       " Row(geolocation_city='itobi'),\n",
       " Row(geolocation_city='cosmorama'),\n",
       " Row(geolocation_city='mariapolis'),\n",
       " Row(geolocation_city='lorena'),\n",
       " Row(geolocation_city='ouroeste'),\n",
       " Row(geolocation_city='paulicéia'),\n",
       " Row(geolocation_city='paulinia'),\n",
       " Row(geolocation_city='serra azul'),\n",
       " Row(geolocation_city='bálsamo'),\n",
       " Row(geolocation_city='mirassolândia'),\n",
       " Row(geolocation_city='macedonia'),\n",
       " Row(geolocation_city='lucianopolis'),\n",
       " Row(geolocation_city='rubiao junior'),\n",
       " Row(geolocation_city='valinhos'),\n",
       " Row(geolocation_city='corumbatai'),\n",
       " Row(geolocation_city='sao benedito das areias'),\n",
       " Row(geolocation_city='santo antonio de posse'),\n",
       " Row(geolocation_city='irapua'),\n",
       " Row(geolocation_city='bauru'),\n",
       " Row(geolocation_city='presidente epitácio'),\n",
       " Row(geolocation_city='santa mercedes'),\n",
       " Row(geolocation_city='agua vermelha'),\n",
       " Row(geolocation_city='guaraci'),\n",
       " Row(geolocation_city='mineiros do tiete'),\n",
       " Row(geolocation_city='ribeirao grande'),\n",
       " Row(geolocation_city='echaporã'),\n",
       " Row(geolocation_city='cravinhos'),\n",
       " Row(geolocation_city='monte aprazível'),\n",
       " Row(geolocation_city='tapiraí'),\n",
       " Row(geolocation_city='álvares machado'),\n",
       " Row(geolocation_city='mairinque'),\n",
       " Row(geolocation_city='patrocinio paulista'),\n",
       " Row(geolocation_city=\"aparecida d'oeste\"),\n",
       " Row(geolocation_city='artur nogueira'),\n",
       " Row(geolocation_city='hortolandia'),\n",
       " Row(geolocation_city='indaiatuba'),\n",
       " Row(geolocation_city='jardinópolis'),\n",
       " Row(geolocation_city='itapolis'),\n",
       " Row(geolocation_city='embaúba'),\n",
       " Row(geolocation_city='tapirai'),\n",
       " Row(geolocation_city='nova alexandria'),\n",
       " Row(geolocation_city='são joão das duas pontes'),\n",
       " Row(geolocation_city='santa salete'),\n",
       " Row(geolocation_city='são francisco'),\n",
       " Row(geolocation_city='santa rita doeste'),\n",
       " Row(geolocation_city='laranjal paulista'),\n",
       " Row(geolocation_city='jumirim'),\n",
       " Row(geolocation_city='sodrelia'),\n",
       " Row(geolocation_city='riolandia'),\n",
       " Row(geolocation_city='salmourao'),\n",
       " Row(geolocation_city='rio das pedras'),\n",
       " Row(geolocation_city='tarabai'),\n",
       " Row(geolocation_city='sumare'),\n",
       " Row(geolocation_city='louveira'),\n",
       " Row(geolocation_city='barretos'),\n",
       " Row(geolocation_city='barrinha'),\n",
       " Row(geolocation_city='sao joao de itaguacu'),\n",
       " Row(geolocation_city='vera cruz'),\n",
       " Row(geolocation_city='maracai'),\n",
       " Row(geolocation_city='divinolândia'),\n",
       " Row(geolocation_city='sertãozinho'),\n",
       " Row(geolocation_city=\"guarani d'oeste\"),\n",
       " Row(geolocation_city='avaré'),\n",
       " Row(geolocation_city='saltinho'),\n",
       " Row(geolocation_city='cordeiropolis'),\n",
       " Row(geolocation_city='neves paulista'),\n",
       " Row(geolocation_city='ubarana'),\n",
       " Row(geolocation_city=\"santa clara d'oeste\"),\n",
       " Row(geolocation_city='sao francisco'),\n",
       " Row(geolocation_city='santa cruz do rio pardo'),\n",
       " Row(geolocation_city='leme'),\n",
       " Row(geolocation_city='orindiúva'),\n",
       " Row(geolocation_city='brasitânia'),\n",
       " Row(geolocation_city='oriente'),\n",
       " Row(geolocation_city='vinhedo'),\n",
       " Row(geolocation_city='santa barbara d oeste'),\n",
       " Row(geolocation_city='nova america'),\n",
       " Row(geolocation_city='tanabi'),\n",
       " Row(geolocation_city='guaraçaí'),\n",
       " Row(geolocation_city='herculandia'),\n",
       " Row(geolocation_city='floresta do sul'),\n",
       " Row(geolocation_city='areias'),\n",
       " Row(geolocation_city='américo brasiliense'),\n",
       " Row(geolocation_city='miguelopolis'),\n",
       " Row(geolocation_city='taiacu'),\n",
       " Row(geolocation_city='gaviao peixoto'),\n",
       " Row(geolocation_city='iepê'),\n",
       " Row(geolocation_city='quatá'),\n",
       " Row(geolocation_city='itirapina'),\n",
       " Row(geolocation_city='tabapua'),\n",
       " Row(geolocation_city='avai'),\n",
       " Row(geolocation_city='manduri'),\n",
       " Row(geolocation_city='bom jesus dos perdões'),\n",
       " Row(geolocation_city='águas de lindóia'),\n",
       " Row(geolocation_city='juritis'),\n",
       " Row(geolocation_city='santo antonio do pinhal'),\n",
       " Row(geolocation_city='josé bonifácio'),\n",
       " Row(geolocation_city='aspasia'),\n",
       " Row(geolocation_city='timburi'),\n",
       " Row(geolocation_city='cardeal'),\n",
       " Row(geolocation_city='são benedito das areias'),\n",
       " Row(geolocation_city='igarai'),\n",
       " Row(geolocation_city='baguacu'),\n",
       " Row(geolocation_city='pontalinda'),\n",
       " Row(geolocation_city='indiana'),\n",
       " Row(geolocation_city='águas de são pedro'),\n",
       " Row(geolocation_city='martinho prado junior'),\n",
       " Row(geolocation_city='candia'),\n",
       " Row(geolocation_city='itatinga'),\n",
       " Row(geolocation_city='são francisco xavier'),\n",
       " Row(geolocation_city='são joão da boa vista'),\n",
       " Row(geolocation_city='restinga'),\n",
       " Row(geolocation_city='fernandópolis'),\n",
       " Row(geolocation_city='itaporanga'),\n",
       " Row(geolocation_city='santa cruz da conceição'),\n",
       " Row(geolocation_city='guapiaçu'),\n",
       " Row(geolocation_city='birigüi'),\n",
       " Row(geolocation_city='lindóia'),\n",
       " Row(geolocation_city='mirassolandia'),\n",
       " Row(geolocation_city='santa fe do sul'),\n",
       " Row(geolocation_city='domelia'),\n",
       " Row(geolocation_city='taciba'),\n",
       " Row(geolocation_city='jardinopolis'),\n",
       " Row(geolocation_city='macedônia'),\n",
       " Row(geolocation_city='boraceia'),\n",
       " Row(geolocation_city='bom fim do bom jesus'),\n",
       " Row(geolocation_city='sao jose do rio pardo'),\n",
       " Row(geolocation_city='itapuí'),\n",
       " Row(geolocation_city='igaraçu do tietê'),\n",
       " Row(geolocation_city='campo limpo paulista'),\n",
       " Row(geolocation_city='marília'),\n",
       " Row(geolocation_city='sao miguel arcanjo'),\n",
       " Row(geolocation_city='piraju'),\n",
       " Row(geolocation_city='espírito santo do turvo'),\n",
       " Row(geolocation_city='vargem grande do sul'),\n",
       " Row(geolocation_city='coroados'),\n",
       " Row(geolocation_city='barbosa'),\n",
       " Row(geolocation_city='lins'),\n",
       " Row(geolocation_city='ribeirao branco'),\n",
       " Row(geolocation_city='espigao'),\n",
       " Row(geolocation_city='espirito santo do pinhal'),\n",
       " Row(geolocation_city='martinópolis'),\n",
       " Row(geolocation_city='platina'),\n",
       " Row(geolocation_city='braganca paulista'),\n",
       " Row(geolocation_city='jales'),\n",
       " Row(geolocation_city='simoes'),\n",
       " Row(geolocation_city='ubirajara'),\n",
       " Row(geolocation_city='itai'),\n",
       " Row(geolocation_city='pradópolis'),\n",
       " Row(geolocation_city='turiúba'),\n",
       " Row(geolocation_city='tabapuã'),\n",
       " Row(geolocation_city='ocaucu'),\n",
       " Row(geolocation_city='porto feliz'),\n",
       " Row(geolocation_city='pacaembu'),\n",
       " Row(geolocation_city='bofete'),\n",
       " Row(geolocation_city='areiópolis'),\n",
       " Row(geolocation_city='sao francisco xavier'),\n",
       " Row(geolocation_city='ribeirão corrente'),\n",
       " Row(geolocation_city='fernandopolis'),\n",
       " Row(geolocation_city='taquaritinga'),\n",
       " Row(geolocation_city='dois córregos'),\n",
       " Row(geolocation_city='barão ataliba nogueira'),\n",
       " Row(geolocation_city='mendonca'),\n",
       " Row(geolocation_city='guara'),\n",
       " Row(geolocation_city='ibirá'),\n",
       " Row(geolocation_city='itaóca'),\n",
       " Row(geolocation_city='paranapanema'),\n",
       " Row(geolocation_city='engenheiro coelho'),\n",
       " Row(geolocation_city='pontal'),\n",
       " Row(geolocation_city='boa vista dos andradas'),\n",
       " Row(geolocation_city='ariranha'),\n",
       " Row(geolocation_city='lencois paulista'),\n",
       " Row(geolocation_city='borebi'),\n",
       " Row(geolocation_city='sao pedro do turvo'),\n",
       " Row(geolocation_city='monte aprazivel'),\n",
       " Row(geolocation_city='monte alto'),\n",
       " Row(geolocation_city='guaratingueta'),\n",
       " Row(geolocation_city='colina'),\n",
       " Row(geolocation_city='taiuva'),\n",
       " Row(geolocation_city='adolfo'),\n",
       " Row(geolocation_city='mesopolis'),\n",
       " Row(geolocation_city='pedrinhas paulista'),\n",
       " Row(geolocation_city='piracicaba'),\n",
       " Row(geolocation_city='santo antônio do aracanguá'),\n",
       " Row(geolocation_city='jau'),\n",
       " Row(geolocation_city='sao jose da bela vista'),\n",
       " Row(geolocation_city='arealva'),\n",
       " Row(geolocation_city='parapua'),\n",
       " Row(geolocation_city='itapirapuã paulista'),\n",
       " ...]"
      ]
     },
     "execution_count": 15,
     "metadata": {},
     "output_type": "execute_result"
    }
   ],
   "source": [
    "# Verificando se há inconsistência nos valores únicos da coluna geolocation_city\n",
    "geolocalization.select('geolocation_city').distinct().collect()"
   ]
  },
  {
   "attachments": {},
   "cell_type": "markdown",
   "metadata": {},
   "source": [
    "Aqui temos uma situação semelhante a da tabela anterior, sendo necessário \n",
    "normalizar a coluna ``geolocation_state``, mas com adições, onde as colunas que\n",
    "representam dados geográficos também terão seu tipo alterado. Além disso, a \n",
    "coluna ``geolocation_city``apresentou alguns valores duplicados, mas que se \n",
    "referem a mesma cidade, então será necessário realizar uma limpeza nela."
   ]
  },
  {
   "cell_type": "code",
   "execution_count": 16,
   "metadata": {},
   "outputs": [],
   "source": [
    "geolocalization = spark.sql(\"SELECT g.geolocation_zip_code_prefix,  \\\n",
    "                          CAST(g.geolocation_lat AS DOUBLE),  \\\n",
    "                          CAST(g.geolocation_lng AS DOUBLE),  \\\n",
    "                          LOWER(cp.locality) AS geolocation_city, \\\n",
    "                          g.geolocation_city AS geolocation_city_original, \\\n",
    "                          LOWER(geolocation_state) AS geolocation_state \\\n",
    "                         FROM geolocalization AS g  \\\n",
    "                         LEFT JOIN ceps cp  \\\n",
    "                         ON CAST(g.geolocation_zip_code_prefix AS INT) = cp.cep_prefix\")"
   ]
  },
  {
   "cell_type": "code",
   "execution_count": 17,
   "metadata": {},
   "outputs": [
    {
     "ename": "NameError",
     "evalue": "name 'count' is not defined",
     "output_type": "error",
     "traceback": [
      "\u001b[0;31m---------------------------------------------------------------------------\u001b[0m",
      "\u001b[0;31mNameError\u001b[0m                                 Traceback (most recent call last)",
      "Cell \u001b[0;32mIn[17], line 2\u001b[0m\n\u001b[1;32m      1\u001b[0m \u001b[39m# Verificando os valores missing\u001b[39;00m\n\u001b[0;32m----> 2\u001b[0m geolocalization\u001b[39m.\u001b[39mselect([count(when(isnan(coluna) \u001b[39m|\u001b[39m col(coluna)\u001b[39m.\u001b[39misNull(), coluna))\u001b[39m.\u001b[39malias(coluna) \u001b[39mfor\u001b[39;00m coluna \u001b[39min\u001b[39;00m geolocalization\u001b[39m.\u001b[39mcolumns]\n\u001b[1;32m      3\u001b[0m    )\u001b[39m.\u001b[39mshow()\n",
      "Cell \u001b[0;32mIn[17], line 2\u001b[0m, in \u001b[0;36m<listcomp>\u001b[0;34m(.0)\u001b[0m\n\u001b[1;32m      1\u001b[0m \u001b[39m# Verificando os valores missing\u001b[39;00m\n\u001b[0;32m----> 2\u001b[0m geolocalization\u001b[39m.\u001b[39mselect([count(when(isnan(coluna) \u001b[39m|\u001b[39m col(coluna)\u001b[39m.\u001b[39misNull(), coluna))\u001b[39m.\u001b[39malias(coluna) \u001b[39mfor\u001b[39;00m coluna \u001b[39min\u001b[39;00m geolocalization\u001b[39m.\u001b[39mcolumns]\n\u001b[1;32m      3\u001b[0m    )\u001b[39m.\u001b[39mshow()\n",
      "\u001b[0;31mNameError\u001b[0m: name 'count' is not defined"
     ]
    }
   ],
   "source": [
    "# Verificando os valores missing\n",
    "geolocalization.select([count(when(isnan(coluna) | col(coluna).isNull(), coluna)).alias(coluna) for coluna in geolocalization.columns]\n",
    "   ).show()"
   ]
  },
  {
   "cell_type": "code",
   "execution_count": null,
   "metadata": {},
   "outputs": [],
   "source": [
    "# Como a coluna geolocation_city_CEP possui valores missing, terei que inputar \n",
    "# os valores originais da coluna geolocation_city. Para isso, irei dividir a\n",
    "# tabela em duas, uma com os valores missing e outra com os valores não missing\n",
    "# e depois concatená-las\n",
    "\n",
    "geolocalization_com_missing = geolocalization.filter(\"geolocation_city IS NULL\")\n",
    "geolocalization = geolocalization.filter(\"geolocation_city IS NOT NULL\")\n",
    "geolocalization_com_missing = geolocalization_com_missing.withColumn('geolocation_city', col(\"geolocation_city_original\"))\n",
    "geolocalization = geolocalization.union(geolocalization_com_missing)"
   ]
  },
  {
   "cell_type": "code",
   "execution_count": null,
   "metadata": {},
   "outputs": [
    {
     "name": "stdout",
     "output_type": "stream",
     "text": [
      "+---------------------------+-------------------+------------------+--------------------+----------------+-----------------+\n",
      "|geolocation_zip_code_prefix|    geolocation_lat|   geolocation_lng|geolocation_city_CEP|geolocation_city|geolocation_state|\n",
      "+---------------------------+-------------------+------------------+--------------------+----------------+-----------------+\n",
      "|                      01037| -23.54562128115268|-46.63929204800168|           são paulo|       sao paulo|               sp|\n",
      "|                      01037| -23.54562128115268|-46.63929204800168|           são paulo|       sao paulo|               sp|\n",
      "|                      01046|-23.546081127035535|-46.64482029837157|           são paulo|       sao paulo|               sp|\n",
      "|                      01046|-23.546081127035535|-46.64482029837157|           são paulo|       sao paulo|               sp|\n",
      "|                      01046| -23.54612896641469|-46.64295148361138|           são paulo|       sao paulo|               sp|\n",
      "|                      01046| -23.54612896641469|-46.64295148361138|           são paulo|       sao paulo|               sp|\n",
      "|                      01041|  -23.5443921648681|-46.63949930627844|           são paulo|       sao paulo|               sp|\n",
      "|                      01041|  -23.5443921648681|-46.63949930627844|           são paulo|       sao paulo|               sp|\n",
      "|                      01035|-23.541577961711493|-46.64160722329613|           são paulo|       sao paulo|               sp|\n",
      "|                      01035|-23.541577961711493|-46.64160722329613|           são paulo|       sao paulo|               sp|\n",
      "|                      01012|-23.547762303364266|-46.63536053788448|           são paulo|       são paulo|               sp|\n",
      "|                      01012|-23.547762303364266|-46.63536053788448|           são paulo|       são paulo|               sp|\n",
      "|                      01047|-23.546273112412678|-46.64122516971552|           são paulo|       sao paulo|               sp|\n",
      "|                      01047|-23.546273112412678|-46.64122516971552|           são paulo|       sao paulo|               sp|\n",
      "|                      01013|-23.546923208436723| -46.6342636964915|           são paulo|       sao paulo|               sp|\n",
      "|                      01013|-23.546923208436723| -46.6342636964915|           são paulo|       sao paulo|               sp|\n",
      "|                      01029|-23.543769055769133|-46.63427784085132|           são paulo|       sao paulo|               sp|\n",
      "|                      01029|-23.543769055769133|-46.63427784085132|           são paulo|       sao paulo|               sp|\n",
      "|                      01011|-23.547639550320632|-46.63603162315495|           são paulo|       sao paulo|               sp|\n",
      "|                      01011|-23.547639550320632|-46.63603162315495|           são paulo|       sao paulo|               sp|\n",
      "+---------------------------+-------------------+------------------+--------------------+----------------+-----------------+\n",
      "only showing top 20 rows\n",
      "\n"
     ]
    }
   ],
   "source": [
    "geolocalization.show()"
   ]
  },
  {
   "attachments": {},
   "cell_type": "markdown",
   "metadata": {},
   "source": [
    "## order_items"
   ]
  },
  {
   "cell_type": "code",
   "execution_count": 20,
   "metadata": {},
   "outputs": [
    {
     "name": "stdout",
     "output_type": "stream",
     "text": [
      "+--------------------+-------------+--------------------+--------------------+-------------------+------+-------------+\n",
      "|            order_id|order_item_id|          product_id|           seller_id|shipping_limit_date| price|freight_value|\n",
      "+--------------------+-------------+--------------------+--------------------+-------------------+------+-------------+\n",
      "|00010242fe8c5a6d1...|            1|4244733e06e7ecb49...|48436dade18ac8b2b...|2017-09-19 09:45:35| 58.90|        13.29|\n",
      "|00018f77f2f0320c5...|            1|e5f2d52b802189ee6...|dd7ddc04e1b6c2c61...|2017-05-03 11:05:13|239.90|        19.93|\n",
      "|000229ec398224ef6...|            1|c777355d18b72b67a...|5b51032eddd242adc...|2018-01-18 14:48:30|199.00|        17.87|\n",
      "|00024acbcdf0a6daa...|            1|7634da152a4610f15...|9d7a1d34a50524090...|2018-08-15 10:10:18| 12.99|        12.79|\n",
      "|00042b26cf59d7ce6...|            1|ac6c3623068f30de0...|df560393f3a51e745...|2017-02-13 13:57:51|199.90|        18.14|\n",
      "+--------------------+-------------+--------------------+--------------------+-------------------+------+-------------+\n",
      "only showing top 5 rows\n",
      "\n"
     ]
    }
   ],
   "source": [
    "# Antes de decidi as mudanças, devemos checar as primeiras linhas e o schema\n",
    "order_items.show(5)"
   ]
  },
  {
   "cell_type": "code",
   "execution_count": 65,
   "metadata": {},
   "outputs": [
    {
     "name": "stdout",
     "output_type": "stream",
     "text": [
      "root\n",
      " |-- order_id: string (nullable = true)\n",
      " |-- order_item_id: string (nullable = true)\n",
      " |-- product_id: string (nullable = true)\n",
      " |-- seller_id: string (nullable = true)\n",
      " |-- shipping_limit_date: string (nullable = true)\n",
      " |-- price: string (nullable = true)\n",
      " |-- freight_value: string (nullable = true)\n",
      "\n"
     ]
    }
   ],
   "source": [
    "order_items.printSchema()"
   ]
  },
  {
   "attachments": {},
   "cell_type": "markdown",
   "metadata": {},
   "source": [
    "Para essa tabela, irei alterar o tipo de dado das colunas ``price`` e \n",
    "``freight_value`` para **Float** e ``shipping_limit_date``para **timestamp**."
   ]
  },
  {
   "cell_type": "code",
   "execution_count": 70,
   "metadata": {},
   "outputs": [],
   "source": [
    "order_items = spark.sql(\"SELECT order_id, \\\n",
    "                          order_item_id, \\\n",
    "                          product_id, \\\n",
    "                          seller_id, \\\n",
    "                          CAST(shipping_limit_date AS TIMESTAMP), \\\n",
    "                          CAST(price AS FLOAT), \\\n",
    "                          CAST(freight_value AS FLOAT)  \\\n",
    "                         FROM order_items\")"
   ]
  },
  {
   "attachments": {},
   "cell_type": "markdown",
   "metadata": {},
   "source": [
    "## order_payments"
   ]
  },
  {
   "cell_type": "code",
   "execution_count": 71,
   "metadata": {},
   "outputs": [
    {
     "name": "stdout",
     "output_type": "stream",
     "text": [
      "+--------------------+------------------+------------+--------------------+-------------+\n",
      "|            order_id|payment_sequential|payment_type|payment_installments|payment_value|\n",
      "+--------------------+------------------+------------+--------------------+-------------+\n",
      "|b81ef226f3fe1789b...|                 1| credit_card|                   8|        99.33|\n",
      "|a9810da82917af2d9...|                 1| credit_card|                   1|        24.39|\n",
      "|25e8ea4e93396b6fa...|                 1| credit_card|                   1|        65.71|\n",
      "|ba78997921bbcdc13...|                 1| credit_card|                   8|       107.78|\n",
      "|42fdf880ba16b47b5...|                 1| credit_card|                   2|       128.45|\n",
      "+--------------------+------------------+------------+--------------------+-------------+\n",
      "only showing top 5 rows\n",
      "\n"
     ]
    }
   ],
   "source": [
    "# Vamos checar as primeiras linhas e o schema\n",
    "order_payments.show(5)"
   ]
  },
  {
   "cell_type": "code",
   "execution_count": 72,
   "metadata": {},
   "outputs": [
    {
     "name": "stdout",
     "output_type": "stream",
     "text": [
      "root\n",
      " |-- order_id: string (nullable = true)\n",
      " |-- payment_sequential: string (nullable = true)\n",
      " |-- payment_type: string (nullable = true)\n",
      " |-- payment_installments: string (nullable = true)\n",
      " |-- payment_value: string (nullable = true)\n",
      "\n"
     ]
    }
   ],
   "source": [
    "order_payments.printSchema()"
   ]
  },
  {
   "attachments": {},
   "cell_type": "markdown",
   "metadata": {},
   "source": [
    "Para essa tabela, irei alterar o tipo de dado das colunas ``payment_sequential``\n",
    "e ``payment_installments`` para **Int** e ``payment_value`` para **Float**."
   ]
  },
  {
   "cell_type": "code",
   "execution_count": 75,
   "metadata": {},
   "outputs": [],
   "source": [
    "order_payments = spark.sql(\"SELECT order_id, \\\n",
    "                             CAST(payment_sequential AS INT), \\\n",
    "                             payment_type, \\\n",
    "                             CAST(payment_installments AS INT), \\\n",
    "                             CAST(payment_value AS FLOAT)  \\\n",
    "                            FROM order_payments\")"
   ]
  },
  {
   "attachments": {},
   "cell_type": "markdown",
   "metadata": {},
   "source": [
    "## order_reviews"
   ]
  },
  {
   "cell_type": "code",
   "execution_count": 77,
   "metadata": {},
   "outputs": [
    {
     "name": "stdout",
     "output_type": "stream",
     "text": [
      "+--------------------+--------------------+------------+--------------------+----------------------+--------------------+-----------------------+\n",
      "|           review_id|            order_id|review_score|review_comment_title|review_comment_message|review_creation_date|review_answer_timestamp|\n",
      "+--------------------+--------------------+------------+--------------------+----------------------+--------------------+-----------------------+\n",
      "|7bc2406110b926393...|73fc7af87114b3971...|           4|                null|                  null| 2018-01-18 00:00:00|    2018-01-18 21:46:59|\n",
      "|80e641a11e56f04c1...|a548910a1c6147796...|           5|                null|                  null| 2018-03-10 00:00:00|    2018-03-11 03:05:13|\n",
      "|228ce5500dc1d8e02...|f9e4b658b201a9f2e...|           5|                null|                  null| 2018-02-17 00:00:00|    2018-02-18 14:36:24|\n",
      "|e64fb393e7b32834b...|658677c97b385a9be...|           5|                null|  Recebi bem antes ...| 2017-04-21 00:00:00|    2017-04-21 22:02:06|\n",
      "|f7c4243c7fe1938f1...|8e6bfb81e283fa7e4...|           5|                null|  Parabéns lojas la...| 2018-03-01 00:00:00|    2018-03-02 10:26:53|\n",
      "+--------------------+--------------------+------------+--------------------+----------------------+--------------------+-----------------------+\n",
      "only showing top 5 rows\n",
      "\n"
     ]
    }
   ],
   "source": [
    "# Vamos checar as primeiras linhas e o schema\n",
    "order_reviews.show(5)"
   ]
  },
  {
   "cell_type": "code",
   "execution_count": 78,
   "metadata": {},
   "outputs": [
    {
     "name": "stdout",
     "output_type": "stream",
     "text": [
      "root\n",
      " |-- review_id: string (nullable = true)\n",
      " |-- order_id: string (nullable = true)\n",
      " |-- review_score: string (nullable = true)\n",
      " |-- review_comment_title: string (nullable = true)\n",
      " |-- review_comment_message: string (nullable = true)\n",
      " |-- review_creation_date: string (nullable = true)\n",
      " |-- review_answer_timestamp: string (nullable = true)\n",
      "\n"
     ]
    }
   ],
   "source": [
    "order_reviews.printSchema()"
   ]
  },
  {
   "cell_type": "code",
   "execution_count": 38,
   "metadata": {
    "ExecuteTime": {
     "end_time": "2023-05-24T00:51:23.887778361Z",
     "start_time": "2023-05-24T00:51:23.733832626Z"
    }
   },
   "outputs": [],
   "source": [
    "orders_full = spark.sql(\"WITH geo_sellers AS  \\\n",
    "                            ( \\\n",
    "                            SELECT s.seller_zip_code_prefix, \\\n",
    "                            s.seller_city, \\\n",
    "                            s.seller_id,\\\n",
    "                            s.seller_state, \\\n",
    "                            g.geolocation_lat, \\\n",
    "                            g.geolocation_lng \\\n",
    "                            FROM sellers s  \\\n",
    "                            FULL OUTER JOIN geolocalization g  \\\n",
    "                            ON s.seller_zip_code_prefix = g.geolocation_zip_code_prefix \\\n",
    "                            ),  \\\n",
    "                            item_info AS \\\n",
    "                            ( \\\n",
    "                            SELECT oi.order_id, \\\n",
    "                            oi.order_item_id, \\\n",
    "                            oi.product_id, \\\n",
    "                            oi.seller_id, \\\n",
    "                            oi.shipping_limit_date, \\\n",
    "                            oi.price, \\\n",
    "                            oi.freight_value, \\\n",
    "                            p.product_category_name, \\\n",
    "                            p.product_name_lenght, \\\n",
    "                            p.product_description_lenght,  \\\n",
    "                            p.product_photos_qty, \\\n",
    "                            p.product_weight_g,  \\\n",
    "                            p.product_length_cm, \\\n",
    "                            p.product_height_cm, \\\n",
    "                            p.product_width_cm  \\\n",
    "                            FROM order_items oi  \\\n",
    "                            LEFT JOIN products p  \\\n",
    "                            ON oi.product_id = p.product_id \\\n",
    "                            )  \\\n",
    "                            SELECT o.order_id, \\\n",
    "                            o.customer_id, \\\n",
    "                            ii.product_id,  \\\n",
    "                            o.order_status, \\\n",
    "                            CAST(o.order_estimated_delivery_date AS date), \\\n",
    "                            CAST(o.order_purchase_timestamp AS timestamp), \\\n",
    "                            CAST(o.order_approved_at AS timestamp),  \\\n",
    "                            CAST(o.order_delivered_carrier_date AS timestamp), \\\n",
    "                            CAST(o.order_delivered_customer_date AS timestamp),  \\\n",
    "                            CAST(or.review_score AS int), \\\n",
    "                            LOWER(or.review_comment_title) AS review_comment_title, \\\n",
    "                            LOWER(or.review_comment_message) AS review_comment_message, \\\n",
    "                            CAST(or.review_creation_date AS date), \\\n",
    "                            CAST(or.review_answer_timestamp AS timestamp),  \\\n",
    "                            CAST(op.payment_sequential AS int), \\\n",
    "                            op.payment_type, \\\n",
    "                            CAST(op.payment_installments AS int),  \\\n",
    "                            CAST(op.payment_value AS float), \\\n",
    "                            c.customer_city, \\\n",
    "                            LOWER(c.customer_state) AS customer_state,  \\\n",
    "                            gs.seller_city, \\\n",
    "                            LOWER(gs.seller_state) AS seller_state, \\\n",
    "                            CAST(ii.shipping_limit_date AS timestamp), \\\n",
    "                            CAST(ii.price AS float), \\\n",
    "                            CAST(ii.freight_value AS float), \\\n",
    "                            ii.product_category_name, \\\n",
    "                            CAST(ii.product_name_lenght AS int), \\\n",
    "                            CAST(ii.product_description_lenght AS int),  \\\n",
    "                            CAST(ii.product_photos_qty AS int), \\\n",
    "                            CAST(ii.product_weight_g AS int),  \\\n",
    "                            CAST(ii.product_length_cm AS int), \\\n",
    "                            CAST(ii.product_height_cm AS int), \\\n",
    "                            CAST(ii.product_width_cm AS int),  \\\n",
    "                            CASE  \\\n",
    "                                WHEN c.customer_state IN ('ac', 'am', 'ro', 'rr', 'pa', 'ap', 'to') THEN 'norte'  \\\n",
    "                                WHEN c.customer_state IN ('ma', 'pi', 'ce', 'rn', 'pb', 'pe', 'se', 'al', 'ba') THEN 'nordeste'  \\\n",
    "                                WHEN c.customer_state IN ('mt', 'ms', 'go', 'df') THEN 'centro-oeste'  \\\n",
    "                                WHEN c.customer_state IN ('sp', 'rj', 'es', 'mg') THEN 'sudeste'  \\\n",
    "                                ELSE 'sul'  \\\n",
    "                            END AS customer_region, \\\n",
    "                            CASE  \\\n",
    "                                WHEN gs.seller_state IN ('ac', 'am', 'ro', 'rr', 'pa', 'ap', 'to') THEN 'norte'  \\\n",
    "                                WHEN gs.seller_state IN ('ma', 'pi', 'ce', 'rn', 'pb', 'pe', 'se', 'al', 'ba') THEN 'nordeste'  \\\n",
    "                                WHEN gs.seller_state IN ('mt', 'ms', 'go', 'df') THEN 'centro-oeste'  \\\n",
    "                                WHEN gs.seller_state IN ('sp', 'rj', 'es', 'mg') THEN 'sudeste'  \\\n",
    "                                ELSE 'sul'  \\\n",
    "                            END AS seller_region, \\\n",
    "                            CASE  \\\n",
    "                                WHEN ii.product_category_name IN ('fashion_roupa_masculina', 'fashion_roupa_feminina', 'fashion_roupa_infanto_juvenil', 'fashion_underwear_e_moda_praia', 'fashion_bolsas_e_acessorios', 'fashion_calcados', 'fashion_esporte') THEN 'moda e acessorios'  \\\n",
    "                                WHEN ii.product_category_name IN ('moveis_decoracao', 'moveis_colchao_e_estofado', 'moveis_cozinha_area_de_servico_jantar_e_jardim', 'moveis_quarto', 'moveis_sala', 'utilidades_domesticas', 'cama_mesa_banho', 'casa_construcao', 'casa_conforto', 'casa_conforto_2') THEN 'casa e decoracao'  \\\n",
    "                                WHEN ii.product_category_name IN ('livros_tecnicos', 'livros_importados','livros_interesse_geral') THEN 'livros e educacao'  \\\n",
    "                                WHEN ii.product_category_name IN ('beleza_saude', 'fraldas_higiene', 'perfumaria') THEN 'beleza e saude'  \\\n",
    "                                WHEN ii.product_category_name IN ('brinquedos', 'jogos', 'instrumentos_musicais') THEN 'brinquedos e jogos'  \\\n",
    "                                WHEN ii.product_category_name IN ('alimentos_bebidas', 'bebidas', 'alimentos') THEN 'alimentos e bebidas'  \\\n",
    "                                WHEN ii.product_category_name IN ('artigos_de_festas', 'artigos_de_natal') THEN 'artigos para festas'  \\\n",
    "                                WHEN ii.product_category_name IN ('artes', 'cine_foto', 'artes_e_artesanato') THEN 'artes e artesanato'  \\\n",
    "                                WHEN ii.product_category_name IN ('construcao_ferramentas_construcao', 'construcao_ferramentas_seguranca', 'construcao_ferramentas_jardim', 'construcao_ferramentas_iluminacao', 'construcao_ferramentas_ferramentas') THEN 'construcao e ferramentas'  \\\n",
    "                                WHEN ii.product_category_name IN ('esporte_lazer') THEN 'esporte e lazer'  \\\n",
    "                                ELSE 'outros'  \\\n",
    "                            END AS product_sub_category, \\\n",
    "                            ii.product_weight_g / 1000 AS product_weight_kg, \\\n",
    "                            ii.product_length_cm / 100 AS product_length_m, \\\n",
    "                            ii.product_height_cm / 100 AS product_height_m, \\\n",
    "                            ii.product_width_cm / 100 AS product_width_m, \\\n",
    "                            DAYOFWEEK(o.order_purchase_timestamp) AS order_weekday, \\\n",
    "                            MONTH(o.order_purchase_timestamp) AS order_month, \\\n",
    "                            HOUR(o.order_purchase_timestamp) AS order_hour, \\\n",
    "                            DATEDIFF(o.order_delivered_customer_date, o.order_purchase_timestamp) AS order_delivery_time, \\\n",
    "                            DATEDIFF(o.order_approved_at, o.order_purchase_timestamp) AS order_approval_time, \\\n",
    "                            CASE \\\n",
    "                                WHEN order_weekday = 1 THEN 'sunday'  \\\n",
    "                                WHEN order_weekday = 2 THEN 'monday'  \\\n",
    "                                WHEN order_weekday = 3 THEN 'tuesday'  \\\n",
    "                                WHEN order_weekday = 4 THEN 'wednesday'  \\\n",
    "                                WHEN order_weekday = 5 THEN 'thursday'  \\\n",
    "                                WHEN order_weekday = 6 THEN 'friday'  \\\n",
    "                                ELSE 'saturday'  \\\n",
    "                            END AS order_weekday_name, \\\n",
    "                            CASE \\\n",
    "                                WHEN order_month = 1 THEN 'january'  \\\n",
    "                                WHEN order_month = 2 THEN 'february'  \\\n",
    "                                WHEN order_month = 3 THEN 'march'  \\\n",
    "                                WHEN order_month = 4 THEN 'april'  \\\n",
    "                                WHEN order_month = 5 THEN 'may'  \\\n",
    "                                WHEN order_month = 6 THEN 'june'  \\\n",
    "                                WHEN order_month = 7 THEN 'july'  \\\n",
    "                                WHEN order_month = 8 THEN 'august'  \\\n",
    "                                WHEN order_month = 9 THEN 'september'  \\\n",
    "                                WHEN order_month = 10 THEN 'october'  \\\n",
    "                                WHEN order_month = 11 THEN 'november'  \\\n",
    "                                ELSE 'december'  \\\n",
    "                            END AS order_month_name, \\\n",
    "                            CASE  \\\n",
    "                                WHEN or.review_score <= 3 THEN 'bad'  \\\n",
    "                                ELSE 'good'  \\\n",
    "                            END AS review_score_class \\\n",
    "                            FROM orders o \\\n",
    "                            LEFT JOIN order_reviews or  \\\n",
    "                            ON o.order_id = or.order_id  \\\n",
    "                            LEFT JOIN order_payments op  \\\n",
    "                            ON o.order_id = op.order_id  \\\n",
    "                            LEFT JOIN customers c  \\\n",
    "                            ON o.customer_id = c.customer_id  \\\n",
    "                            LEFT JOIN item_info ii   \\\n",
    "                            ON o.order_id = ii.order_id  \\\n",
    "                            LEFT JOIN geo_sellers gs  \\\n",
    "                            ON ii.seller_id = gs.seller_id\")"
   ]
  },
  {
   "cell_type": "code",
   "execution_count": null,
   "metadata": {
    "ExecuteTime": {
     "end_time": "2023-05-24T00:06:56.823939937Z",
     "start_time": "2023-05-24T00:06:49.808686747Z"
    }
   },
   "outputs": [],
   "source": [
    "# Checando o número de linhas\n",
    "orders_full.count()"
   ]
  },
  {
   "cell_type": "code",
   "execution_count": null,
   "metadata": {
    "ExecuteTime": {
     "end_time": "2023-05-24T00:19:46.071496340Z",
     "start_time": "2023-05-24T00:19:46.055377531Z"
    }
   },
   "outputs": [],
   "source": [
    "# Checando a quantidade de colunas\n",
    "len(orders_full.columns)"
   ]
  },
  {
   "cell_type": "code",
   "execution_count": null,
   "metadata": {
    "ExecuteTime": {
     "end_time": "2023-05-22T23:38:57.688080006Z",
     "start_time": "2023-05-22T23:38:57.595491033Z"
    }
   },
   "outputs": [],
   "source": [
    "# Buscando e dropando duplicatas\n",
    "orders_full = orders_full.drop_duplicates()"
   ]
  },
  {
   "cell_type": "code",
   "execution_count": null,
   "metadata": {
    "ExecuteTime": {
     "end_time": "2023-05-22T23:39:20.878641941Z",
     "start_time": "2023-05-22T23:38:57.632293045Z"
    }
   },
   "outputs": [],
   "source": [
    "# Checando a quantidade de linhas novamente\n",
    "orders_full.count()"
   ]
  },
  {
   "attachments": {},
   "cell_type": "markdown",
   "metadata": {},
   "source": [
    "Agora com a junção já feita, vamos passar para a fase de tratamento dos dados.\n",
    "Como a junção foi feita selecionando as colunas, não há colunas duplicadas no dataset."
   ]
  },
  {
   "attachments": {},
   "cell_type": "markdown",
   "metadata": {},
   "source": [
    "### Tratando os dados\n",
    "Nesta etapa, passarei de coluna a coluna tratando o dado conforme necessário."
   ]
  },
  {
   "cell_type": "code",
   "execution_count": null,
   "metadata": {
    "ExecuteTime": {
     "end_time": "2023-05-22T23:39:20.980455580Z",
     "start_time": "2023-05-22T23:39:20.887396432Z"
    }
   },
   "outputs": [],
   "source": [
    "# Checando as colunas\n",
    "orders_full.columns"
   ]
  },
  {
   "attachments": {},
   "cell_type": "markdown",
   "metadata": {},
   "source": [
    "#### order_Status\n"
   ]
  },
  {
   "cell_type": "code",
   "execution_count": null,
   "metadata": {
    "ExecuteTime": {
     "end_time": "2023-05-22T23:39:21.417543780Z",
     "start_time": "2023-05-22T23:39:20.905257776Z"
    }
   },
   "outputs": [],
   "source": [
    "# Checando os valores\n",
    "orders_full.select('order_status').distinct().collect()"
   ]
  },
  {
   "attachments": {},
   "cell_type": "markdown",
   "metadata": {},
   "source": [
    "A coluna em questão não demonstra ter erros, onde os valores estão na mesma case\n",
    " e sem inconsistências. Além disso, o tipo do dado é **string**, o que \n",
    " corresponde com os valores da coluna."
   ]
  },
  {
   "attachments": {},
   "cell_type": "markdown",
   "metadata": {},
   "source": [
    "### order_estimated_delivery_date"
   ]
  },
  {
   "cell_type": "code",
   "execution_count": null,
   "metadata": {
    "ExecuteTime": {
     "end_time": "2023-05-22T23:39:39.063821230Z",
     "start_time": "2023-05-22T23:39:21.420492651Z"
    }
   },
   "outputs": [],
   "source": [
    "orders_full.select('order_estimated_delivery_date').show()"
   ]
  },
  {
   "attachments": {},
   "cell_type": "markdown",
   "metadata": {},
   "source": [
    "Como podemos ver, os valores dessa coluna se referem a data estimada da entrega, sem hora e nem minutos. Por isso, será transformada em apenas **data** e não **timestamp**."
   ]
  },
  {
   "cell_type": "code",
   "execution_count": null,
   "metadata": {
    "ExecuteTime": {
     "end_time": "2023-05-22T23:39:39.190991943Z",
     "start_time": "2023-05-22T23:39:39.070506900Z"
    }
   },
   "outputs": [],
   "source": [
    "# Alterando o tipo para data\n",
    "orders_full = orders_full.withColumn(\"order_estimated_delivery_date\", col(\"order_estimated_delivery_date\").cast('date'))\n"
   ]
  },
  {
   "attachments": {},
   "cell_type": "markdown",
   "metadata": {},
   "source": [
    "### order_purchase_timestamp, order_approved_at, order_delivered_carrier_date, order_delivered_customer_date\n",
    "Aqui 4 colunas serão tratadas juntas, pois demandam o mesmo tratamento, **string** para **timestamp**."
   ]
  },
  {
   "cell_type": "code",
   "execution_count": null,
   "metadata": {
    "ExecuteTime": {
     "end_time": "2023-05-22T23:39:39.229311724Z",
     "start_time": "2023-05-22T23:39:39.149361094Z"
    }
   },
   "outputs": [],
   "source": [
    "# Criando uma lista com as colunas\n",
    "colunas = ['order_purchase_timestamp', 'order_approved_at', 'order_delivered_carrier_date', 'order_delivered_customer_date']"
   ]
  },
  {
   "cell_type": "code",
   "execution_count": null,
   "metadata": {
    "ExecuteTime": {
     "end_time": "2023-05-22T23:39:39.413598366Z",
     "start_time": "2023-05-22T23:39:39.166081585Z"
    }
   },
   "outputs": [],
   "source": [
    "# Realizando a transformação em cada coluna\n",
    "for coluna in colunas:\n",
    "    orders_full = orders_full.withColumn(coluna, to_timestamp(coluna))"
   ]
  },
  {
   "attachments": {},
   "cell_type": "markdown",
   "metadata": {},
   "source": [
    "### review_score\n",
    "A princípio essa coluna parece estar com o tipo errado, vamos verificar os valores:"
   ]
  },
  {
   "cell_type": "code",
   "execution_count": null,
   "metadata": {
    "ExecuteTime": {
     "end_time": "2023-05-22T23:39:40.574086084Z",
     "start_time": "2023-05-22T23:39:39.397513080Z"
    }
   },
   "outputs": [],
   "source": [
    "# Checando os valores distintos\n",
    "orders_full.select('review_score').distinct().show()"
   ]
  },
  {
   "cell_type": "code",
   "execution_count": null,
   "metadata": {
    "ExecuteTime": {
     "end_time": "2023-05-22T23:39:40.691919893Z",
     "start_time": "2023-05-22T23:39:40.586120557Z"
    }
   },
   "outputs": [],
   "source": [
    "# Alterando o tipo para data\n",
    "orders_full = orders_full.withColumn(\"review_score\", col(\"review_score\").cast('int'))\n"
   ]
  },
  {
   "attachments": {},
   "cell_type": "markdown",
   "metadata": {},
   "source": [
    "### review_comment_title"
   ]
  },
  {
   "cell_type": "code",
   "execution_count": null,
   "metadata": {
    "ExecuteTime": {
     "end_time": "2023-05-22T23:39:58.428356707Z",
     "start_time": "2023-05-22T23:39:40.658472284Z"
    }
   },
   "outputs": [],
   "source": [
    "# Checando os valores \n",
    "orders_full.select('review_comment_title').show()"
   ]
  },
  {
   "attachments": {},
   "cell_type": "markdown",
   "metadata": {},
   "source": [
    "Aqui o formato parece estar correto, mas irei limpar o texto, retirando pontuações e normalizando o texto (mesma case)."
   ]
  },
  {
   "cell_type": "code",
   "execution_count": null,
   "metadata": {
    "ExecuteTime": {
     "end_time": "2023-05-22T23:39:58.438070206Z",
     "start_time": "2023-05-22T23:39:58.429146710Z"
    }
   },
   "outputs": [],
   "source": [
    "# regex para remover pontuações\n",
    "re_special = \"[^\\w\\s]\""
   ]
  },
  {
   "cell_type": "code",
   "execution_count": null,
   "metadata": {
    "ExecuteTime": {
     "end_time": "2023-05-22T23:39:58.560407452Z",
     "start_time": "2023-05-22T23:39:58.441154126Z"
    }
   },
   "outputs": [],
   "source": [
    "# Criando funções para remover caracteres especiais\n",
    "func = lambda titulo: re.sub(re_special, ' ', str(titulo).strip())\n",
    "func_udf = udf(func, StringType())"
   ]
  },
  {
   "cell_type": "code",
   "execution_count": null,
   "metadata": {
    "ExecuteTime": {
     "end_time": "2023-05-22T23:39:58.577645044Z",
     "start_time": "2023-05-22T23:39:58.467803273Z"
    }
   },
   "outputs": [],
   "source": [
    "# Aplicando a função\n",
    "orders_full = orders_full.withColumn('review_comment_title', func_udf(lower('review_comment_title')))"
   ]
  },
  {
   "attachments": {},
   "cell_type": "markdown",
   "metadata": {},
   "source": [
    "Agora irei criar tokens a partir do texto."
   ]
  },
  {
   "cell_type": "code",
   "execution_count": null,
   "metadata": {
    "ExecuteTime": {
     "end_time": "2023-05-22T23:39:58.914037957Z",
     "start_time": "2023-05-22T23:39:58.575201127Z"
    }
   },
   "outputs": [],
   "source": [
    "# Criando um tokenizador\n",
    "tokenizer = Tokenizer(inputCol=\"review_comment_title\", outputCol=\"review_comment_title_tokens\")\n",
    "\n",
    "# Criando nova coluna com os tokens\n",
    "orders_full = tokenizer.transform(orders_full)"
   ]
  },
  {
   "cell_type": "code",
   "execution_count": null,
   "metadata": {
    "ExecuteTime": {
     "end_time": "2023-05-22T23:40:15.954952618Z",
     "start_time": "2023-05-22T23:39:58.917294062Z"
    }
   },
   "outputs": [],
   "source": [
    "# Checando os valores \n",
    "orders_full.select('review_comment_title').show()"
   ]
  },
  {
   "cell_type": "code",
   "execution_count": null,
   "metadata": {
    "ExecuteTime": {
     "end_time": "2023-05-22T23:40:32.034252494Z",
     "start_time": "2023-05-22T23:40:15.957092269Z"
    }
   },
   "outputs": [],
   "source": [
    "# Checando os valores \n",
    "orders_full.select('review_comment_title_tokens').show()"
   ]
  },
  {
   "attachments": {},
   "cell_type": "markdown",
   "metadata": {},
   "source": [
    "### review_comment_message"
   ]
  },
  {
   "cell_type": "code",
   "execution_count": null,
   "metadata": {
    "ExecuteTime": {
     "end_time": "2023-05-22T23:40:48.689493793Z",
     "start_time": "2023-05-22T23:40:32.039270896Z"
    }
   },
   "outputs": [],
   "source": [
    "# Checando os valores\n",
    "orders_full.select('review_comment_message').show()"
   ]
  },
  {
   "attachments": {},
   "cell_type": "markdown",
   "metadata": {},
   "source": [
    "Aqui eu usarei o mesmo tratamento da coluna passada, removendo pontuações e \n",
    "deixando o texto na mesma case."
   ]
  },
  {
   "cell_type": "code",
   "execution_count": null,
   "metadata": {
    "ExecuteTime": {
     "end_time": "2023-05-22T23:40:48.775675575Z",
     "start_time": "2023-05-22T23:40:48.692347058Z"
    }
   },
   "outputs": [],
   "source": [
    "# Aplicando a função\n",
    "orders_full = orders_full.withColumn('review_comment_message', func_udf(lower('review_comment_message')))"
   ]
  },
  {
   "attachments": {},
   "cell_type": "markdown",
   "metadata": {},
   "source": [
    "Por fim, irei criar os tokens."
   ]
  },
  {
   "cell_type": "code",
   "execution_count": null,
   "metadata": {
    "ExecuteTime": {
     "end_time": "2023-05-22T23:40:48.854036740Z",
     "start_time": "2023-05-22T23:40:48.737791813Z"
    }
   },
   "outputs": [],
   "source": [
    "# Criando o tokenizer\n",
    "tokenizer = Tokenizer(inputCol=\"review_comment_message\", outputCol=\"review_comment_message_tokens\")\n",
    "\n",
    "# Criando nova coluna com os tokens\n",
    "orders_full = tokenizer.transform(orders_full)"
   ]
  },
  {
   "cell_type": "code",
   "execution_count": null,
   "metadata": {
    "ExecuteTime": {
     "end_time": "2023-05-22T23:41:04.288107053Z",
     "start_time": "2023-05-22T23:40:48.864545528Z"
    }
   },
   "outputs": [],
   "source": [
    "# Checando os valores \n",
    "orders_full.select('review_comment_message').show()"
   ]
  },
  {
   "cell_type": "code",
   "execution_count": null,
   "metadata": {
    "ExecuteTime": {
     "end_time": "2023-05-22T23:41:18.977631579Z",
     "start_time": "2023-05-22T23:41:04.290893432Z"
    }
   },
   "outputs": [],
   "source": [
    "# Checando os valores \n",
    "orders_full.select('review_comment_message_tokens').show()"
   ]
  },
  {
   "attachments": {},
   "cell_type": "markdown",
   "metadata": {},
   "source": [
    "### review_creation_date"
   ]
  },
  {
   "cell_type": "code",
   "execution_count": null,
   "metadata": {
    "ExecuteTime": {
     "end_time": "2023-05-22T23:41:34.372034739Z",
     "start_time": "2023-05-22T23:41:18.982658566Z"
    }
   },
   "outputs": [],
   "source": [
    "# Checando os valores \n",
    "orders_full.select('review_creation_date').show()"
   ]
  },
  {
   "attachments": {},
   "cell_type": "markdown",
   "metadata": {},
   "source": [
    "Como podemos ver, os valores dessa coluna se referem a data de criação da review, sem hora e nem minutos. Por isso, será transformada em apenas **data** e não **timestamp**."
   ]
  },
  {
   "cell_type": "code",
   "execution_count": null,
   "metadata": {
    "ExecuteTime": {
     "end_time": "2023-05-22T23:41:34.472062896Z",
     "start_time": "2023-05-22T23:41:34.377675337Z"
    }
   },
   "outputs": [],
   "source": [
    "# Alterando o tipo de dado\n",
    "orders_full = orders_full.withColumn('review_creation_date', col('review_creation_date').cast('date'))"
   ]
  },
  {
   "attachments": {},
   "cell_type": "markdown",
   "metadata": {},
   "source": [
    "### review_answer_timestamp"
   ]
  },
  {
   "cell_type": "code",
   "execution_count": null,
   "metadata": {
    "ExecuteTime": {
     "end_time": "2023-05-22T23:41:49.144806143Z",
     "start_time": "2023-05-22T23:41:34.427910523Z"
    }
   },
   "outputs": [],
   "source": [
    "# Checando os valores\n",
    "orders_full.select('review_answer_timestamp').show()"
   ]
  },
  {
   "attachments": {},
   "cell_type": "markdown",
   "metadata": {},
   "source": [
    "Desta vez os dados possuem data e hora, fazendo com que seja necessário transforma-los para o formato **timestamp**."
   ]
  },
  {
   "cell_type": "code",
   "execution_count": null,
   "metadata": {
    "ExecuteTime": {
     "end_time": "2023-05-22T23:41:49.215898640Z",
     "start_time": "2023-05-22T23:41:49.146822603Z"
    }
   },
   "outputs": [],
   "source": [
    "# Alterando o tipo de dado\n",
    "orders_full = orders_full.withColumn('review_answer_timestamp', to_timestamp('review_answer_timestamp'))"
   ]
  },
  {
   "attachments": {},
   "cell_type": "markdown",
   "metadata": {},
   "source": [
    "### payment_sequential"
   ]
  },
  {
   "cell_type": "code",
   "execution_count": null,
   "metadata": {
    "ExecuteTime": {
     "end_time": "2023-05-22T23:41:50.129640577Z",
     "start_time": "2023-05-22T23:41:49.181649421Z"
    }
   },
   "outputs": [],
   "source": [
    "# Verificando os valores únicos\n",
    "orders_full.select('payment_sequential').distinct().show()"
   ]
  },
  {
   "attachments": {},
   "cell_type": "markdown",
   "metadata": {},
   "source": [
    "O dado aparenta ser numerico, representando o número de pagamentos."
   ]
  },
  {
   "cell_type": "code",
   "execution_count": null,
   "metadata": {
    "ExecuteTime": {
     "end_time": "2023-05-22T23:41:50.210212302Z",
     "start_time": "2023-05-22T23:41:50.134727870Z"
    }
   },
   "outputs": [],
   "source": [
    "# Alterando o tipo de dado\n",
    "orders_full = orders_full.withColumn('payment_sequential', col('payment_sequential').cast('int'))"
   ]
  },
  {
   "attachments": {},
   "cell_type": "markdown",
   "metadata": {},
   "source": [
    "### payment_type"
   ]
  },
  {
   "cell_type": "code",
   "execution_count": null,
   "metadata": {
    "ExecuteTime": {
     "end_time": "2023-05-22T23:41:51.147676725Z",
     "start_time": "2023-05-22T23:41:50.187647217Z"
    }
   },
   "outputs": [],
   "source": [
    "# Checando os valores\n",
    "orders_full.select('payment_type').distinct().show()"
   ]
  },
  {
   "attachments": {},
   "cell_type": "markdown",
   "metadata": {},
   "source": [
    "Não aparenta haver inconsistências nos valores e nem no tipo do dado. Por isso, não irei aplicar tatamento nesta coluna."
   ]
  },
  {
   "attachments": {},
   "cell_type": "markdown",
   "metadata": {},
   "source": [
    "### payment_installments"
   ]
  },
  {
   "cell_type": "code",
   "execution_count": null,
   "metadata": {
    "ExecuteTime": {
     "end_time": "2023-05-22T23:41:52.020931491Z",
     "start_time": "2023-05-22T23:41:51.151721412Z"
    }
   },
   "outputs": [],
   "source": [
    "# Checando os valores distintos\n",
    "orders_full.select('payment_installments').distinct().show()"
   ]
  },
  {
   "attachments": {},
   "cell_type": "markdown",
   "metadata": {},
   "source": [
    "A coluna aparenta representar o número de parcelas. Embora não apresente \n",
    "inconsistências nos valores, ainda é necessário aplicar uma alteração de tipo\n",
    "de dado."
   ]
  },
  {
   "cell_type": "code",
   "execution_count": null,
   "metadata": {
    "ExecuteTime": {
     "end_time": "2023-05-22T23:41:52.093106165Z",
     "start_time": "2023-05-22T23:41:52.023530873Z"
    }
   },
   "outputs": [],
   "source": [
    "# Alterando o tipo do dado\n",
    "orders_full = orders_full.withColumn('payment_installments', col('payment_installments').cast('int'))"
   ]
  },
  {
   "attachments": {},
   "cell_type": "markdown",
   "metadata": {},
   "source": [
    "### payment_value"
   ]
  },
  {
   "cell_type": "code",
   "execution_count": null,
   "metadata": {
    "ExecuteTime": {
     "end_time": "2023-05-22T23:41:53.349300766Z",
     "start_time": "2023-05-22T23:41:52.060762806Z"
    }
   },
   "outputs": [],
   "source": [
    "# Checando os valores distintos\n",
    "orders_full.select('payment_value').distinct().show()"
   ]
  },
  {
   "attachments": {},
   "cell_type": "markdown",
   "metadata": {},
   "source": [
    "A coluna represaenta o valor de pagamento. O tipo de dado deve ser alterado para float."
   ]
  },
  {
   "cell_type": "code",
   "execution_count": null,
   "metadata": {
    "ExecuteTime": {
     "end_time": "2023-05-22T23:41:53.445024388Z",
     "start_time": "2023-05-22T23:41:53.355229845Z"
    }
   },
   "outputs": [],
   "source": [
    "# Alterando o tipo de dado\n",
    "orders_full = orders_full.withColumn('payment_value', col('payment_value').cast('float'))"
   ]
  },
  {
   "attachments": {},
   "cell_type": "markdown",
   "metadata": {},
   "source": [
    "### customer_city"
   ]
  },
  {
   "cell_type": "code",
   "execution_count": null,
   "metadata": {
    "ExecuteTime": {
     "end_time": "2023-05-22T23:41:54.915857680Z",
     "start_time": "2023-05-22T23:41:53.396345831Z"
    }
   },
   "outputs": [],
   "source": [
    "# Checando os valores distintos\n",
    "orders_full.select('customer_city').distinct().show(20)"
   ]
  },
  {
   "attachments": {},
   "cell_type": "markdown",
   "metadata": {},
   "source": [
    "Os dados da coluna já estão na mesma case, sem pontuações e possui o formato \n",
    "correto, tornando desnecessário a aplicação de tratamento na mesma."
   ]
  },
  {
   "attachments": {},
   "cell_type": "markdown",
   "metadata": {},
   "source": [
    "### customer_state"
   ]
  },
  {
   "cell_type": "code",
   "execution_count": null,
   "metadata": {
    "ExecuteTime": {
     "end_time": "2023-05-22T23:41:55.917530586Z",
     "start_time": "2023-05-22T23:41:54.919236223Z"
    }
   },
   "outputs": [],
   "source": [
    "# Checando os valores distintos\n",
    "orders_full.select('customer_state').distinct().collect()"
   ]
  },
  {
   "attachments": {},
   "cell_type": "markdown",
   "metadata": {},
   "source": [
    "Os dados da coluna já estão na mesma case, sem pontuações e possui o formato \n",
    "correto, tornando desnecessário a aplicação de tratamento na mesma."
   ]
  },
  {
   "attachments": {},
   "cell_type": "markdown",
   "metadata": {},
   "source": [
    "### seller_city"
   ]
  },
  {
   "cell_type": "code",
   "execution_count": null,
   "metadata": {
    "ExecuteTime": {
     "end_time": "2023-05-22T23:42:01.693452125Z",
     "start_time": "2023-05-22T23:41:55.921389670Z"
    }
   },
   "outputs": [],
   "source": [
    "# Checando os valores distintos\n",
    "orders_full.select('seller_city').distinct().show()"
   ]
  },
  {
   "attachments": {},
   "cell_type": "markdown",
   "metadata": {},
   "source": [
    "Os dados da coluna já estão na mesma case, sem pontuações e possui o formato \n",
    "correto, tornando desnecessário a aplicação de tratamento na mesma."
   ]
  },
  {
   "attachments": {},
   "cell_type": "markdown",
   "metadata": {},
   "source": [
    "### seller_state"
   ]
  },
  {
   "cell_type": "code",
   "execution_count": null,
   "metadata": {
    "ExecuteTime": {
     "end_time": "2023-05-22T23:42:06.920310242Z",
     "start_time": "2023-05-22T23:42:01.696860862Z"
    }
   },
   "outputs": [],
   "source": [
    "# Checando os valores distintos\n",
    "orders_full.select('seller_state').distinct().collect()"
   ]
  },
  {
   "attachments": {},
   "cell_type": "markdown",
   "metadata": {},
   "source": [
    "Os dados da coluna já estão na mesma case, sem pontuações e possui o formato \n",
    "correto, tornando desnecessário a aplicação de tratamento na mesma."
   ]
  },
  {
   "attachments": {},
   "cell_type": "markdown",
   "metadata": {},
   "source": [
    "### shipping_limit_date"
   ]
  },
  {
   "cell_type": "code",
   "execution_count": null,
   "metadata": {
    "ExecuteTime": {
     "end_time": "2023-05-22T23:42:22.803853046Z",
     "start_time": "2023-05-22T23:42:06.917538010Z"
    }
   },
   "outputs": [],
   "source": [
    "# Checando os valores \n",
    "orders_full.select('shipping_limit_date').show()"
   ]
  },
  {
   "attachments": {},
   "cell_type": "markdown",
   "metadata": {},
   "source": [
    "Como mostrado no schema, os dados estão no formato de **string**. Aqui, irei\n",
    "alterar o tipo para timestamp, pois possui data e hora."
   ]
  },
  {
   "cell_type": "code",
   "execution_count": null,
   "metadata": {
    "ExecuteTime": {
     "end_time": "2023-05-22T23:42:22.899090039Z",
     "start_time": "2023-05-22T23:42:22.807208017Z"
    }
   },
   "outputs": [],
   "source": [
    "# Alterando o tipo do dado\n",
    "orders_full = orders_full.withColumn('shipping_limit_date', to_timestamp('shipping_limit_date'))"
   ]
  },
  {
   "attachments": {},
   "cell_type": "markdown",
   "metadata": {},
   "source": [
    "### price"
   ]
  },
  {
   "cell_type": "code",
   "execution_count": null,
   "metadata": {
    "ExecuteTime": {
     "end_time": "2023-05-22T23:42:37.760823782Z",
     "start_time": "2023-05-22T23:42:22.876922845Z"
    }
   },
   "outputs": [],
   "source": [
    "# Checando a coluna\n",
    "orders_full.select('price').show()"
   ]
  },
  {
   "attachments": {},
   "cell_type": "markdown",
   "metadata": {},
   "source": [
    "Aqui tenho números com centavos, por isso, será alterado para **float**."
   ]
  },
  {
   "cell_type": "code",
   "execution_count": null,
   "metadata": {
    "ExecuteTime": {
     "end_time": "2023-05-22T23:42:37.821580111Z",
     "start_time": "2023-05-22T23:42:37.762913608Z"
    }
   },
   "outputs": [],
   "source": [
    "orders_full = orders_full.withColumn('price', col('price').cast('float'))"
   ]
  },
  {
   "attachments": {},
   "cell_type": "markdown",
   "metadata": {},
   "source": [
    "### freight_value"
   ]
  },
  {
   "cell_type": "code",
   "execution_count": null,
   "metadata": {
    "ExecuteTime": {
     "end_time": "2023-05-22T23:42:52.513479867Z",
     "start_time": "2023-05-22T23:42:37.788637549Z"
    }
   },
   "outputs": [],
   "source": [
    "# Checando a coluna\n",
    "orders_full.select('freight_value').show()"
   ]
  },
  {
   "attachments": {},
   "cell_type": "markdown",
   "metadata": {},
   "source": [
    "Aqui tenho números com centavos, por isso, será alterado para **float**."
   ]
  },
  {
   "cell_type": "code",
   "execution_count": null,
   "metadata": {
    "ExecuteTime": {
     "end_time": "2023-05-22T23:42:52.594982734Z",
     "start_time": "2023-05-22T23:42:52.518118262Z"
    }
   },
   "outputs": [],
   "source": [
    "# Alterando o tipo do dado\n",
    "orders_full = orders_full.withColumn('freight_value', col('freight_value').cast('float'))"
   ]
  },
  {
   "attachments": {},
   "cell_type": "markdown",
   "metadata": {},
   "source": [
    "### product_category_name"
   ]
  },
  {
   "cell_type": "code",
   "execution_count": null,
   "metadata": {
    "ExecuteTime": {
     "end_time": "2023-05-22T23:42:54.495549311Z",
     "start_time": "2023-05-22T23:42:52.560241716Z"
    }
   },
   "outputs": [],
   "source": [
    "# Checando a coluna\n",
    "orders_full.select('product_category_name').distinct().show()"
   ]
  },
  {
   "attachments": {},
   "cell_type": "markdown",
   "metadata": {},
   "source": [
    "Os dados da coluna já estão na mesma case, sem pontuações e possui o formato \n",
    "correto, tornando desnecessário a aplicação de tratamento na mesma."
   ]
  },
  {
   "attachments": {},
   "cell_type": "markdown",
   "metadata": {},
   "source": [
    "### product_name_lenght"
   ]
  },
  {
   "cell_type": "code",
   "execution_count": null,
   "metadata": {
    "ExecuteTime": {
     "end_time": "2023-05-22T23:43:10.553642477Z",
     "start_time": "2023-05-22T23:42:54.499618790Z"
    }
   },
   "outputs": [],
   "source": [
    "# Checando a coluna \n",
    "orders_full.select('product_name_lenght').show()"
   ]
  },
  {
   "attachments": {},
   "cell_type": "markdown",
   "metadata": {},
   "source": [
    "A coluna contém um dado com o tamanho do nome do produto. Como esse número não\n",
    "pode possuir casas decimais, será convertido para **int**."
   ]
  },
  {
   "cell_type": "code",
   "execution_count": null,
   "metadata": {
    "ExecuteTime": {
     "end_time": "2023-05-22T23:43:10.634808108Z",
     "start_time": "2023-05-22T23:43:10.556650608Z"
    }
   },
   "outputs": [],
   "source": [
    "# Alterando o tipo do dado\n",
    "orders_full = orders_full.withColumn('product_name_lenght', col('product_name_lenght').cast('int'))"
   ]
  },
  {
   "attachments": {},
   "cell_type": "markdown",
   "metadata": {},
   "source": [
    "### product_description_lenght"
   ]
  },
  {
   "cell_type": "code",
   "execution_count": null,
   "metadata": {
    "ExecuteTime": {
     "end_time": "2023-05-22T23:43:26.334966541Z",
     "start_time": "2023-05-22T23:43:10.588768872Z"
    }
   },
   "outputs": [],
   "source": [
    "# Checando a coluna\n",
    "orders_full.select('product_description_lenght').show()"
   ]
  },
  {
   "attachments": {},
   "cell_type": "markdown",
   "metadata": {},
   "source": [
    "A coluna contém um dado com o tamanho da descrição do produto. Como esse número não\n",
    "pode possuir casas decimais, será convertido para **int**."
   ]
  },
  {
   "cell_type": "code",
   "execution_count": null,
   "metadata": {
    "ExecuteTime": {
     "end_time": "2023-05-22T23:43:26.424184202Z",
     "start_time": "2023-05-22T23:43:26.336989884Z"
    }
   },
   "outputs": [],
   "source": [
    "# Alterando o tipo do dado\n",
    "orders_full = orders_full.withColumn('product_description_lenght', col('product_description_lenght').cast('int'))"
   ]
  },
  {
   "attachments": {},
   "cell_type": "markdown",
   "metadata": {},
   "source": [
    "### product_photos_qty"
   ]
  },
  {
   "cell_type": "code",
   "execution_count": null,
   "metadata": {
    "ExecuteTime": {
     "end_time": "2023-05-22T23:43:41.091580393Z",
     "start_time": "2023-05-22T23:43:26.382656067Z"
    }
   },
   "outputs": [],
   "source": [
    "# Checando a coluna\n",
    "orders_full.select('product_photos_qty').show()"
   ]
  },
  {
   "attachments": {},
   "cell_type": "markdown",
   "metadata": {},
   "source": [
    "A coluna contém um dado com a quantidade de fotos do produto. Como esse número não\n",
    "pode possuir casas decimais, será convertido para **int**."
   ]
  },
  {
   "cell_type": "code",
   "execution_count": null,
   "metadata": {
    "ExecuteTime": {
     "end_time": "2023-05-22T23:43:41.158598283Z",
     "start_time": "2023-05-22T23:43:41.097491186Z"
    }
   },
   "outputs": [],
   "source": [
    "# Alterando o tipo do dado\n",
    "orders_full = orders_full.withColumn('product_photos_qty', col('product_photos_qty').cast('int'))"
   ]
  },
  {
   "attachments": {},
   "cell_type": "markdown",
   "metadata": {},
   "source": [
    "### product_weight_g"
   ]
  },
  {
   "cell_type": "code",
   "execution_count": null,
   "metadata": {
    "ExecuteTime": {
     "end_time": "2023-05-22T23:43:55.542680036Z",
     "start_time": "2023-05-22T23:43:41.131155215Z"
    }
   },
   "outputs": [],
   "source": [
    "# Checando a coluna\n",
    "orders_full.select('product_weight_g').show()"
   ]
  },
  {
   "attachments": {},
   "cell_type": "markdown",
   "metadata": {},
   "source": [
    "A coluna contém um dado com o peso do produto em gramas. Como esse número não\n",
    "pode possuir casas decimais, será convertido para **int**."
   ]
  },
  {
   "cell_type": "code",
   "execution_count": null,
   "metadata": {
    "ExecuteTime": {
     "end_time": "2023-05-22T23:43:55.619421579Z",
     "start_time": "2023-05-22T23:43:55.544578968Z"
    }
   },
   "outputs": [],
   "source": [
    "# Alterando o tipo do dado\n",
    "orders_full = orders_full.withColumn('product_weight_g', col('product_weight_g').cast('int'))"
   ]
  },
  {
   "attachments": {},
   "cell_type": "markdown",
   "metadata": {},
   "source": [
    "### product_length_cm"
   ]
  },
  {
   "cell_type": "code",
   "execution_count": null,
   "metadata": {
    "ExecuteTime": {
     "end_time": "2023-05-22T23:44:10.087244641Z",
     "start_time": "2023-05-22T23:43:55.593679374Z"
    }
   },
   "outputs": [],
   "source": [
    "# Checando a coluna\n",
    "orders_full.select('product_length_cm').show()"
   ]
  },
  {
   "attachments": {},
   "cell_type": "markdown",
   "metadata": {},
   "source": [
    "A coluna contém um dado com o comprimento do produto em centímetros. Como esse número não\n",
    "pode possuir casas decimais, será convertido para **int**."
   ]
  },
  {
   "cell_type": "code",
   "execution_count": null,
   "metadata": {
    "ExecuteTime": {
     "end_time": "2023-05-22T23:44:10.153885555Z",
     "start_time": "2023-05-22T23:44:10.090488049Z"
    }
   },
   "outputs": [],
   "source": [
    "# Alterando o tipo do dado\n",
    "orders_full = orders_full.withColumn('product_length_cm', col('product_length_cm').cast('int'))"
   ]
  },
  {
   "attachments": {},
   "cell_type": "markdown",
   "metadata": {},
   "source": [
    "### product_height_cm"
   ]
  },
  {
   "cell_type": "code",
   "execution_count": null,
   "metadata": {
    "ExecuteTime": {
     "end_time": "2023-05-22T23:44:24.724410238Z",
     "start_time": "2023-05-22T23:44:10.122377731Z"
    }
   },
   "outputs": [],
   "source": [
    "# Checando a coluna\n",
    "orders_full.select('product_height_cm').show()"
   ]
  },
  {
   "attachments": {},
   "cell_type": "markdown",
   "metadata": {},
   "source": [
    "A coluna contém um dado com a altura do produto em centímetros. Como esse número não\n",
    "pode possuir casas decimais, será convertido para **int**."
   ]
  },
  {
   "cell_type": "code",
   "execution_count": null,
   "metadata": {
    "ExecuteTime": {
     "end_time": "2023-05-22T23:44:24.822273487Z",
     "start_time": "2023-05-22T23:44:24.726457737Z"
    }
   },
   "outputs": [],
   "source": [
    "# Alterando o tipo do dado\n",
    "orders_full = orders_full.withColumn('product_height_cm', col('product_height_cm').cast('int'))"
   ]
  },
  {
   "attachments": {},
   "cell_type": "markdown",
   "metadata": {},
   "source": [
    "### product_width_cm"
   ]
  },
  {
   "cell_type": "code",
   "execution_count": null,
   "metadata": {
    "ExecuteTime": {
     "end_time": "2023-05-22T23:44:40.613848440Z",
     "start_time": "2023-05-22T23:44:24.773729232Z"
    }
   },
   "outputs": [],
   "source": [
    "# Checando a coluna\n",
    "orders_full.select('product_width_cm').show()"
   ]
  },
  {
   "attachments": {},
   "cell_type": "markdown",
   "metadata": {},
   "source": [
    "A coluna contém um dado com a largura do produto em centímetros. Como esse número não\n",
    "pode possuir casas decimais, será convertido para **int**."
   ]
  },
  {
   "cell_type": "code",
   "execution_count": null,
   "metadata": {
    "ExecuteTime": {
     "end_time": "2023-05-22T23:44:40.695200080Z",
     "start_time": "2023-05-22T23:44:40.616371561Z"
    }
   },
   "outputs": [],
   "source": [
    "# Alterando o tipo do dado\n",
    "orders_full = orders_full.withColumn('product_width_cm', col('product_width_cm').cast('int'))"
   ]
  },
  {
   "attachments": {},
   "cell_type": "markdown",
   "metadata": {},
   "source": [
    "#### Criando novas features"
   ]
  },
  {
   "attachments": {},
   "cell_type": "markdown",
   "metadata": {},
   "source": [
    "Agora que a tabela já parece estar boa, irei criar uma novas features. A primeira \n",
    "será criada a partir das colunas ``customer_state`` e ``seller_state``, criando categorias para os \n",
    "estados, onde cada estado vai receber a região em que se localiza no Brasil."
   ]
  },
  {
   "cell_type": "code",
   "execution_count": null,
   "metadata": {
    "ExecuteTime": {
     "end_time": "2023-05-22T23:44:40.702714276Z",
     "start_time": "2023-05-22T23:44:40.652297707Z"
    }
   },
   "outputs": [],
   "source": [
    "# Criando lista de regiões  \n",
    "estados_norte = ['AC', 'AM', 'RO', 'RR', 'AP', 'TO', 'PA']\n",
    "estados_nordeste = ['MA', 'PI', 'CE', 'RN', 'PB', 'PE', 'AL', 'BA', 'SE']\n",
    "estados_centro = ['MT', 'MS', 'DF', 'GO']\n",
    "estados_sudeste = ['MG', 'SP', 'ES', 'RJ']\n",
    "estados_sul = ['PR', 'SC', 'RS']\n",
    "\n",
    "# Criando função \n",
    "func = lambda estado: 'NORTE' if estado in estados_norte else \\\n",
    "        ('NORDESTE' if estado in estados_nordeste else \\\n",
    "        ('CENTRO-OESTE' if estado in estados_centro else \\\n",
    "        ('SUDESTE' if estado in estados_sudeste else 'SUL')))\n",
    "\n",
    "func_udf = udf(func, StringType())"
   ]
  },
  {
   "cell_type": "code",
   "execution_count": null,
   "metadata": {
    "ExecuteTime": {
     "end_time": "2023-05-22T23:44:40.759845764Z",
     "start_time": "2023-05-22T23:44:40.663227290Z"
    }
   },
   "outputs": [],
   "source": [
    "# Aplicando a função\n",
    "orders_full = orders_full.withColumn(\"customer_region\", func_udf(\"customer_state\"))\n",
    "orders_full = orders_full.withColumn(\"seller_region\", func_udf(\"seller_state\"))"
   ]
  },
  {
   "attachments": {},
   "cell_type": "markdown",
   "metadata": {},
   "source": [
    "Agora, irei criar uma nova coluna para resumir as categorias da coluna\n",
    "``product_category_name``."
   ]
  },
  {
   "cell_type": "code",
   "execution_count": null,
   "metadata": {
    "ExecuteTime": {
     "end_time": "2023-05-22T23:44:40.810329168Z",
     "start_time": "2023-05-22T23:44:40.757241744Z"
    }
   },
   "outputs": [],
   "source": [
    "# Criando novas categorias\n",
    "eletronicos_e_tecnologia = ['pcs', 'pc_gamer', 'tablets_impressao_imagem', \n",
    "                            'telefonia_fixa', 'telefonia', \n",
    "                            'informatica_acessorios', 'eletronicos', 'audio', \n",
    "                            'consoles_games', 'dvds_blu_ray']\n",
    "\n",
    "moda_e_acessorios = ['fashion_roupa_masculina', 'fashion_roupa_feminina',\n",
    "                     'fashion_roupa_infanto_juvenil',\n",
    "                     'fashion_underwear_e_moda_praia',\n",
    "                     'fashion_bolsas_e_acessorios', 'fashion_calcados',\n",
    "                     'fashion_esporte']\n",
    "\n",
    "casa_e_decoracao = ['moveis_decoracao', 'moveis_colchao_e_estofado', \n",
    "                    'moveis_cozinha_area_de_servico_jantar_e_jardim', \n",
    "                    'moveis_quarto', 'moveis_sala', 'utilidades_domesticas', \n",
    "                    'cama_mesa_banho', 'casa_construcao', 'casa_conforto', \n",
    "                    'casa_conforto_2']\n",
    "\n",
    "livros_e_educacao = ['livros_tecnicos', 'livros_importados', \n",
    "                     'livros_interesse_geral']\n",
    "\n",
    "beleza_e_saude = ['beleza_saude', 'fraldas_higiene', 'perfumaria']\n",
    "\n",
    "brinquedos_e_jogos = ['brinquedos', 'jogos', 'instrumentos_musicais']\n",
    "\n",
    "alimentos_e_bebidas = ['alimentos_bebidas', 'bebidas', 'alimentos']\n",
    "\n",
    "artigos_para_festas = ['artigos_de_festas', 'artigos_de_natal']\n",
    "\n",
    "arte_e_artesanato = ['artes', 'cine_foto', 'artes_e_artesanato']\n",
    "\n",
    "ferramentas_e_construcao = ['construcao_ferramentas_construcao', \n",
    "                            'construcao_ferramentas_seguranca', \n",
    "                            'construcao_ferramentas_jardim', \n",
    "                            'construcao_ferramentas_iluminacao', \n",
    "                            'construcao_ferramentas_ferramentas']\n",
    "\n",
    "esporte_e_lazer = ['esporte_lazer']\n",
    "\n",
    "outros = ['cool_stuff', 'flores', 'industria_comercio_e_negocios', \n",
    "          'malas_acessorios', 'seguros_e_servicos', 'market_place', \n",
    "          'relogios_presentes', 'papelaria', 'climatizacao', \n",
    "          'sinalizacao_e_seguranca', 'agro_industria_e_comercio', \n",
    "          'cds_dvds_musicais', 'musica', 'eletroportateis']"
   ]
  },
  {
   "cell_type": "code",
   "execution_count": null,
   "metadata": {
    "ExecuteTime": {
     "end_time": "2023-05-22T23:44:40.811530592Z",
     "start_time": "2023-05-22T23:44:40.810832560Z"
    }
   },
   "outputs": [],
   "source": [
    "# Criando a função\n",
    "func = lambda categoria: 'eletronicos e tecnologia' if categoria in eletronicos_e_tecnologia else \\\n",
    "       ('moda e acessorios' if categoria in moda_e_acessorios else \\\n",
    "       ('casa e decoracao' if categoria in casa_e_decoracao else \\\n",
    "       ('livros e educacao' if categoria in livros_e_educacao else \\\n",
    "       ('beleza e saude' if categoria in beleza_e_saude else \\\n",
    "       ('brinquedos e jogos' if categoria in brinquedos_e_jogos else \\\n",
    "       ('alimentos_e_bebidas' if categoria in alimentos_e_bebidas else \\\n",
    "       ('artigos para festas' if categoria in artigos_para_festas else \\\n",
    "       ('arte e artesanato' if categoria in arte_e_artesanato else \\\n",
    "       ('ferramentas e construcao' if categoria in ferramentas_e_construcao else \\\n",
    "       ('esporte e lazer' if categoria in esporte_e_lazer else 'outros'))))))))))\n",
    "       \n",
    "func_udf = udf(func, StringType())\n"
   ]
  },
  {
   "cell_type": "code",
   "execution_count": null,
   "metadata": {
    "ExecuteTime": {
     "end_time": "2023-05-22T23:44:40.871574471Z",
     "start_time": "2023-05-22T23:44:40.811887393Z"
    }
   },
   "outputs": [],
   "source": [
    "# Criando nova coluna\n",
    "orders_full = orders_full.withColumn('sub_category_product_name', func_udf('product_category_name'))"
   ]
  },
  {
   "attachments": {},
   "cell_type": "markdown",
   "metadata": {},
   "source": [
    "Como novas colunas, irei criar novas unidades de medida a partir  das \n",
    "unidades das colunas ``product_weight_g``, ``product_length_cm``, \n",
    "``product_height_cm`` e ``product_width_cm``."
   ]
  },
  {
   "cell_type": "code",
   "execution_count": null,
   "metadata": {
    "ExecuteTime": {
     "end_time": "2023-05-22T23:44:40.978582115Z",
     "start_time": "2023-05-22T23:44:40.858005109Z"
    }
   },
   "outputs": [],
   "source": [
    "# Alterando a unidade de medida das colunas\n",
    "orders_full = orders_full.withColumn('product_weight_kg', col('product_weight_g')/1000)\n",
    "orders_full = orders_full.withColumn('product_length_m', col('product_length_cm')/100)\n",
    "orders_full = orders_full.withColumn('product_height_m', col('product_height_cm')/100)\n",
    "orders_full = orders_full.withColumn('product_width_m', col('product_width_cm')/100)\n"
   ]
  },
  {
   "attachments": {},
   "cell_type": "markdown",
   "metadata": {},
   "source": [
    "E para finalizar, irei extrair novas colunas a partir dos dados que representam datas."
   ]
  },
  {
   "cell_type": "code",
   "execution_count": null,
   "metadata": {
    "ExecuteTime": {
     "end_time": "2023-05-22T23:44:41.074455994Z",
     "start_time": "2023-05-22T23:44:40.982640873Z"
    }
   },
   "outputs": [],
   "source": [
    "# Obtendo o dia da semana da compra\n",
    "orders_full = orders_full.withColumn('order_day_of_week', dayofweek('order_purchase_timestamp'))\n",
    "\n",
    "# Criando uma função para obter o nome do dia da semana\n",
    "func = lambda dia: 'sunday' if dia == 1 else  \\\n",
    "        ('monday' if dia == 2 else  \\\n",
    "        ('tuesday' if dia == 3 else  \\\n",
    "        ('wednesday' if dia == 4 else  \\\n",
    "        ('thursday' if dia == 5 else  \\\n",
    "        ('friday' if dia == 6 else 'saturday')))))\n",
    "\n",
    "func_udf = udf(func, StringType())\n",
    "\n",
    "# Aplicando a função\n",
    "orders_full = orders_full.withColumn('order_name_day_of_week', func_udf('order_day_of_week'))"
   ]
  },
  {
   "cell_type": "code",
   "execution_count": null,
   "metadata": {
    "ExecuteTime": {
     "end_time": "2023-05-22T23:44:41.152151756Z",
     "start_time": "2023-05-22T23:44:41.075304202Z"
    }
   },
   "outputs": [],
   "source": [
    "# Obtendo o mês da compŕa\n",
    "orders_full = orders_full.withColumn('order_month', month('order_purchase_timestamp'))\n",
    "\n",
    "# Criando uma função para nomear os meses\n",
    "func = lambda mes: 'january' if mes == 1 else  \\\n",
    "        ('february' if mes == 2 else  \\\n",
    "        ('march' if mes == 3 else  \\\n",
    "        ('april' if mes == 4 else  \\\n",
    "        ('may' if mes == 5 else  \\\n",
    "        ('june' if mes == 6 else  \\\n",
    "        ('july' if mes == 7 else  \\\n",
    "        ('august' if mes == 8 else  \\\n",
    "        ('september' if mes == 9 else  \\\n",
    "        ('october' if mes == 10 else  \\\n",
    "        ('november' if mes == 11 else 'december'))))))))))\n",
    "        \n",
    "func_udf = udf(func, StringType())\n",
    "\n",
    "# Aplicando a função\n",
    "orders_full = orders_full.withColumn('order_name_month', func_udf('order_month'))"
   ]
  },
  {
   "cell_type": "code",
   "execution_count": null,
   "metadata": {
    "ExecuteTime": {
     "end_time": "2023-05-22T23:44:41.241894899Z",
     "start_time": "2023-05-22T23:44:41.154657884Z"
    }
   },
   "outputs": [],
   "source": [
    "# Obtendo a hora da compra\n",
    "orders_full = orders_full.withColumn('order_hour', hour('order_purchase_timestamp'))"
   ]
  },
  {
   "cell_type": "code",
   "execution_count": null,
   "metadata": {
    "ExecuteTime": {
     "end_time": "2023-05-22T23:44:41.287299763Z",
     "start_time": "2023-05-22T23:44:41.242403637Z"
    }
   },
   "outputs": [],
   "source": [
    "# Obtendo o tempo de processamento do pedido\n",
    "orders_full = orders_full.withColumn('order_processing_days', datediff('order_approved_at', 'order_purchase_timestamp'))"
   ]
  },
  {
   "cell_type": "code",
   "execution_count": null,
   "metadata": {
    "ExecuteTime": {
     "end_time": "2023-05-22T23:44:41.334278136Z",
     "start_time": "2023-05-22T23:44:41.285896020Z"
    }
   },
   "outputs": [],
   "source": [
    "# Calculando a diferença de dias entre a data do pedido e a data de entrega\n",
    "orders_full = orders_full.withColumn('order_delivery_days', datediff('order_delivered_customer_date', 'order_purchase_timestamp'))"
   ]
  },
  {
   "attachments": {},
   "cell_type": "markdown",
   "metadata": {},
   "source": [
    "## Salvando os dados"
   ]
  },
  {
   "cell_type": "code",
   "execution_count": null,
   "metadata": {
    "ExecuteTime": {
     "end_time": "2023-05-22T23:44:41.394094497Z",
     "start_time": "2023-05-22T23:44:41.329894128Z"
    }
   },
   "outputs": [],
   "source": [
    "# Criando o db\n",
    "db_connection = mysql.connector.connect(user=\"root\", password=\"123456\", host=\"localhost\", auth_plugin='mysql_native_password')\n",
    "db_cursor = db_connection.cursor()\n",
    "db_cursor.execute(\"CREATE DATABASE IF NOT EXISTS dbTeste;\")"
   ]
  },
  {
   "cell_type": "code",
   "execution_count": null,
   "metadata": {
    "ExecuteTime": {
     "end_time": "2023-05-22T23:44:42.081175243Z",
     "start_time": "2023-05-22T23:44:41.374885921Z"
    }
   },
   "outputs": [],
   "source": [
    "mysql_url = \"jdbc:mysql://localhost:3306/dbTeste\"\n",
    "mysql_properties = {\n",
    "    \"user\": \"root\",\n",
    "    \"password\": \"123456\",\n",
    "    \"driver\": \"com.mysql.jdbc.Driver\"\n",
    "}\n",
    "\n",
    "#orders_full.write.jdbc(mysql_url, \"tableteste\", mode=\"overwrite\", properties=mysql_properties)\n",
    "orders_full.write \\\n",
    "    .format(\"jdbc\") \\\n",
    "    .option(\"url\", mysql_url) \\\n",
    "    .option(\"dbtable\", \"teste\") \\\n",
    "    .mode(\"overwrite\") \\\n",
    "    .options(**mysql_properties) \\\n",
    "    .save()\n",
    "\n"
   ]
  },
  {
   "cell_type": "code",
   "execution_count": null,
   "metadata": {},
   "outputs": [],
   "source": [
    "\n",
    "# Write to MySQL Table\n",
    "orders_full.write \\\n",
    "  .format(\"jdbc\") \\\n",
    "  .option(\"driver\",\"com.mysql.cj.jdbc.Driver\") \\\n",
    "  .option(\"url\", \"jdbc:mysql://localhost:3306/dbTeste\") \\\n",
    "  .option(\"dbtable\", \"dbTeste\") \\\n",
    "  .option(\"user\", \"root\") \\\n",
    "  .option(\"password\", \"123456\") \\\n",
    "  .save('append')\n"
   ]
  }
 ],
 "metadata": {
  "kernelspec": {
   "display_name": "venv",
   "language": "python",
   "name": "python3"
  },
  "language_info": {
   "codemirror_mode": {
    "name": "ipython",
    "version": 3
   },
   "file_extension": ".py",
   "mimetype": "text/x-python",
   "name": "python",
   "nbconvert_exporter": "python",
   "pygments_lexer": "ipython3",
   "version": "3.10.6"
  },
  "orig_nbformat": 4
 },
 "nbformat": 4,
 "nbformat_minor": 2
}
