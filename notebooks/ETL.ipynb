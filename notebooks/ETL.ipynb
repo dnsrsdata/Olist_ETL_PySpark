{
 "cells": [
  {
   "cell_type": "code",
   "execution_count": null,
   "metadata": {
    "ExecuteTime": {
     "end_time": "2023-05-24T00:03:52.750487784Z",
     "start_time": "2023-05-24T00:03:52.460782125Z"
    }
   },
   "outputs": [],
   "source": [
    "# Importando as bibliotecas\n",
    "import re\n",
    "import mysql.connector\n",
    "from pyspark.sql import SparkSession\n",
    "from pyspark.sql.functions import udf, col, lower, to_timestamp, month, hour, datediff, dayofweek\n",
    "from pyspark.sql.types import StringType\n",
    "from pyspark.ml.feature import Tokenizer"
   ]
  },
  {
   "attachments": {},
   "cell_type": "markdown",
   "metadata": {},
   "source": [
    "## Carregando os dados\n",
    "Nesta etapa, irei carregar os dados."
   ]
  },
  {
   "cell_type": "code",
   "execution_count": null,
   "metadata": {
    "ExecuteTime": {
     "end_time": "2023-05-24T00:03:56.278853837Z",
     "start_time": "2023-05-24T00:03:52.751734942Z"
    }
   },
   "outputs": [],
   "source": [
    "# Iniciando sessão no Spark\n",
    "spark = SparkSession.builder.appName('Cluster').getOrCreate()\n"
   ]
  },
  {
   "cell_type": "code",
   "execution_count": null,
   "metadata": {
    "ExecuteTime": {
     "end_time": "2023-05-24T00:04:01.774299728Z",
     "start_time": "2023-05-24T00:03:56.284121576Z"
    }
   },
   "outputs": [],
   "source": [
    "# Lendos os dados csv\n",
    "customers = spark.read.csv(\"../data/raw/olist_customers_dataset.csv\", header=True)\n",
    "geolocalization = spark.read.csv(\"../data/raw/olist_geolocation_dataset.csv\", header=True)\n",
    "order_items = spark.read.csv(\"../data/raw/olist_order_items_dataset.csv\", header=True)\n",
    "order_payments = spark.read.csv(\"../data/raw/olist_order_payments_dataset.csv\", header=True)\n",
    "order_reviews = spark.read.csv(\"../data/raw/olist_order_reviews_dataset.csv\", header=True)\n",
    "orders = spark.read.csv(\"../data/raw/olist_orders_dataset.csv\", header=True)\n",
    "products = spark.read.csv(\"../data/raw/olist_products_dataset.csv\", header=True)\n",
    "sellers = spark.read.csv(\"../data/raw/olist_sellers_dataset.csv\", header=True)\n",
    "product_category = spark.read.csv(\"../data/raw/product_category_name_translation.csv\", header=True)"
   ]
  },
  {
   "attachments": {},
   "cell_type": "markdown",
   "metadata": {},
   "source": [
    "## Transformando os dados\n",
    "Nesta etapa, irei realizar uma série de transformações nos dados. Antes disso, irei unir as tabelas conforme o indicado no diagrama de relacionamento, e só após isso, realizar  as transformações."
   ]
  },
  {
   "attachments": {},
   "cell_type": "markdown",
   "metadata": {},
   "source": [
    "### Juntando os dados"
   ]
  },
  {
   "cell_type": "code",
   "execution_count": null,
   "metadata": {
    "ExecuteTime": {
     "end_time": "2023-05-24T00:04:01.889377820Z",
     "start_time": "2023-05-24T00:04:01.777051838Z"
    }
   },
   "outputs": [],
   "source": [
    "# Criando tabelas temporárias\n",
    "customers.createOrReplaceTempView(\"customers\")\n",
    "geolocalization.createOrReplaceTempView('geolocalization')\n",
    "order_items.createOrReplaceTempView('order_items')\n",
    "order_payments.createOrReplaceTempView('order_payments')\n",
    "order_reviews.createOrReplaceTempView('order_reviews')\n",
    "orders.createOrReplaceTempView('orders')\n",
    "products.createOrReplaceTempView('products')\n",
    "sellers.createOrReplaceTempView('sellers')\n",
    "product_category.createOrReplaceTempView('product_category')"
   ]
  },
  {
   "cell_type": "code",
   "execution_count": 38,
   "metadata": {
    "ExecuteTime": {
     "end_time": "2023-05-24T00:51:23.887778361Z",
     "start_time": "2023-05-24T00:51:23.733832626Z"
    }
   },
   "outputs": [],
   "source": [
    "orders_full = spark.sql(\"WITH geo_sellers AS  \\\n",
    "                            ( \\\n",
    "                            SELECT s.seller_zip_code_prefix, \\\n",
    "                            s.seller_city, \\\n",
    "                            s.seller_id,\\\n",
    "                            s.seller_state, \\\n",
    "                            g.geolocation_lat, \\\n",
    "                            g.geolocation_lng \\\n",
    "                            FROM sellers s  \\\n",
    "                            FULL OUTER JOIN geolocalization g  \\\n",
    "                            ON s.seller_zip_code_prefix = g.geolocation_zip_code_prefix \\\n",
    "                            ),  \\\n",
    "                            item_info AS \\\n",
    "                            ( \\\n",
    "                            SELECT oi.order_id, \\\n",
    "                            oi.order_item_id, \\\n",
    "                            oi.product_id, \\\n",
    "                            oi.seller_id, \\\n",
    "                            oi.shipping_limit_date, \\\n",
    "                            oi.price, \\\n",
    "                            oi.freight_value, \\\n",
    "                            p.product_category_name, \\\n",
    "                            p.product_name_lenght, \\\n",
    "                            p.product_description_lenght,  \\\n",
    "                            p.product_photos_qty, \\\n",
    "                            p.product_weight_g,  \\\n",
    "                            p.product_length_cm, \\\n",
    "                            p.product_height_cm, \\\n",
    "                            p.product_width_cm  \\\n",
    "                            FROM order_items oi  \\\n",
    "                            LEFT JOIN products p  \\\n",
    "                            ON oi.product_id = p.product_id \\\n",
    "                            )  \\\n",
    "                            SELECT o.order_id, \\\n",
    "                            o.customer_id, \\\n",
    "                            ii.product_id,  \\\n",
    "                            o.order_status, \\\n",
    "                            CAST(o.order_estimated_delivery_date AS date), \\\n",
    "                            CAST(o.order_purchase_timestamp AS timestamp), \\\n",
    "                            CAST(o.order_approved_at AS timestamp),  \\\n",
    "                            CAST(o.order_delivered_carrier_date AS timestamp), \\\n",
    "                            CAST(o.order_delivered_customer_date AS timestamp),  \\\n",
    "                            CAST(or.review_score AS int), \\\n",
    "                            LOWER(or.review_comment_title) AS review_comment_title, \\\n",
    "                            LOWER(or.review_comment_message) AS review_comment_message, \\\n",
    "                            CAST(or.review_creation_date AS date), \\\n",
    "                            CAST(or.review_answer_timestamp AS timestamp),  \\\n",
    "                            CAST(op.payment_sequential AS int), \\\n",
    "                            op.payment_type, \\\n",
    "                            CAST(op.payment_installments AS int),  \\\n",
    "                            CAST(op.payment_value AS float), \\\n",
    "                            c.customer_city, \\\n",
    "                            LOWER(c.customer_state) AS customer_state,  \\\n",
    "                            gs.seller_city, \\\n",
    "                            LOWER(gs.seller_state) AS seller_state, \\\n",
    "                            CAST(ii.shipping_limit_date AS timestamp), \\\n",
    "                            CAST(ii.price AS float), \\\n",
    "                            CAST(ii.freight_value AS float), \\\n",
    "                            ii.product_category_name, \\\n",
    "                            CAST(ii.product_name_lenght AS int), \\\n",
    "                            CAST(ii.product_description_lenght AS int),  \\\n",
    "                            CAST(ii.product_photos_qty AS int), \\\n",
    "                            CAST(ii.product_weight_g AS int),  \\\n",
    "                            CAST(ii.product_length_cm AS int), \\\n",
    "                            CAST(ii.product_height_cm AS int), \\\n",
    "                            CAST(ii.product_width_cm AS int),  \\\n",
    "                            CASE  \\\n",
    "                                WHEN c.customer_state IN ('ac', 'am', 'ro', 'rr', 'pa', 'ap', 'to') THEN 'norte'  \\\n",
    "                                WHEN c.customer_state IN ('ma', 'pi', 'ce', 'rn', 'pb', 'pe', 'se', 'al', 'ba') THEN 'nordeste'  \\\n",
    "                                WHEN c.customer_state IN ('mt', 'ms', 'go', 'df') THEN 'centro-oeste'  \\\n",
    "                                WHEN c.customer_state IN ('sp', 'rj', 'es', 'mg') THEN 'sudeste'  \\\n",
    "                                ELSE 'sul'  \\\n",
    "                            END AS customer_region, \\\n",
    "                            CASE  \\\n",
    "                                WHEN gs.seller_state IN ('ac', 'am', 'ro', 'rr', 'pa', 'ap', 'to') THEN 'norte'  \\\n",
    "                                WHEN gs.seller_state IN ('ma', 'pi', 'ce', 'rn', 'pb', 'pe', 'se', 'al', 'ba') THEN 'nordeste'  \\\n",
    "                                WHEN gs.seller_state IN ('mt', 'ms', 'go', 'df') THEN 'centro-oeste'  \\\n",
    "                                WHEN gs.seller_state IN ('sp', 'rj', 'es', 'mg') THEN 'sudeste'  \\\n",
    "                                ELSE 'sul'  \\\n",
    "                            END AS seller_region, \\\n",
    "                            CASE  \\\n",
    "                                WHEN ii.product_category_name IN ('fashion_roupa_masculina', 'fashion_roupa_feminina', 'fashion_roupa_infanto_juvenil', 'fashion_underwear_e_moda_praia', 'fashion_bolsas_e_acessorios', 'fashion_calcados', 'fashion_esporte') THEN 'moda e acessorios'  \\\n",
    "                                WHEN ii.product_category_name IN ('moveis_decoracao', 'moveis_colchao_e_estofado', 'moveis_cozinha_area_de_servico_jantar_e_jardim', 'moveis_quarto', 'moveis_sala', 'utilidades_domesticas', 'cama_mesa_banho', 'casa_construcao', 'casa_conforto', 'casa_conforto_2') THEN 'casa e decoracao'  \\\n",
    "                                WHEN ii.product_category_name IN ('livros_tecnicos', 'livros_importados','livros_interesse_geral') THEN 'livros e educacao'  \\\n",
    "                                WHEN ii.product_category_name IN ('beleza_saude', 'fraldas_higiene', 'perfumaria') THEN 'beleza e saude'  \\\n",
    "                                WHEN ii.product_category_name IN ('brinquedos', 'jogos', 'instrumentos_musicais') THEN 'brinquedos e jogos'  \\\n",
    "                                WHEN ii.product_category_name IN ('alimentos_bebidas', 'bebidas', 'alimentos') THEN 'alimentos e bebidas'  \\\n",
    "                                WHEN ii.product_category_name IN ('artigos_de_festas', 'artigos_de_natal') THEN 'artigos para festas'  \\\n",
    "                                WHEN ii.product_category_name IN ('artes', 'cine_foto', 'artes_e_artesanato') THEN 'artes e artesanato'  \\\n",
    "                                WHEN ii.product_category_name IN ('construcao_ferramentas_construcao', 'construcao_ferramentas_seguranca', 'construcao_ferramentas_jardim', 'construcao_ferramentas_iluminacao', 'construcao_ferramentas_ferramentas') THEN 'construcao e ferramentas'  \\\n",
    "                                WHEN ii.product_category_name IN ('esporte_lazer') THEN 'esporte e lazer'  \\\n",
    "                                ELSE 'outros'  \\\n",
    "                            END AS product_sub_category, \\\n",
    "                            ii.product_weight_g / 1000 AS product_weight_kg, \\\n",
    "                            ii.product_length_cm / 100 AS product_length_m, \\\n",
    "                            ii.product_height_cm / 100 AS product_height_m, \\\n",
    "                            ii.product_width_cm / 100 AS product_width_m, \\\n",
    "                            DAYOFWEEK(o.order_purchase_timestamp) AS order_weekday, \\\n",
    "                            MONTH(o.order_purchase_timestamp) AS order_month, \\\n",
    "                            HOUR(o.order_purchase_timestamp) AS order_hour, \\\n",
    "                            DATEDIFF(o.order_delivered_customer_date, o.order_purchase_timestamp) AS order_delivery_time, \\\n",
    "                            DATEDIFF(o.order_approved_at, o.order_purchase_timestamp) AS order_approval_time, \\\n",
    "                            CASE \\\n",
    "                                WHEN order_weekday = 1 THEN 'sunday'  \\\n",
    "                                WHEN order_weekday = 2 THEN 'monday'  \\\n",
    "                                WHEN order_weekday = 3 THEN 'tuesday'  \\\n",
    "                                WHEN order_weekday = 4 THEN 'wednesday'  \\\n",
    "                                WHEN order_weekday = 5 THEN 'thursday'  \\\n",
    "                                WHEN order_weekday = 6 THEN 'friday'  \\\n",
    "                                ELSE 'saturday'  \\\n",
    "                            END AS order_weekday_name, \\\n",
    "                            CASE \\\n",
    "                                WHEN order_month = 1 THEN 'january'  \\\n",
    "                                WHEN order_month = 2 THEN 'february'  \\\n",
    "                                WHEN order_month = 3 THEN 'march'  \\\n",
    "                                WHEN order_month = 4 THEN 'april'  \\\n",
    "                                WHEN order_month = 5 THEN 'may'  \\\n",
    "                                WHEN order_month = 6 THEN 'june'  \\\n",
    "                                WHEN order_month = 7 THEN 'july'  \\\n",
    "                                WHEN order_month = 8 THEN 'august'  \\\n",
    "                                WHEN order_month = 9 THEN 'september'  \\\n",
    "                                WHEN order_month = 10 THEN 'october'  \\\n",
    "                                WHEN order_month = 11 THEN 'november'  \\\n",
    "                                ELSE 'december'  \\\n",
    "                            END AS order_month_name, \\\n",
    "                            CASE  \\\n",
    "                                WHEN or.review_score <= 3 THEN 'bad'  \\\n",
    "                                ELSE 'good'  \\\n",
    "                            END AS review_score_class \\\n",
    "                            FROM orders o \\\n",
    "                            LEFT JOIN order_reviews or  \\\n",
    "                            ON o.order_id = or.order_id  \\\n",
    "                            LEFT JOIN order_payments op  \\\n",
    "                            ON o.order_id = op.order_id  \\\n",
    "                            LEFT JOIN customers c  \\\n",
    "                            ON o.customer_id = c.customer_id  \\\n",
    "                            LEFT JOIN item_info ii   \\\n",
    "                            ON o.order_id = ii.order_id  \\\n",
    "                            LEFT JOIN geo_sellers gs  \\\n",
    "                            ON ii.seller_id = gs.seller_id\")"
   ]
  },
  {
   "cell_type": "code",
   "execution_count": null,
   "metadata": {
    "ExecuteTime": {
     "end_time": "2023-05-24T00:06:56.823939937Z",
     "start_time": "2023-05-24T00:06:49.808686747Z"
    }
   },
   "outputs": [],
   "source": [
    "# Checando o número de linhas\n",
    "orders_full.count()"
   ]
  },
  {
   "cell_type": "code",
   "execution_count": null,
   "metadata": {
    "ExecuteTime": {
     "end_time": "2023-05-24T00:19:46.071496340Z",
     "start_time": "2023-05-24T00:19:46.055377531Z"
    }
   },
   "outputs": [],
   "source": [
    "# Checando a quantidade de colunas\n",
    "len(orders_full.columns)"
   ]
  },
  {
   "cell_type": "code",
   "execution_count": null,
   "metadata": {
    "ExecuteTime": {
     "end_time": "2023-05-22T23:38:57.688080006Z",
     "start_time": "2023-05-22T23:38:57.595491033Z"
    }
   },
   "outputs": [],
   "source": [
    "# Buscando e dropando duplicatas\n",
    "orders_full = orders_full.drop_duplicates()"
   ]
  },
  {
   "cell_type": "code",
   "execution_count": null,
   "metadata": {
    "ExecuteTime": {
     "end_time": "2023-05-22T23:39:20.878641941Z",
     "start_time": "2023-05-22T23:38:57.632293045Z"
    }
   },
   "outputs": [],
   "source": [
    "# Checando a quantidade de linhas novamente\n",
    "orders_full.count()"
   ]
  },
  {
   "attachments": {},
   "cell_type": "markdown",
   "metadata": {},
   "source": [
    "Agora com a junção já feita, vamos passar para a fase de tratamento dos dados.\n",
    "Como a junção foi feita selecionando as colunas, não há colunas duplicadas no dataset."
   ]
  },
  {
   "attachments": {},
   "cell_type": "markdown",
   "metadata": {},
   "source": [
    "### Tratando os dados\n",
    "Nesta etapa, passarei de coluna a coluna tratando o dado conforme necessário."
   ]
  },
  {
   "cell_type": "code",
   "execution_count": null,
   "metadata": {
    "ExecuteTime": {
     "end_time": "2023-05-22T23:39:20.980455580Z",
     "start_time": "2023-05-22T23:39:20.887396432Z"
    }
   },
   "outputs": [],
   "source": [
    "# Checando as colunas\n",
    "orders_full.columns"
   ]
  },
  {
   "attachments": {},
   "cell_type": "markdown",
   "metadata": {},
   "source": [
    "#### order_Status\n"
   ]
  },
  {
   "cell_type": "code",
   "execution_count": null,
   "metadata": {
    "ExecuteTime": {
     "end_time": "2023-05-22T23:39:21.417543780Z",
     "start_time": "2023-05-22T23:39:20.905257776Z"
    }
   },
   "outputs": [],
   "source": [
    "# Checando os valores\n",
    "orders_full.select('order_status').distinct().collect()"
   ]
  },
  {
   "attachments": {},
   "cell_type": "markdown",
   "metadata": {},
   "source": [
    "A coluna em questão não demonstra ter erros, onde os valores estão na mesma case\n",
    " e sem inconsistências. Além disso, o tipo do dado é **string**, o que \n",
    " corresponde com os valores da coluna."
   ]
  },
  {
   "attachments": {},
   "cell_type": "markdown",
   "metadata": {},
   "source": [
    "### order_estimated_delivery_date"
   ]
  },
  {
   "cell_type": "code",
   "execution_count": null,
   "metadata": {
    "ExecuteTime": {
     "end_time": "2023-05-22T23:39:39.063821230Z",
     "start_time": "2023-05-22T23:39:21.420492651Z"
    }
   },
   "outputs": [],
   "source": [
    "orders_full.select('order_estimated_delivery_date').show()"
   ]
  },
  {
   "attachments": {},
   "cell_type": "markdown",
   "metadata": {},
   "source": [
    "Como podemos ver, os valores dessa coluna se referem a data estimada da entrega, sem hora e nem minutos. Por isso, será transformada em apenas **data** e não **timestamp**."
   ]
  },
  {
   "cell_type": "code",
   "execution_count": null,
   "metadata": {
    "ExecuteTime": {
     "end_time": "2023-05-22T23:39:39.190991943Z",
     "start_time": "2023-05-22T23:39:39.070506900Z"
    }
   },
   "outputs": [],
   "source": [
    "# Alterando o tipo para data\n",
    "orders_full = orders_full.withColumn(\"order_estimated_delivery_date\", col(\"order_estimated_delivery_date\").cast('date'))\n"
   ]
  },
  {
   "attachments": {},
   "cell_type": "markdown",
   "metadata": {},
   "source": [
    "### order_purchase_timestamp, order_approved_at, order_delivered_carrier_date, order_delivered_customer_date\n",
    "Aqui 4 colunas serão tratadas juntas, pois demandam o mesmo tratamento, **string** para **timestamp**."
   ]
  },
  {
   "cell_type": "code",
   "execution_count": null,
   "metadata": {
    "ExecuteTime": {
     "end_time": "2023-05-22T23:39:39.229311724Z",
     "start_time": "2023-05-22T23:39:39.149361094Z"
    }
   },
   "outputs": [],
   "source": [
    "# Criando uma lista com as colunas\n",
    "colunas = ['order_purchase_timestamp', 'order_approved_at', 'order_delivered_carrier_date', 'order_delivered_customer_date']"
   ]
  },
  {
   "cell_type": "code",
   "execution_count": null,
   "metadata": {
    "ExecuteTime": {
     "end_time": "2023-05-22T23:39:39.413598366Z",
     "start_time": "2023-05-22T23:39:39.166081585Z"
    }
   },
   "outputs": [],
   "source": [
    "# Realizando a transformação em cada coluna\n",
    "for coluna in colunas:\n",
    "    orders_full = orders_full.withColumn(coluna, to_timestamp(coluna))"
   ]
  },
  {
   "attachments": {},
   "cell_type": "markdown",
   "metadata": {},
   "source": [
    "### review_score\n",
    "A princípio essa coluna parece estar com o tipo errado, vamos verificar os valores:"
   ]
  },
  {
   "cell_type": "code",
   "execution_count": null,
   "metadata": {
    "ExecuteTime": {
     "end_time": "2023-05-22T23:39:40.574086084Z",
     "start_time": "2023-05-22T23:39:39.397513080Z"
    }
   },
   "outputs": [],
   "source": [
    "# Checando os valores distintos\n",
    "orders_full.select('review_score').distinct().show()"
   ]
  },
  {
   "cell_type": "code",
   "execution_count": null,
   "metadata": {
    "ExecuteTime": {
     "end_time": "2023-05-22T23:39:40.691919893Z",
     "start_time": "2023-05-22T23:39:40.586120557Z"
    }
   },
   "outputs": [],
   "source": [
    "# Alterando o tipo para data\n",
    "orders_full = orders_full.withColumn(\"review_score\", col(\"review_score\").cast('int'))\n"
   ]
  },
  {
   "attachments": {},
   "cell_type": "markdown",
   "metadata": {},
   "source": [
    "### review_comment_title"
   ]
  },
  {
   "cell_type": "code",
   "execution_count": null,
   "metadata": {
    "ExecuteTime": {
     "end_time": "2023-05-22T23:39:58.428356707Z",
     "start_time": "2023-05-22T23:39:40.658472284Z"
    }
   },
   "outputs": [],
   "source": [
    "# Checando os valores \n",
    "orders_full.select('review_comment_title').show()"
   ]
  },
  {
   "attachments": {},
   "cell_type": "markdown",
   "metadata": {},
   "source": [
    "Aqui o formato parece estar correto, mas irei limpar o texto, retirando pontuações e normalizando o texto (mesma case)."
   ]
  },
  {
   "cell_type": "code",
   "execution_count": null,
   "metadata": {
    "ExecuteTime": {
     "end_time": "2023-05-22T23:39:58.438070206Z",
     "start_time": "2023-05-22T23:39:58.429146710Z"
    }
   },
   "outputs": [],
   "source": [
    "# regex para remover pontuações\n",
    "re_special = \"[^\\w\\s]\""
   ]
  },
  {
   "cell_type": "code",
   "execution_count": null,
   "metadata": {
    "ExecuteTime": {
     "end_time": "2023-05-22T23:39:58.560407452Z",
     "start_time": "2023-05-22T23:39:58.441154126Z"
    }
   },
   "outputs": [],
   "source": [
    "# Criando funções para remover caracteres especiais\n",
    "func = lambda titulo: re.sub(re_special, ' ', str(titulo).strip())\n",
    "func_udf = udf(func, StringType())"
   ]
  },
  {
   "cell_type": "code",
   "execution_count": null,
   "metadata": {
    "ExecuteTime": {
     "end_time": "2023-05-22T23:39:58.577645044Z",
     "start_time": "2023-05-22T23:39:58.467803273Z"
    }
   },
   "outputs": [],
   "source": [
    "# Aplicando a função\n",
    "orders_full = orders_full.withColumn('review_comment_title', func_udf(lower('review_comment_title')))"
   ]
  },
  {
   "attachments": {},
   "cell_type": "markdown",
   "metadata": {},
   "source": [
    "Agora irei criar tokens a partir do texto."
   ]
  },
  {
   "cell_type": "code",
   "execution_count": null,
   "metadata": {
    "ExecuteTime": {
     "end_time": "2023-05-22T23:39:58.914037957Z",
     "start_time": "2023-05-22T23:39:58.575201127Z"
    }
   },
   "outputs": [],
   "source": [
    "# Criando um tokenizador\n",
    "tokenizer = Tokenizer(inputCol=\"review_comment_title\", outputCol=\"review_comment_title_tokens\")\n",
    "\n",
    "# Criando nova coluna com os tokens\n",
    "orders_full = tokenizer.transform(orders_full)"
   ]
  },
  {
   "cell_type": "code",
   "execution_count": null,
   "metadata": {
    "ExecuteTime": {
     "end_time": "2023-05-22T23:40:15.954952618Z",
     "start_time": "2023-05-22T23:39:58.917294062Z"
    }
   },
   "outputs": [],
   "source": [
    "# Checando os valores \n",
    "orders_full.select('review_comment_title').show()"
   ]
  },
  {
   "cell_type": "code",
   "execution_count": null,
   "metadata": {
    "ExecuteTime": {
     "end_time": "2023-05-22T23:40:32.034252494Z",
     "start_time": "2023-05-22T23:40:15.957092269Z"
    }
   },
   "outputs": [],
   "source": [
    "# Checando os valores \n",
    "orders_full.select('review_comment_title_tokens').show()"
   ]
  },
  {
   "attachments": {},
   "cell_type": "markdown",
   "metadata": {},
   "source": [
    "### review_comment_message"
   ]
  },
  {
   "cell_type": "code",
   "execution_count": null,
   "metadata": {
    "ExecuteTime": {
     "end_time": "2023-05-22T23:40:48.689493793Z",
     "start_time": "2023-05-22T23:40:32.039270896Z"
    }
   },
   "outputs": [],
   "source": [
    "# Checando os valores\n",
    "orders_full.select('review_comment_message').show()"
   ]
  },
  {
   "attachments": {},
   "cell_type": "markdown",
   "metadata": {},
   "source": [
    "Aqui eu usarei o mesmo tratamento da coluna passada, removendo pontuações e \n",
    "deixando o texto na mesma case."
   ]
  },
  {
   "cell_type": "code",
   "execution_count": null,
   "metadata": {
    "ExecuteTime": {
     "end_time": "2023-05-22T23:40:48.775675575Z",
     "start_time": "2023-05-22T23:40:48.692347058Z"
    }
   },
   "outputs": [],
   "source": [
    "# Aplicando a função\n",
    "orders_full = orders_full.withColumn('review_comment_message', func_udf(lower('review_comment_message')))"
   ]
  },
  {
   "attachments": {},
   "cell_type": "markdown",
   "metadata": {},
   "source": [
    "Por fim, irei criar os tokens."
   ]
  },
  {
   "cell_type": "code",
   "execution_count": null,
   "metadata": {
    "ExecuteTime": {
     "end_time": "2023-05-22T23:40:48.854036740Z",
     "start_time": "2023-05-22T23:40:48.737791813Z"
    }
   },
   "outputs": [],
   "source": [
    "# Criando o tokenizer\n",
    "tokenizer = Tokenizer(inputCol=\"review_comment_message\", outputCol=\"review_comment_message_tokens\")\n",
    "\n",
    "# Criando nova coluna com os tokens\n",
    "orders_full = tokenizer.transform(orders_full)"
   ]
  },
  {
   "cell_type": "code",
   "execution_count": null,
   "metadata": {
    "ExecuteTime": {
     "end_time": "2023-05-22T23:41:04.288107053Z",
     "start_time": "2023-05-22T23:40:48.864545528Z"
    }
   },
   "outputs": [],
   "source": [
    "# Checando os valores \n",
    "orders_full.select('review_comment_message').show()"
   ]
  },
  {
   "cell_type": "code",
   "execution_count": null,
   "metadata": {
    "ExecuteTime": {
     "end_time": "2023-05-22T23:41:18.977631579Z",
     "start_time": "2023-05-22T23:41:04.290893432Z"
    }
   },
   "outputs": [],
   "source": [
    "# Checando os valores \n",
    "orders_full.select('review_comment_message_tokens').show()"
   ]
  },
  {
   "attachments": {},
   "cell_type": "markdown",
   "metadata": {},
   "source": [
    "### review_creation_date"
   ]
  },
  {
   "cell_type": "code",
   "execution_count": null,
   "metadata": {
    "ExecuteTime": {
     "end_time": "2023-05-22T23:41:34.372034739Z",
     "start_time": "2023-05-22T23:41:18.982658566Z"
    }
   },
   "outputs": [],
   "source": [
    "# Checando os valores \n",
    "orders_full.select('review_creation_date').show()"
   ]
  },
  {
   "attachments": {},
   "cell_type": "markdown",
   "metadata": {},
   "source": [
    "Como podemos ver, os valores dessa coluna se referem a data de criação da review, sem hora e nem minutos. Por isso, será transformada em apenas **data** e não **timestamp**."
   ]
  },
  {
   "cell_type": "code",
   "execution_count": null,
   "metadata": {
    "ExecuteTime": {
     "end_time": "2023-05-22T23:41:34.472062896Z",
     "start_time": "2023-05-22T23:41:34.377675337Z"
    }
   },
   "outputs": [],
   "source": [
    "# Alterando o tipo de dado\n",
    "orders_full = orders_full.withColumn('review_creation_date', col('review_creation_date').cast('date'))"
   ]
  },
  {
   "attachments": {},
   "cell_type": "markdown",
   "metadata": {},
   "source": [
    "### review_answer_timestamp"
   ]
  },
  {
   "cell_type": "code",
   "execution_count": null,
   "metadata": {
    "ExecuteTime": {
     "end_time": "2023-05-22T23:41:49.144806143Z",
     "start_time": "2023-05-22T23:41:34.427910523Z"
    }
   },
   "outputs": [],
   "source": [
    "# Checando os valores\n",
    "orders_full.select('review_answer_timestamp').show()"
   ]
  },
  {
   "attachments": {},
   "cell_type": "markdown",
   "metadata": {},
   "source": [
    "Desta vez os dados possuem data e hora, fazendo com que seja necessário transforma-los para o formato **timestamp**."
   ]
  },
  {
   "cell_type": "code",
   "execution_count": null,
   "metadata": {
    "ExecuteTime": {
     "end_time": "2023-05-22T23:41:49.215898640Z",
     "start_time": "2023-05-22T23:41:49.146822603Z"
    }
   },
   "outputs": [],
   "source": [
    "# Alterando o tipo de dado\n",
    "orders_full = orders_full.withColumn('review_answer_timestamp', to_timestamp('review_answer_timestamp'))"
   ]
  },
  {
   "attachments": {},
   "cell_type": "markdown",
   "metadata": {},
   "source": [
    "### payment_sequential"
   ]
  },
  {
   "cell_type": "code",
   "execution_count": null,
   "metadata": {
    "ExecuteTime": {
     "end_time": "2023-05-22T23:41:50.129640577Z",
     "start_time": "2023-05-22T23:41:49.181649421Z"
    }
   },
   "outputs": [],
   "source": [
    "# Verificando os valores únicos\n",
    "orders_full.select('payment_sequential').distinct().show()"
   ]
  },
  {
   "attachments": {},
   "cell_type": "markdown",
   "metadata": {},
   "source": [
    "O dado aparenta ser numerico, representando o número de pagamentos."
   ]
  },
  {
   "cell_type": "code",
   "execution_count": null,
   "metadata": {
    "ExecuteTime": {
     "end_time": "2023-05-22T23:41:50.210212302Z",
     "start_time": "2023-05-22T23:41:50.134727870Z"
    }
   },
   "outputs": [],
   "source": [
    "# Alterando o tipo de dado\n",
    "orders_full = orders_full.withColumn('payment_sequential', col('payment_sequential').cast('int'))"
   ]
  },
  {
   "attachments": {},
   "cell_type": "markdown",
   "metadata": {},
   "source": [
    "### payment_type"
   ]
  },
  {
   "cell_type": "code",
   "execution_count": null,
   "metadata": {
    "ExecuteTime": {
     "end_time": "2023-05-22T23:41:51.147676725Z",
     "start_time": "2023-05-22T23:41:50.187647217Z"
    }
   },
   "outputs": [],
   "source": [
    "# Checando os valores\n",
    "orders_full.select('payment_type').distinct().show()"
   ]
  },
  {
   "attachments": {},
   "cell_type": "markdown",
   "metadata": {},
   "source": [
    "Não aparenta haver inconsistências nos valores e nem no tipo do dado. Por isso, não irei aplicar tatamento nesta coluna."
   ]
  },
  {
   "attachments": {},
   "cell_type": "markdown",
   "metadata": {},
   "source": [
    "### payment_installments"
   ]
  },
  {
   "cell_type": "code",
   "execution_count": null,
   "metadata": {
    "ExecuteTime": {
     "end_time": "2023-05-22T23:41:52.020931491Z",
     "start_time": "2023-05-22T23:41:51.151721412Z"
    }
   },
   "outputs": [],
   "source": [
    "# Checando os valores distintos\n",
    "orders_full.select('payment_installments').distinct().show()"
   ]
  },
  {
   "attachments": {},
   "cell_type": "markdown",
   "metadata": {},
   "source": [
    "A coluna aparenta representar o número de parcelas. Embora não apresente \n",
    "inconsistências nos valores, ainda é necessário aplicar uma alteração de tipo\n",
    "de dado."
   ]
  },
  {
   "cell_type": "code",
   "execution_count": null,
   "metadata": {
    "ExecuteTime": {
     "end_time": "2023-05-22T23:41:52.093106165Z",
     "start_time": "2023-05-22T23:41:52.023530873Z"
    }
   },
   "outputs": [],
   "source": [
    "# Alterando o tipo do dado\n",
    "orders_full = orders_full.withColumn('payment_installments', col('payment_installments').cast('int'))"
   ]
  },
  {
   "attachments": {},
   "cell_type": "markdown",
   "metadata": {},
   "source": [
    "### payment_value"
   ]
  },
  {
   "cell_type": "code",
   "execution_count": null,
   "metadata": {
    "ExecuteTime": {
     "end_time": "2023-05-22T23:41:53.349300766Z",
     "start_time": "2023-05-22T23:41:52.060762806Z"
    }
   },
   "outputs": [],
   "source": [
    "# Checando os valores distintos\n",
    "orders_full.select('payment_value').distinct().show()"
   ]
  },
  {
   "attachments": {},
   "cell_type": "markdown",
   "metadata": {},
   "source": [
    "A coluna represaenta o valor de pagamento. O tipo de dado deve ser alterado para float."
   ]
  },
  {
   "cell_type": "code",
   "execution_count": null,
   "metadata": {
    "ExecuteTime": {
     "end_time": "2023-05-22T23:41:53.445024388Z",
     "start_time": "2023-05-22T23:41:53.355229845Z"
    }
   },
   "outputs": [],
   "source": [
    "# Alterando o tipo de dado\n",
    "orders_full = orders_full.withColumn('payment_value', col('payment_value').cast('float'))"
   ]
  },
  {
   "attachments": {},
   "cell_type": "markdown",
   "metadata": {},
   "source": [
    "### customer_city"
   ]
  },
  {
   "cell_type": "code",
   "execution_count": null,
   "metadata": {
    "ExecuteTime": {
     "end_time": "2023-05-22T23:41:54.915857680Z",
     "start_time": "2023-05-22T23:41:53.396345831Z"
    }
   },
   "outputs": [],
   "source": [
    "# Checando os valores distintos\n",
    "orders_full.select('customer_city').distinct().show(20)"
   ]
  },
  {
   "attachments": {},
   "cell_type": "markdown",
   "metadata": {},
   "source": [
    "Os dados da coluna já estão na mesma case, sem pontuações e possui o formato \n",
    "correto, tornando desnecessário a aplicação de tratamento na mesma."
   ]
  },
  {
   "attachments": {},
   "cell_type": "markdown",
   "metadata": {},
   "source": [
    "### customer_state"
   ]
  },
  {
   "cell_type": "code",
   "execution_count": null,
   "metadata": {
    "ExecuteTime": {
     "end_time": "2023-05-22T23:41:55.917530586Z",
     "start_time": "2023-05-22T23:41:54.919236223Z"
    }
   },
   "outputs": [],
   "source": [
    "# Checando os valores distintos\n",
    "orders_full.select('customer_state').distinct().collect()"
   ]
  },
  {
   "attachments": {},
   "cell_type": "markdown",
   "metadata": {},
   "source": [
    "Os dados da coluna já estão na mesma case, sem pontuações e possui o formato \n",
    "correto, tornando desnecessário a aplicação de tratamento na mesma."
   ]
  },
  {
   "attachments": {},
   "cell_type": "markdown",
   "metadata": {},
   "source": [
    "### seller_city"
   ]
  },
  {
   "cell_type": "code",
   "execution_count": null,
   "metadata": {
    "ExecuteTime": {
     "end_time": "2023-05-22T23:42:01.693452125Z",
     "start_time": "2023-05-22T23:41:55.921389670Z"
    }
   },
   "outputs": [],
   "source": [
    "# Checando os valores distintos\n",
    "orders_full.select('seller_city').distinct().show()"
   ]
  },
  {
   "attachments": {},
   "cell_type": "markdown",
   "metadata": {},
   "source": [
    "Os dados da coluna já estão na mesma case, sem pontuações e possui o formato \n",
    "correto, tornando desnecessário a aplicação de tratamento na mesma."
   ]
  },
  {
   "attachments": {},
   "cell_type": "markdown",
   "metadata": {},
   "source": [
    "### seller_state"
   ]
  },
  {
   "cell_type": "code",
   "execution_count": null,
   "metadata": {
    "ExecuteTime": {
     "end_time": "2023-05-22T23:42:06.920310242Z",
     "start_time": "2023-05-22T23:42:01.696860862Z"
    }
   },
   "outputs": [],
   "source": [
    "# Checando os valores distintos\n",
    "orders_full.select('seller_state').distinct().collect()"
   ]
  },
  {
   "attachments": {},
   "cell_type": "markdown",
   "metadata": {},
   "source": [
    "Os dados da coluna já estão na mesma case, sem pontuações e possui o formato \n",
    "correto, tornando desnecessário a aplicação de tratamento na mesma."
   ]
  },
  {
   "attachments": {},
   "cell_type": "markdown",
   "metadata": {},
   "source": [
    "### shipping_limit_date"
   ]
  },
  {
   "cell_type": "code",
   "execution_count": null,
   "metadata": {
    "ExecuteTime": {
     "end_time": "2023-05-22T23:42:22.803853046Z",
     "start_time": "2023-05-22T23:42:06.917538010Z"
    }
   },
   "outputs": [],
   "source": [
    "# Checando os valores \n",
    "orders_full.select('shipping_limit_date').show()"
   ]
  },
  {
   "attachments": {},
   "cell_type": "markdown",
   "metadata": {},
   "source": [
    "Como mostrado no schema, os dados estão no formato de **string**. Aqui, irei\n",
    "alterar o tipo para timestamp, pois possui data e hora."
   ]
  },
  {
   "cell_type": "code",
   "execution_count": null,
   "metadata": {
    "ExecuteTime": {
     "end_time": "2023-05-22T23:42:22.899090039Z",
     "start_time": "2023-05-22T23:42:22.807208017Z"
    }
   },
   "outputs": [],
   "source": [
    "# Alterando o tipo do dado\n",
    "orders_full = orders_full.withColumn('shipping_limit_date', to_timestamp('shipping_limit_date'))"
   ]
  },
  {
   "attachments": {},
   "cell_type": "markdown",
   "metadata": {},
   "source": [
    "### price"
   ]
  },
  {
   "cell_type": "code",
   "execution_count": null,
   "metadata": {
    "ExecuteTime": {
     "end_time": "2023-05-22T23:42:37.760823782Z",
     "start_time": "2023-05-22T23:42:22.876922845Z"
    }
   },
   "outputs": [],
   "source": [
    "# Checando a coluna\n",
    "orders_full.select('price').show()"
   ]
  },
  {
   "attachments": {},
   "cell_type": "markdown",
   "metadata": {},
   "source": [
    "Aqui tenho números com centavos, por isso, será alterado para **float**."
   ]
  },
  {
   "cell_type": "code",
   "execution_count": null,
   "metadata": {
    "ExecuteTime": {
     "end_time": "2023-05-22T23:42:37.821580111Z",
     "start_time": "2023-05-22T23:42:37.762913608Z"
    }
   },
   "outputs": [],
   "source": [
    "orders_full = orders_full.withColumn('price', col('price').cast('float'))"
   ]
  },
  {
   "attachments": {},
   "cell_type": "markdown",
   "metadata": {},
   "source": [
    "### freight_value"
   ]
  },
  {
   "cell_type": "code",
   "execution_count": null,
   "metadata": {
    "ExecuteTime": {
     "end_time": "2023-05-22T23:42:52.513479867Z",
     "start_time": "2023-05-22T23:42:37.788637549Z"
    }
   },
   "outputs": [],
   "source": [
    "# Checando a coluna\n",
    "orders_full.select('freight_value').show()"
   ]
  },
  {
   "attachments": {},
   "cell_type": "markdown",
   "metadata": {},
   "source": [
    "Aqui tenho números com centavos, por isso, será alterado para **float**."
   ]
  },
  {
   "cell_type": "code",
   "execution_count": null,
   "metadata": {
    "ExecuteTime": {
     "end_time": "2023-05-22T23:42:52.594982734Z",
     "start_time": "2023-05-22T23:42:52.518118262Z"
    }
   },
   "outputs": [],
   "source": [
    "# Alterando o tipo do dado\n",
    "orders_full = orders_full.withColumn('freight_value', col('freight_value').cast('float'))"
   ]
  },
  {
   "attachments": {},
   "cell_type": "markdown",
   "metadata": {},
   "source": [
    "### product_category_name"
   ]
  },
  {
   "cell_type": "code",
   "execution_count": null,
   "metadata": {
    "ExecuteTime": {
     "end_time": "2023-05-22T23:42:54.495549311Z",
     "start_time": "2023-05-22T23:42:52.560241716Z"
    }
   },
   "outputs": [],
   "source": [
    "# Checando a coluna\n",
    "orders_full.select('product_category_name').distinct().show()"
   ]
  },
  {
   "attachments": {},
   "cell_type": "markdown",
   "metadata": {},
   "source": [
    "Os dados da coluna já estão na mesma case, sem pontuações e possui o formato \n",
    "correto, tornando desnecessário a aplicação de tratamento na mesma."
   ]
  },
  {
   "attachments": {},
   "cell_type": "markdown",
   "metadata": {},
   "source": [
    "### product_name_lenght"
   ]
  },
  {
   "cell_type": "code",
   "execution_count": null,
   "metadata": {
    "ExecuteTime": {
     "end_time": "2023-05-22T23:43:10.553642477Z",
     "start_time": "2023-05-22T23:42:54.499618790Z"
    }
   },
   "outputs": [],
   "source": [
    "# Checando a coluna \n",
    "orders_full.select('product_name_lenght').show()"
   ]
  },
  {
   "attachments": {},
   "cell_type": "markdown",
   "metadata": {},
   "source": [
    "A coluna contém um dado com o tamanho do nome do produto. Como esse número não\n",
    "pode possuir casas decimais, será convertido para **int**."
   ]
  },
  {
   "cell_type": "code",
   "execution_count": null,
   "metadata": {
    "ExecuteTime": {
     "end_time": "2023-05-22T23:43:10.634808108Z",
     "start_time": "2023-05-22T23:43:10.556650608Z"
    }
   },
   "outputs": [],
   "source": [
    "# Alterando o tipo do dado\n",
    "orders_full = orders_full.withColumn('product_name_lenght', col('product_name_lenght').cast('int'))"
   ]
  },
  {
   "attachments": {},
   "cell_type": "markdown",
   "metadata": {},
   "source": [
    "### product_description_lenght"
   ]
  },
  {
   "cell_type": "code",
   "execution_count": null,
   "metadata": {
    "ExecuteTime": {
     "end_time": "2023-05-22T23:43:26.334966541Z",
     "start_time": "2023-05-22T23:43:10.588768872Z"
    }
   },
   "outputs": [],
   "source": [
    "# Checando a coluna\n",
    "orders_full.select('product_description_lenght').show()"
   ]
  },
  {
   "attachments": {},
   "cell_type": "markdown",
   "metadata": {},
   "source": [
    "A coluna contém um dado com o tamanho da descrição do produto. Como esse número não\n",
    "pode possuir casas decimais, será convertido para **int**."
   ]
  },
  {
   "cell_type": "code",
   "execution_count": null,
   "metadata": {
    "ExecuteTime": {
     "end_time": "2023-05-22T23:43:26.424184202Z",
     "start_time": "2023-05-22T23:43:26.336989884Z"
    }
   },
   "outputs": [],
   "source": [
    "# Alterando o tipo do dado\n",
    "orders_full = orders_full.withColumn('product_description_lenght', col('product_description_lenght').cast('int'))"
   ]
  },
  {
   "attachments": {},
   "cell_type": "markdown",
   "metadata": {},
   "source": [
    "### product_photos_qty"
   ]
  },
  {
   "cell_type": "code",
   "execution_count": null,
   "metadata": {
    "ExecuteTime": {
     "end_time": "2023-05-22T23:43:41.091580393Z",
     "start_time": "2023-05-22T23:43:26.382656067Z"
    }
   },
   "outputs": [],
   "source": [
    "# Checando a coluna\n",
    "orders_full.select('product_photos_qty').show()"
   ]
  },
  {
   "attachments": {},
   "cell_type": "markdown",
   "metadata": {},
   "source": [
    "A coluna contém um dado com a quantidade de fotos do produto. Como esse número não\n",
    "pode possuir casas decimais, será convertido para **int**."
   ]
  },
  {
   "cell_type": "code",
   "execution_count": null,
   "metadata": {
    "ExecuteTime": {
     "end_time": "2023-05-22T23:43:41.158598283Z",
     "start_time": "2023-05-22T23:43:41.097491186Z"
    }
   },
   "outputs": [],
   "source": [
    "# Alterando o tipo do dado\n",
    "orders_full = orders_full.withColumn('product_photos_qty', col('product_photos_qty').cast('int'))"
   ]
  },
  {
   "attachments": {},
   "cell_type": "markdown",
   "metadata": {},
   "source": [
    "### product_weight_g"
   ]
  },
  {
   "cell_type": "code",
   "execution_count": null,
   "metadata": {
    "ExecuteTime": {
     "end_time": "2023-05-22T23:43:55.542680036Z",
     "start_time": "2023-05-22T23:43:41.131155215Z"
    }
   },
   "outputs": [],
   "source": [
    "# Checando a coluna\n",
    "orders_full.select('product_weight_g').show()"
   ]
  },
  {
   "attachments": {},
   "cell_type": "markdown",
   "metadata": {},
   "source": [
    "A coluna contém um dado com o peso do produto em gramas. Como esse número não\n",
    "pode possuir casas decimais, será convertido para **int**."
   ]
  },
  {
   "cell_type": "code",
   "execution_count": null,
   "metadata": {
    "ExecuteTime": {
     "end_time": "2023-05-22T23:43:55.619421579Z",
     "start_time": "2023-05-22T23:43:55.544578968Z"
    }
   },
   "outputs": [],
   "source": [
    "# Alterando o tipo do dado\n",
    "orders_full = orders_full.withColumn('product_weight_g', col('product_weight_g').cast('int'))"
   ]
  },
  {
   "attachments": {},
   "cell_type": "markdown",
   "metadata": {},
   "source": [
    "### product_length_cm"
   ]
  },
  {
   "cell_type": "code",
   "execution_count": null,
   "metadata": {
    "ExecuteTime": {
     "end_time": "2023-05-22T23:44:10.087244641Z",
     "start_time": "2023-05-22T23:43:55.593679374Z"
    }
   },
   "outputs": [],
   "source": [
    "# Checando a coluna\n",
    "orders_full.select('product_length_cm').show()"
   ]
  },
  {
   "attachments": {},
   "cell_type": "markdown",
   "metadata": {},
   "source": [
    "A coluna contém um dado com o comprimento do produto em centímetros. Como esse número não\n",
    "pode possuir casas decimais, será convertido para **int**."
   ]
  },
  {
   "cell_type": "code",
   "execution_count": null,
   "metadata": {
    "ExecuteTime": {
     "end_time": "2023-05-22T23:44:10.153885555Z",
     "start_time": "2023-05-22T23:44:10.090488049Z"
    }
   },
   "outputs": [],
   "source": [
    "# Alterando o tipo do dado\n",
    "orders_full = orders_full.withColumn('product_length_cm', col('product_length_cm').cast('int'))"
   ]
  },
  {
   "attachments": {},
   "cell_type": "markdown",
   "metadata": {},
   "source": [
    "### product_height_cm"
   ]
  },
  {
   "cell_type": "code",
   "execution_count": null,
   "metadata": {
    "ExecuteTime": {
     "end_time": "2023-05-22T23:44:24.724410238Z",
     "start_time": "2023-05-22T23:44:10.122377731Z"
    }
   },
   "outputs": [],
   "source": [
    "# Checando a coluna\n",
    "orders_full.select('product_height_cm').show()"
   ]
  },
  {
   "attachments": {},
   "cell_type": "markdown",
   "metadata": {},
   "source": [
    "A coluna contém um dado com a altura do produto em centímetros. Como esse número não\n",
    "pode possuir casas decimais, será convertido para **int**."
   ]
  },
  {
   "cell_type": "code",
   "execution_count": null,
   "metadata": {
    "ExecuteTime": {
     "end_time": "2023-05-22T23:44:24.822273487Z",
     "start_time": "2023-05-22T23:44:24.726457737Z"
    }
   },
   "outputs": [],
   "source": [
    "# Alterando o tipo do dado\n",
    "orders_full = orders_full.withColumn('product_height_cm', col('product_height_cm').cast('int'))"
   ]
  },
  {
   "attachments": {},
   "cell_type": "markdown",
   "metadata": {},
   "source": [
    "### product_width_cm"
   ]
  },
  {
   "cell_type": "code",
   "execution_count": null,
   "metadata": {
    "ExecuteTime": {
     "end_time": "2023-05-22T23:44:40.613848440Z",
     "start_time": "2023-05-22T23:44:24.773729232Z"
    }
   },
   "outputs": [],
   "source": [
    "# Checando a coluna\n",
    "orders_full.select('product_width_cm').show()"
   ]
  },
  {
   "attachments": {},
   "cell_type": "markdown",
   "metadata": {},
   "source": [
    "A coluna contém um dado com a largura do produto em centímetros. Como esse número não\n",
    "pode possuir casas decimais, será convertido para **int**."
   ]
  },
  {
   "cell_type": "code",
   "execution_count": null,
   "metadata": {
    "ExecuteTime": {
     "end_time": "2023-05-22T23:44:40.695200080Z",
     "start_time": "2023-05-22T23:44:40.616371561Z"
    }
   },
   "outputs": [],
   "source": [
    "# Alterando o tipo do dado\n",
    "orders_full = orders_full.withColumn('product_width_cm', col('product_width_cm').cast('int'))"
   ]
  },
  {
   "attachments": {},
   "cell_type": "markdown",
   "metadata": {},
   "source": [
    "#### Criando novas features"
   ]
  },
  {
   "attachments": {},
   "cell_type": "markdown",
   "metadata": {},
   "source": [
    "Agora que a tabela já parece estar boa, irei criar uma novas features. A primeira \n",
    "será criada a partir das colunas ``customer_state`` e ``seller_state``, criando categorias para os \n",
    "estados, onde cada estado vai receber a região em que se localiza no Brasil."
   ]
  },
  {
   "cell_type": "code",
   "execution_count": null,
   "metadata": {
    "ExecuteTime": {
     "end_time": "2023-05-22T23:44:40.702714276Z",
     "start_time": "2023-05-22T23:44:40.652297707Z"
    }
   },
   "outputs": [],
   "source": [
    "# Criando lista de regiões  \n",
    "estados_norte = ['AC', 'AM', 'RO', 'RR', 'AP', 'TO', 'PA']\n",
    "estados_nordeste = ['MA', 'PI', 'CE', 'RN', 'PB', 'PE', 'AL', 'BA', 'SE']\n",
    "estados_centro = ['MT', 'MS', 'DF', 'GO']\n",
    "estados_sudeste = ['MG', 'SP', 'ES', 'RJ']\n",
    "estados_sul = ['PR', 'SC', 'RS']\n",
    "\n",
    "# Criando função \n",
    "func = lambda estado: 'NORTE' if estado in estados_norte else \\\n",
    "        ('NORDESTE' if estado in estados_nordeste else \\\n",
    "        ('CENTRO-OESTE' if estado in estados_centro else \\\n",
    "        ('SUDESTE' if estado in estados_sudeste else 'SUL')))\n",
    "\n",
    "func_udf = udf(func, StringType())"
   ]
  },
  {
   "cell_type": "code",
   "execution_count": null,
   "metadata": {
    "ExecuteTime": {
     "end_time": "2023-05-22T23:44:40.759845764Z",
     "start_time": "2023-05-22T23:44:40.663227290Z"
    }
   },
   "outputs": [],
   "source": [
    "# Aplicando a função\n",
    "orders_full = orders_full.withColumn(\"customer_region\", func_udf(\"customer_state\"))\n",
    "orders_full = orders_full.withColumn(\"seller_region\", func_udf(\"seller_state\"))"
   ]
  },
  {
   "attachments": {},
   "cell_type": "markdown",
   "metadata": {},
   "source": [
    "Agora, irei criar uma nova coluna para resumir as categorias da coluna\n",
    "``product_category_name``."
   ]
  },
  {
   "cell_type": "code",
   "execution_count": null,
   "metadata": {
    "ExecuteTime": {
     "end_time": "2023-05-22T23:44:40.810329168Z",
     "start_time": "2023-05-22T23:44:40.757241744Z"
    }
   },
   "outputs": [],
   "source": [
    "# Criando novas categorias\n",
    "eletronicos_e_tecnologia = ['pcs', 'pc_gamer', 'tablets_impressao_imagem', \n",
    "                            'telefonia_fixa', 'telefonia', \n",
    "                            'informatica_acessorios', 'eletronicos', 'audio', \n",
    "                            'consoles_games', 'dvds_blu_ray']\n",
    "\n",
    "moda_e_acessorios = ['fashion_roupa_masculina', 'fashion_roupa_feminina',\n",
    "                     'fashion_roupa_infanto_juvenil',\n",
    "                     'fashion_underwear_e_moda_praia',\n",
    "                     'fashion_bolsas_e_acessorios', 'fashion_calcados',\n",
    "                     'fashion_esporte']\n",
    "\n",
    "casa_e_decoracao = ['moveis_decoracao', 'moveis_colchao_e_estofado', \n",
    "                    'moveis_cozinha_area_de_servico_jantar_e_jardim', \n",
    "                    'moveis_quarto', 'moveis_sala', 'utilidades_domesticas', \n",
    "                    'cama_mesa_banho', 'casa_construcao', 'casa_conforto', \n",
    "                    'casa_conforto_2']\n",
    "\n",
    "livros_e_educacao = ['livros_tecnicos', 'livros_importados', \n",
    "                     'livros_interesse_geral']\n",
    "\n",
    "beleza_e_saude = ['beleza_saude', 'fraldas_higiene', 'perfumaria']\n",
    "\n",
    "brinquedos_e_jogos = ['brinquedos', 'jogos', 'instrumentos_musicais']\n",
    "\n",
    "alimentos_e_bebidas = ['alimentos_bebidas', 'bebidas', 'alimentos']\n",
    "\n",
    "artigos_para_festas = ['artigos_de_festas', 'artigos_de_natal']\n",
    "\n",
    "arte_e_artesanato = ['artes', 'cine_foto', 'artes_e_artesanato']\n",
    "\n",
    "ferramentas_e_construcao = ['construcao_ferramentas_construcao', \n",
    "                            'construcao_ferramentas_seguranca', \n",
    "                            'construcao_ferramentas_jardim', \n",
    "                            'construcao_ferramentas_iluminacao', \n",
    "                            'construcao_ferramentas_ferramentas']\n",
    "\n",
    "esporte_e_lazer = ['esporte_lazer']\n",
    "\n",
    "outros = ['cool_stuff', 'flores', 'industria_comercio_e_negocios', \n",
    "          'malas_acessorios', 'seguros_e_servicos', 'market_place', \n",
    "          'relogios_presentes', 'papelaria', 'climatizacao', \n",
    "          'sinalizacao_e_seguranca', 'agro_industria_e_comercio', \n",
    "          'cds_dvds_musicais', 'musica', 'eletroportateis']"
   ]
  },
  {
   "cell_type": "code",
   "execution_count": null,
   "metadata": {
    "ExecuteTime": {
     "end_time": "2023-05-22T23:44:40.811530592Z",
     "start_time": "2023-05-22T23:44:40.810832560Z"
    }
   },
   "outputs": [],
   "source": [
    "# Criando a função\n",
    "func = lambda categoria: 'eletronicos e tecnologia' if categoria in eletronicos_e_tecnologia else \\\n",
    "       ('moda e acessorios' if categoria in moda_e_acessorios else \\\n",
    "       ('casa e decoracao' if categoria in casa_e_decoracao else \\\n",
    "       ('livros e educacao' if categoria in livros_e_educacao else \\\n",
    "       ('beleza e saude' if categoria in beleza_e_saude else \\\n",
    "       ('brinquedos e jogos' if categoria in brinquedos_e_jogos else \\\n",
    "       ('alimentos_e_bebidas' if categoria in alimentos_e_bebidas else \\\n",
    "       ('artigos para festas' if categoria in artigos_para_festas else \\\n",
    "       ('arte e artesanato' if categoria in arte_e_artesanato else \\\n",
    "       ('ferramentas e construcao' if categoria in ferramentas_e_construcao else \\\n",
    "       ('esporte e lazer' if categoria in esporte_e_lazer else 'outros'))))))))))\n",
    "       \n",
    "func_udf = udf(func, StringType())\n"
   ]
  },
  {
   "cell_type": "code",
   "execution_count": null,
   "metadata": {
    "ExecuteTime": {
     "end_time": "2023-05-22T23:44:40.871574471Z",
     "start_time": "2023-05-22T23:44:40.811887393Z"
    }
   },
   "outputs": [],
   "source": [
    "# Criando nova coluna\n",
    "orders_full = orders_full.withColumn('sub_category_product_name', func_udf('product_category_name'))"
   ]
  },
  {
   "attachments": {},
   "cell_type": "markdown",
   "metadata": {},
   "source": [
    "Como novas colunas, irei criar novas unidades de medida a partir  das \n",
    "unidades das colunas ``product_weight_g``, ``product_length_cm``, \n",
    "``product_height_cm`` e ``product_width_cm``."
   ]
  },
  {
   "cell_type": "code",
   "execution_count": null,
   "metadata": {
    "ExecuteTime": {
     "end_time": "2023-05-22T23:44:40.978582115Z",
     "start_time": "2023-05-22T23:44:40.858005109Z"
    }
   },
   "outputs": [],
   "source": [
    "# Alterando a unidade de medida das colunas\n",
    "orders_full = orders_full.withColumn('product_weight_kg', col('product_weight_g')/1000)\n",
    "orders_full = orders_full.withColumn('product_length_m', col('product_length_cm')/100)\n",
    "orders_full = orders_full.withColumn('product_height_m', col('product_height_cm')/100)\n",
    "orders_full = orders_full.withColumn('product_width_m', col('product_width_cm')/100)\n"
   ]
  },
  {
   "attachments": {},
   "cell_type": "markdown",
   "metadata": {},
   "source": [
    "E para finalizar, irei extrair novas colunas a partir dos dados que representam datas."
   ]
  },
  {
   "cell_type": "code",
   "execution_count": null,
   "metadata": {
    "ExecuteTime": {
     "end_time": "2023-05-22T23:44:41.074455994Z",
     "start_time": "2023-05-22T23:44:40.982640873Z"
    }
   },
   "outputs": [],
   "source": [
    "# Obtendo o dia da semana da compra\n",
    "orders_full = orders_full.withColumn('order_day_of_week', dayofweek('order_purchase_timestamp'))\n",
    "\n",
    "# Criando uma função para obter o nome do dia da semana\n",
    "func = lambda dia: 'sunday' if dia == 1 else  \\\n",
    "        ('monday' if dia == 2 else  \\\n",
    "        ('tuesday' if dia == 3 else  \\\n",
    "        ('wednesday' if dia == 4 else  \\\n",
    "        ('thursday' if dia == 5 else  \\\n",
    "        ('friday' if dia == 6 else 'saturday')))))\n",
    "\n",
    "func_udf = udf(func, StringType())\n",
    "\n",
    "# Aplicando a função\n",
    "orders_full = orders_full.withColumn('order_name_day_of_week', func_udf('order_day_of_week'))"
   ]
  },
  {
   "cell_type": "code",
   "execution_count": null,
   "metadata": {
    "ExecuteTime": {
     "end_time": "2023-05-22T23:44:41.152151756Z",
     "start_time": "2023-05-22T23:44:41.075304202Z"
    }
   },
   "outputs": [],
   "source": [
    "# Obtendo o mês da compŕa\n",
    "orders_full = orders_full.withColumn('order_month', month('order_purchase_timestamp'))\n",
    "\n",
    "# Criando uma função para nomear os meses\n",
    "func = lambda mes: 'january' if mes == 1 else  \\\n",
    "        ('february' if mes == 2 else  \\\n",
    "        ('march' if mes == 3 else  \\\n",
    "        ('april' if mes == 4 else  \\\n",
    "        ('may' if mes == 5 else  \\\n",
    "        ('june' if mes == 6 else  \\\n",
    "        ('july' if mes == 7 else  \\\n",
    "        ('august' if mes == 8 else  \\\n",
    "        ('september' if mes == 9 else  \\\n",
    "        ('october' if mes == 10 else  \\\n",
    "        ('november' if mes == 11 else 'december'))))))))))\n",
    "        \n",
    "func_udf = udf(func, StringType())\n",
    "\n",
    "# Aplicando a função\n",
    "orders_full = orders_full.withColumn('order_name_month', func_udf('order_month'))"
   ]
  },
  {
   "cell_type": "code",
   "execution_count": null,
   "metadata": {
    "ExecuteTime": {
     "end_time": "2023-05-22T23:44:41.241894899Z",
     "start_time": "2023-05-22T23:44:41.154657884Z"
    }
   },
   "outputs": [],
   "source": [
    "# Obtendo a hora da compra\n",
    "orders_full = orders_full.withColumn('order_hour', hour('order_purchase_timestamp'))"
   ]
  },
  {
   "cell_type": "code",
   "execution_count": null,
   "metadata": {
    "ExecuteTime": {
     "end_time": "2023-05-22T23:44:41.287299763Z",
     "start_time": "2023-05-22T23:44:41.242403637Z"
    }
   },
   "outputs": [],
   "source": [
    "# Obtendo o tempo de processamento do pedido\n",
    "orders_full = orders_full.withColumn('order_processing_days', datediff('order_approved_at', 'order_purchase_timestamp'))"
   ]
  },
  {
   "cell_type": "code",
   "execution_count": null,
   "metadata": {
    "ExecuteTime": {
     "end_time": "2023-05-22T23:44:41.334278136Z",
     "start_time": "2023-05-22T23:44:41.285896020Z"
    }
   },
   "outputs": [],
   "source": [
    "# Calculando a diferença de dias entre a data do pedido e a data de entrega\n",
    "orders_full = orders_full.withColumn('order_delivery_days', datediff('order_delivered_customer_date', 'order_purchase_timestamp'))"
   ]
  },
  {
   "attachments": {},
   "cell_type": "markdown",
   "metadata": {},
   "source": [
    "## Salvando os dados"
   ]
  },
  {
   "cell_type": "code",
   "execution_count": null,
   "metadata": {
    "ExecuteTime": {
     "end_time": "2023-05-22T23:44:41.394094497Z",
     "start_time": "2023-05-22T23:44:41.329894128Z"
    }
   },
   "outputs": [],
   "source": [
    "# Criando o db\n",
    "db_connection = mysql.connector.connect(user=\"root\", password=\"123456\", host=\"localhost\", auth_plugin='mysql_native_password')\n",
    "db_cursor = db_connection.cursor()\n",
    "db_cursor.execute(\"CREATE DATABASE IF NOT EXISTS dbTeste;\")"
   ]
  },
  {
   "cell_type": "code",
   "execution_count": null,
   "metadata": {
    "ExecuteTime": {
     "end_time": "2023-05-22T23:44:42.081175243Z",
     "start_time": "2023-05-22T23:44:41.374885921Z"
    }
   },
   "outputs": [],
   "source": [
    "mysql_url = \"jdbc:mysql://localhost:3306/dbTeste\"\n",
    "mysql_properties = {\n",
    "    \"user\": \"root\",\n",
    "    \"password\": \"123456\",\n",
    "    \"driver\": \"com.mysql.jdbc.Driver\"\n",
    "}\n",
    "\n",
    "#orders_full.write.jdbc(mysql_url, \"tableteste\", mode=\"overwrite\", properties=mysql_properties)\n",
    "orders_full.write \\\n",
    "    .format(\"jdbc\") \\\n",
    "    .option(\"url\", mysql_url) \\\n",
    "    .option(\"dbtable\", \"teste\") \\\n",
    "    .mode(\"overwrite\") \\\n",
    "    .options(**mysql_properties) \\\n",
    "    .save()\n",
    "\n"
   ]
  },
  {
   "cell_type": "code",
   "execution_count": null,
   "metadata": {},
   "outputs": [],
   "source": [
    "\n",
    "# Write to MySQL Table\n",
    "orders_full.write \\\n",
    "  .format(\"jdbc\") \\\n",
    "  .option(\"driver\",\"com.mysql.cj.jdbc.Driver\") \\\n",
    "  .option(\"url\", \"jdbc:mysql://localhost:3306/dbTeste\") \\\n",
    "  .option(\"dbtable\", \"dbTeste\") \\\n",
    "  .option(\"user\", \"root\") \\\n",
    "  .option(\"password\", \"123456\") \\\n",
    "  .save('append')\n"
   ]
  }
 ],
 "metadata": {
  "kernelspec": {
   "display_name": "venv",
   "language": "python",
   "name": "python3"
  },
  "language_info": {
   "codemirror_mode": {
    "name": "ipython",
    "version": 3
   },
   "file_extension": ".py",
   "mimetype": "text/x-python",
   "name": "python",
   "nbconvert_exporter": "python",
   "pygments_lexer": "ipython3",
   "version": "3.10.6"
  },
  "orig_nbformat": 4
 },
 "nbformat": 4,
 "nbformat_minor": 2
}
